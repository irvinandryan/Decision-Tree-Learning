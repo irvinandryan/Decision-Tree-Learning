{
 "cells": [
  {
   "cell_type": "markdown",
   "id": "368f5590",
   "metadata": {},
   "source": [
    "# Tucil 1 IF3270 Machine Learning"
   ]
  },
  {
   "cell_type": "markdown",
   "id": "62cec6eb",
   "metadata": {},
   "source": [
    "### 13519153 Maximillian Lukman - 13519162 Irvin Andryan Pratomo"
   ]
  },
  {
   "cell_type": "code",
   "execution_count": 89,
   "id": "39460860",
   "metadata": {},
   "outputs": [],
   "source": [
    "from sklearn import datasets, tree, model_selection, preprocessing, metrics, svm, cluster, linear_model, neural_network"
   ]
  },
  {
   "cell_type": "code",
   "execution_count": 90,
   "id": "02ba994b",
   "metadata": {},
   "outputs": [],
   "source": [
    "import six\n",
    "import sys\n",
    "sys.modules['sklearn.externals.six'] = six"
   ]
  },
  {
   "cell_type": "code",
   "execution_count": 91,
   "id": "ac31b383",
   "metadata": {},
   "outputs": [],
   "source": [
    "from id3 import Id3Estimator"
   ]
  },
  {
   "cell_type": "code",
   "execution_count": 92,
   "id": "3c8706d5",
   "metadata": {},
   "outputs": [],
   "source": [
    "import pandas as pd"
   ]
  },
  {
   "cell_type": "code",
   "execution_count": 93,
   "id": "f53ee447",
   "metadata": {},
   "outputs": [],
   "source": [
    "#load data from sklearn.datasets\n",
    "cancer = datasets.load_breast_cancer()"
   ]
  },
  {
   "cell_type": "code",
   "execution_count": 94,
   "id": "ff1bf404",
   "metadata": {
    "scrolled": true
   },
   "outputs": [],
   "source": [
    "#load data from csv file\n",
    "tennis = pd.read_csv('play_tennis.csv')"
   ]
  },
  {
   "cell_type": "code",
   "execution_count": 95,
   "id": "9d757231",
   "metadata": {},
   "outputs": [],
   "source": [
    "#transform label for tennis\n",
    "le = preprocessing.LabelEncoder()\n",
    "\n",
    "tennis = tennis.drop('day', axis = 1) #----> day perlu dimasukkan sebagai data training gak ya?\n",
    "#tennis['day'] = le.fit_transform(tennis['day']) #kalau day gamasuk line ini hapus\n",
    "tennis['outlook'] = le.fit_transform(tennis['outlook'])\n",
    "tennis['temp'] = le.fit_transform(tennis['temp'])\n",
    "tennis['humidity'] = le.fit_transform(tennis['humidity'])\n",
    "tennis['wind'] = le.fit_transform(tennis['wind'])\n",
    "tennis['play'] = le.fit_transform(tennis['play'])"
   ]
  },
  {
   "cell_type": "code",
   "execution_count": 96,
   "id": "8eb44d25",
   "metadata": {},
   "outputs": [],
   "source": [
    "X_cancer = cancer.data\n",
    "y_cancer = cancer.target"
   ]
  },
  {
   "cell_type": "code",
   "execution_count": 97,
   "id": "004ab270",
   "metadata": {},
   "outputs": [],
   "source": [
    "X_tennis = tennis.drop('play', axis = 1)\n",
    "y_tennis = tennis.play"
   ]
  },
  {
   "cell_type": "code",
   "execution_count": 98,
   "id": "b5aefc98",
   "metadata": {},
   "outputs": [],
   "source": [
    "#Set training data to 80% and test data to 20% for cancer\n",
    "X_train_cancer, X_test_cancer, y_train_cancer, y_test_cancer = model_selection.train_test_split(X_cancer[:,0:4],y_cancer,test_size=0.2,shuffle=True)"
   ]
  },
  {
   "cell_type": "code",
   "execution_count": 99,
   "id": "6e862a55",
   "metadata": {},
   "outputs": [],
   "source": [
    "#Set training data to 80% and test data to 20% for tennis\n",
    "X_train_tennis, X_test_tennis, y_train_tennis, y_test_tennis = model_selection.train_test_split(X_tennis,y_tennis,test_size=0.2,shuffle=True)"
   ]
  },
  {
   "cell_type": "markdown",
   "id": "b96485c5",
   "metadata": {},
   "source": [
    "## Decision Tree Classifier"
   ]
  },
  {
   "cell_type": "code",
   "execution_count": 31,
   "id": "0dbef8ca",
   "metadata": {},
   "outputs": [],
   "source": [
    "decision_tree = tree.DecisionTreeClassifier(criterion='entropy', max_depth=20)"
   ]
  },
  {
   "cell_type": "code",
   "execution_count": 32,
   "id": "d2946daa",
   "metadata": {},
   "outputs": [
    {
     "name": "stdout",
     "output_type": "stream",
     "text": [
      "|--- feature_0 <= 0.50\n",
      "|   |--- class: 1\n",
      "|--- feature_0 >  0.50\n",
      "|   |--- feature_3 <= 0.50\n",
      "|   |   |--- feature_1 <= 1.50\n",
      "|   |   |   |--- class: 0\n",
      "|   |   |--- feature_1 >  1.50\n",
      "|   |   |   |--- class: 1\n",
      "|   |--- feature_3 >  0.50\n",
      "|   |   |--- feature_0 <= 1.50\n",
      "|   |   |   |--- class: 1\n",
      "|   |   |--- feature_0 >  1.50\n",
      "|   |   |   |--- feature_2 <= 0.50\n",
      "|   |   |   |   |--- class: 0\n",
      "|   |   |   |--- feature_2 >  0.50\n",
      "|   |   |   |   |--- class: 1\n",
      "\n"
     ]
    }
   ],
   "source": [
    "#decision tree for tennis\n",
    "decision_tree_tennis = decision_tree.fit(X_train_tennis, y_train_tennis)\n",
    "r_tennis = tree.export_text(decision_tree_tennis)\n",
    "print(r_tennis)"
   ]
  },
  {
   "cell_type": "code",
   "execution_count": 33,
   "id": "3a522347",
   "metadata": {},
   "outputs": [
    {
     "name": "stdout",
     "output_type": "stream",
     "text": [
      "Decision Tree Classifier: Tennis\n",
      "Accuracy: 0.6666666666666666\n",
      "F1: 0.6666666666666666\n"
     ]
    }
   ],
   "source": [
    "prediction_tennis_decisionTreeClassifier = decision_tree_tennis.predict(X_test_tennis)\n",
    "print(\"Decision Tree Classifier: Tennis\")\n",
    "print(\"Accuracy:\", metrics.accuracy_score(y_test_tennis, prediction_tennis_decisionTreeClassifier))\n",
    "print(\"F1:\", metrics.f1_score(y_test_tennis, prediction_tennis_decisionTreeClassifier, average=\"macro\"))"
   ]
  },
  {
   "cell_type": "code",
   "execution_count": 34,
   "id": "a93f7690",
   "metadata": {},
   "outputs": [
    {
     "name": "stdout",
     "output_type": "stream",
     "text": [
      "|--- feature_3 <= 696.25\n",
      "|   |--- feature_2 <= 85.94\n",
      "|   |   |--- feature_2 <= 71.85\n",
      "|   |   |   |--- class: 1\n",
      "|   |   |--- feature_2 >  71.85\n",
      "|   |   |   |--- feature_3 <= 377.95\n",
      "|   |   |   |   |--- class: 0\n",
      "|   |   |   |--- feature_3 >  377.95\n",
      "|   |   |   |   |--- feature_1 <= 22.34\n",
      "|   |   |   |   |   |--- feature_3 <= 477.20\n",
      "|   |   |   |   |   |   |--- feature_3 <= 476.90\n",
      "|   |   |   |   |   |   |   |--- feature_3 <= 430.00\n",
      "|   |   |   |   |   |   |   |   |--- class: 1\n",
      "|   |   |   |   |   |   |   |--- feature_3 >  430.00\n",
      "|   |   |   |   |   |   |   |   |--- feature_0 <= 11.85\n",
      "|   |   |   |   |   |   |   |   |   |--- feature_2 <= 76.60\n",
      "|   |   |   |   |   |   |   |   |   |   |--- feature_0 <= 11.78\n",
      "|   |   |   |   |   |   |   |   |   |   |   |--- class: 0\n",
      "|   |   |   |   |   |   |   |   |   |   |--- feature_0 >  11.78\n",
      "|   |   |   |   |   |   |   |   |   |   |   |--- class: 1\n",
      "|   |   |   |   |   |   |   |   |   |--- feature_2 >  76.60\n",
      "|   |   |   |   |   |   |   |   |   |   |--- class: 0\n",
      "|   |   |   |   |   |   |   |   |--- feature_0 >  11.85\n",
      "|   |   |   |   |   |   |   |   |   |--- class: 1\n",
      "|   |   |   |   |   |   |--- feature_3 >  476.90\n",
      "|   |   |   |   |   |   |   |--- class: 0\n",
      "|   |   |   |   |   |--- feature_3 >  477.20\n",
      "|   |   |   |   |   |   |--- class: 1\n",
      "|   |   |   |   |--- feature_1 >  22.34\n",
      "|   |   |   |   |   |--- feature_3 <= 470.65\n",
      "|   |   |   |   |   |   |--- class: 1\n",
      "|   |   |   |   |   |--- feature_3 >  470.65\n",
      "|   |   |   |   |   |   |--- feature_3 <= 507.10\n",
      "|   |   |   |   |   |   |   |--- class: 0\n",
      "|   |   |   |   |   |   |--- feature_3 >  507.10\n",
      "|   |   |   |   |   |   |   |--- class: 1\n",
      "|   |--- feature_2 >  85.94\n",
      "|   |   |--- feature_1 <= 20.21\n",
      "|   |   |   |--- feature_0 <= 13.20\n",
      "|   |   |   |   |--- class: 0\n",
      "|   |   |   |--- feature_0 >  13.20\n",
      "|   |   |   |   |--- feature_2 <= 90.37\n",
      "|   |   |   |   |   |--- class: 1\n",
      "|   |   |   |   |--- feature_2 >  90.37\n",
      "|   |   |   |   |   |--- feature_3 <= 616.15\n",
      "|   |   |   |   |   |   |--- class: 0\n",
      "|   |   |   |   |   |--- feature_3 >  616.15\n",
      "|   |   |   |   |   |   |--- feature_2 <= 96.53\n",
      "|   |   |   |   |   |   |   |--- class: 1\n",
      "|   |   |   |   |   |   |--- feature_2 >  96.53\n",
      "|   |   |   |   |   |   |   |--- feature_2 <= 96.94\n",
      "|   |   |   |   |   |   |   |   |--- class: 0\n",
      "|   |   |   |   |   |   |   |--- feature_2 >  96.94\n",
      "|   |   |   |   |   |   |   |   |--- feature_2 <= 98.43\n",
      "|   |   |   |   |   |   |   |   |   |--- class: 1\n",
      "|   |   |   |   |   |   |   |   |--- feature_2 >  98.43\n",
      "|   |   |   |   |   |   |   |   |   |--- feature_0 <= 14.95\n",
      "|   |   |   |   |   |   |   |   |   |   |--- class: 0\n",
      "|   |   |   |   |   |   |   |   |   |--- feature_0 >  14.95\n",
      "|   |   |   |   |   |   |   |   |   |   |--- class: 1\n",
      "|   |   |--- feature_1 >  20.21\n",
      "|   |   |   |--- feature_2 <= 87.24\n",
      "|   |   |   |   |--- feature_3 <= 562.00\n",
      "|   |   |   |   |   |--- class: 1\n",
      "|   |   |   |   |--- feature_3 >  562.00\n",
      "|   |   |   |   |   |--- class: 0\n",
      "|   |   |   |--- feature_2 >  87.24\n",
      "|   |   |   |   |--- feature_3 <= 583.75\n",
      "|   |   |   |   |   |--- class: 0\n",
      "|   |   |   |   |--- feature_3 >  583.75\n",
      "|   |   |   |   |   |--- feature_2 <= 90.21\n",
      "|   |   |   |   |   |   |--- class: 1\n",
      "|   |   |   |   |   |--- feature_2 >  90.21\n",
      "|   |   |   |   |   |   |--- feature_1 <= 23.98\n",
      "|   |   |   |   |   |   |   |--- feature_3 <= 689.35\n",
      "|   |   |   |   |   |   |   |   |--- feature_1 <= 20.99\n",
      "|   |   |   |   |   |   |   |   |   |--- feature_3 <= 630.55\n",
      "|   |   |   |   |   |   |   |   |   |   |--- class: 1\n",
      "|   |   |   |   |   |   |   |   |   |--- feature_3 >  630.55\n",
      "|   |   |   |   |   |   |   |   |   |   |--- class: 0\n",
      "|   |   |   |   |   |   |   |   |--- feature_1 >  20.99\n",
      "|   |   |   |   |   |   |   |   |   |--- feature_3 <= 657.00\n",
      "|   |   |   |   |   |   |   |   |   |   |--- class: 0\n",
      "|   |   |   |   |   |   |   |   |   |--- feature_3 >  657.00\n",
      "|   |   |   |   |   |   |   |   |   |   |--- feature_3 <= 660.90\n",
      "|   |   |   |   |   |   |   |   |   |   |   |--- class: 1\n",
      "|   |   |   |   |   |   |   |   |   |   |--- feature_3 >  660.90\n",
      "|   |   |   |   |   |   |   |   |   |   |   |--- class: 0\n",
      "|   |   |   |   |   |   |   |--- feature_3 >  689.35\n",
      "|   |   |   |   |   |   |   |   |--- class: 1\n",
      "|   |   |   |   |   |   |--- feature_1 >  23.98\n",
      "|   |   |   |   |   |   |   |--- feature_2 <= 96.27\n",
      "|   |   |   |   |   |   |   |   |--- class: 1\n",
      "|   |   |   |   |   |   |   |--- feature_2 >  96.27\n",
      "|   |   |   |   |   |   |   |   |--- class: 0\n",
      "|--- feature_3 >  696.25\n",
      "|   |--- feature_1 <= 16.11\n",
      "|   |   |--- feature_2 <= 114.80\n",
      "|   |   |   |--- feature_3 <= 742.05\n",
      "|   |   |   |   |--- feature_2 <= 100.33\n",
      "|   |   |   |   |   |--- class: 1\n",
      "|   |   |   |   |--- feature_2 >  100.33\n",
      "|   |   |   |   |   |--- class: 0\n",
      "|   |   |   |--- feature_3 >  742.05\n",
      "|   |   |   |   |--- class: 1\n",
      "|   |   |--- feature_2 >  114.80\n",
      "|   |   |   |--- class: 0\n",
      "|   |--- feature_1 >  16.11\n",
      "|   |   |--- feature_2 <= 108.60\n",
      "|   |   |   |--- feature_3 <= 832.45\n",
      "|   |   |   |   |--- class: 0\n",
      "|   |   |   |--- feature_3 >  832.45\n",
      "|   |   |   |   |--- feature_1 <= 19.83\n",
      "|   |   |   |   |   |--- class: 1\n",
      "|   |   |   |   |--- feature_1 >  19.83\n",
      "|   |   |   |   |   |--- class: 0\n",
      "|   |   |--- feature_2 >  108.60\n",
      "|   |   |   |--- class: 0\n",
      "\n"
     ]
    }
   ],
   "source": [
    "#decision tree for cancer\n",
    "decision_tree_cancer = decision_tree.fit(X_train_cancer, y_train_cancer)\n",
    "r_cancer = tree.export_text(decision_tree_cancer)\n",
    "print(r_cancer)"
   ]
  },
  {
   "cell_type": "code",
   "execution_count": 35,
   "id": "1c88f2bc",
   "metadata": {
    "scrolled": true
   },
   "outputs": [
    {
     "name": "stdout",
     "output_type": "stream",
     "text": [
      "Decision Tree Classifier: Cancer\n",
      "Accuracy: 0.9122807017543859\n",
      "F1: 0.9066491975106454\n"
     ]
    }
   ],
   "source": [
    "prediction_cancer_decisionTreeClassifier = decision_tree_cancer.predict(X_test_cancer)\n",
    "print(\"Decision Tree Classifier: Cancer\")\n",
    "print(\"Accuracy:\", metrics.accuracy_score(y_test_cancer, prediction_cancer_decisionTreeClassifier))\n",
    "print(\"F1:\", metrics.f1_score(y_test_cancer, prediction_cancer_decisionTreeClassifier, average=\"macro\"))"
   ]
  },
  {
   "cell_type": "markdown",
   "id": "a282a633",
   "metadata": {},
   "source": [
    "## Id3Estimator"
   ]
  },
  {
   "cell_type": "code",
   "execution_count": 36,
   "id": "dd9dfcaa",
   "metadata": {},
   "outputs": [],
   "source": [
    "estimator = Id3Estimator()"
   ]
  },
  {
   "cell_type": "code",
   "execution_count": 37,
   "id": "5c80a89e",
   "metadata": {},
   "outputs": [],
   "source": [
    "estimator_tennis = estimator.fit(X_train_tennis, y_train_tennis)"
   ]
  },
  {
   "cell_type": "code",
   "execution_count": 38,
   "id": "74b72709",
   "metadata": {},
   "outputs": [
    {
     "name": "stdout",
     "output_type": "stream",
     "text": [
      "Id3Estimator: Tennis\n",
      "Accuracy: 1.0\n",
      "F1: 1.0\n"
     ]
    }
   ],
   "source": [
    "prediction_tennis_Id3 = estimator_tennis.predict(X_test_tennis)\n",
    "print(\"Id3Estimator: Tennis\")\n",
    "print(\"Accuracy:\", metrics.accuracy_score(y_test_tennis, prediction_tennis_Id3))\n",
    "print(\"F1:\", metrics.f1_score(y_test_tennis, prediction_tennis_Id3, average=\"macro\"))"
   ]
  },
  {
   "cell_type": "code",
   "execution_count": 39,
   "id": "12142642",
   "metadata": {
    "scrolled": true
   },
   "outputs": [],
   "source": [
    "estimator_cancer = estimator.fit(X_train_cancer, y_train_cancer)"
   ]
  },
  {
   "cell_type": "code",
   "execution_count": 40,
   "id": "e78be65a",
   "metadata": {},
   "outputs": [
    {
     "name": "stdout",
     "output_type": "stream",
     "text": [
      "Id3Estimator: Cancer\n",
      "Accuracy: 0.9122807017543859\n",
      "F1: 0.9074675324675325\n"
     ]
    }
   ],
   "source": [
    "prediction_cancer_Id3 = estimator_cancer.predict(X_test_cancer)\n",
    "print(\"Id3Estimator: Cancer\")\n",
    "print(\"Accuracy:\", metrics.accuracy_score(y_test_cancer, prediction_cancer_Id3))\n",
    "print(\"F1:\", metrics.f1_score(y_test_cancer, prediction_cancer_Id3, average=\"macro\"))"
   ]
  },
  {
   "cell_type": "markdown",
   "id": "a741737f",
   "metadata": {},
   "source": [
    "## K-Means"
   ]
  },
  {
   "cell_type": "code",
   "execution_count": 70,
   "id": "7935429f",
   "metadata": {},
   "outputs": [],
   "source": [
    "kmeans = cluster.KMeans()"
   ]
  },
  {
   "cell_type": "code",
   "execution_count": 71,
   "id": "6be55230",
   "metadata": {},
   "outputs": [],
   "source": [
    "kmeans_tennis = kmeans.fit(X_train_tennis,y_train_tennis)"
   ]
  },
  {
   "cell_type": "code",
   "execution_count": 72,
   "id": "518e7728",
   "metadata": {},
   "outputs": [
    {
     "name": "stdout",
     "output_type": "stream",
     "text": [
      "K-Means: Tennis\n",
      "Accuracy: 0.3333333333333333\n",
      "F1: 0.16666666666666666\n"
     ]
    }
   ],
   "source": [
    "prediction_tennis_kmeans = kmeans_tennis.predict(X_test_tennis)\n",
    "print(\"K-Means: Tennis\")\n",
    "print(\"Accuracy:\", metrics.accuracy_score(y_test_tennis, prediction_tennis_kmeans))\n",
    "print(\"F1:\", metrics.f1_score(y_test_tennis, prediction_tennis_kmeans, average=\"macro\"))"
   ]
  },
  {
   "cell_type": "code",
   "execution_count": 73,
   "id": "8662ffff",
   "metadata": {},
   "outputs": [],
   "source": [
    "kmeans_cancer = kmeans.fit(X_train_cancer,y_train_cancer)"
   ]
  },
  {
   "cell_type": "code",
   "execution_count": 74,
   "id": "829c632e",
   "metadata": {},
   "outputs": [
    {
     "name": "stdout",
     "output_type": "stream",
     "text": [
      "K-Means: Cancer\n",
      "Accuracy: 0.32456140350877194\n",
      "F1: 0.11302359171882523\n"
     ]
    }
   ],
   "source": [
    "prediction_cancer_kmeans = kmeans_cancer.predict(X_test_cancer)\n",
    "print(\"K-Means: Cancer\")\n",
    "print(\"Accuracy:\", metrics.accuracy_score(y_test_cancer, prediction_cancer_kmeans))\n",
    "print(\"F1:\", metrics.f1_score(y_test_cancer, prediction_cancer_kmeans, average=\"macro\"))"
   ]
  },
  {
   "cell_type": "markdown",
   "id": "761716f9",
   "metadata": {},
   "source": [
    "## Logistic Regression"
   ]
  },
  {
   "cell_type": "code",
   "execution_count": 79,
   "id": "5eefbc81",
   "metadata": {},
   "outputs": [],
   "source": [
    "lr = linear_model.LogisticRegression(class_weight='balanced')"
   ]
  },
  {
   "cell_type": "code",
   "execution_count": 80,
   "id": "75b4186f",
   "metadata": {},
   "outputs": [],
   "source": [
    "lr_tennis = lr.fit(X_train_tennis,y_train_tennis)"
   ]
  },
  {
   "cell_type": "code",
   "execution_count": 81,
   "id": "520c1aee",
   "metadata": {},
   "outputs": [
    {
     "name": "stdout",
     "output_type": "stream",
     "text": [
      "Logistic Regression: Tennis\n",
      "Accuracy: 1.0\n",
      "F1: 1.0\n"
     ]
    }
   ],
   "source": [
    "prediction_tennis_lr = lr_tennis.predict(X_test_tennis)\n",
    "print(\"Logistic Regression: Tennis\")\n",
    "print(\"Accuracy:\", metrics.accuracy_score(y_test_tennis, prediction_tennis_lr))\n",
    "print(\"F1:\", metrics.f1_score(y_test_tennis, prediction_tennis_lr, average=\"macro\"))"
   ]
  },
  {
   "cell_type": "code",
   "execution_count": 83,
   "id": "bf0045c6",
   "metadata": {},
   "outputs": [],
   "source": [
    "lr_cancer = lr.fit(X_train_cancer,y_train_cancer)"
   ]
  },
  {
   "cell_type": "code",
   "execution_count": 84,
   "id": "df986ca0",
   "metadata": {},
   "outputs": [
    {
     "name": "stdout",
     "output_type": "stream",
     "text": [
      "Logistic Regression: Cancer\n",
      "Accuracy: 0.9298245614035088\n",
      "F1: 0.9271099744245523\n"
     ]
    }
   ],
   "source": [
    "prediction_cancer_lr = lr_cancer.predict(X_test_cancer)\n",
    "print(\"Logistic Regression: Cancer\")\n",
    "print(\"Accuracy:\", metrics.accuracy_score(y_test_cancer, prediction_cancer_lr))\n",
    "print(\"F1:\", metrics.f1_score(y_test_cancer, prediction_cancer_lr, average=\"macro\"))"
   ]
  },
  {
   "cell_type": "markdown",
   "id": "efa73fff",
   "metadata": {},
   "source": [
    "## Neural Network"
   ]
  },
  {
   "cell_type": "code",
   "execution_count": 108,
   "id": "30246599",
   "metadata": {},
   "outputs": [],
   "source": [
    "neural = neural_network.MLPClassifier(max_iter=1000)"
   ]
  },
  {
   "cell_type": "code",
   "execution_count": 109,
   "id": "51c28077",
   "metadata": {},
   "outputs": [],
   "source": [
    "neural_tennis = neural.fit(X_train_tennis,y_train_tennis)"
   ]
  },
  {
   "cell_type": "code",
   "execution_count": 105,
   "id": "580ce76b",
   "metadata": {},
   "outputs": [
    {
     "name": "stdout",
     "output_type": "stream",
     "text": [
      "Neural Network: Tennis\n",
      "Accuracy: 0.3333333333333333\n",
      "F1: 0.25\n"
     ]
    }
   ],
   "source": [
    "prediction_tennis_neural = neural_tennis.predict(X_test_tennis)\n",
    "print(\"Neural Network: Tennis\")\n",
    "print(\"Accuracy:\", metrics.accuracy_score(y_test_tennis, prediction_tennis_neural))\n",
    "print(\"F1:\", metrics.f1_score(y_test_tennis, prediction_tennis_neural, average=\"macro\"))"
   ]
  },
  {
   "cell_type": "code",
   "execution_count": 110,
   "id": "616c76de",
   "metadata": {},
   "outputs": [],
   "source": [
    "neural_cancer = neural.fit(X_train_cancer,y_train_cancer)"
   ]
  },
  {
   "cell_type": "code",
   "execution_count": 111,
   "id": "4e6295fa",
   "metadata": {},
   "outputs": [
    {
     "name": "stdout",
     "output_type": "stream",
     "text": [
      "Neural Network: Cancer\n",
      "Accuracy: 0.8771929824561403\n",
      "F1: 0.8479420731707317\n"
     ]
    }
   ],
   "source": [
    "prediction_cancer_neural = neural_cancer.predict(X_test_cancer)\n",
    "print(\"Neural Network: Cancer\")\n",
    "print(\"Accuracy:\", metrics.accuracy_score(y_test_cancer, prediction_cancer_neural))\n",
    "print(\"F1:\", metrics.f1_score(y_test_cancer, prediction_cancer_neural, average=\"macro\"))"
   ]
  },
  {
   "cell_type": "markdown",
   "id": "20d2ee63",
   "metadata": {},
   "source": [
    "## SVM"
   ]
  },
  {
   "cell_type": "code",
   "execution_count": 41,
   "id": "90fb6734",
   "metadata": {},
   "outputs": [],
   "source": [
    "svc = svm.SVC()"
   ]
  },
  {
   "cell_type": "code",
   "execution_count": 42,
   "id": "41936378",
   "metadata": {},
   "outputs": [],
   "source": [
    "svc_tennis = svc.fit(X_train_tennis,y_train_tennis)"
   ]
  },
  {
   "cell_type": "code",
   "execution_count": 43,
   "id": "81144a7f",
   "metadata": {},
   "outputs": [
    {
     "name": "stdout",
     "output_type": "stream",
     "text": [
      "SVM: Tennis\n",
      "Accuracy: 0.3333333333333333\n",
      "F1: 0.25\n"
     ]
    }
   ],
   "source": [
    "prediction_tennis_svm = svc_tennis.predict(X_test_tennis)\n",
    "print(\"SVM: Tennis\")\n",
    "print(\"Accuracy:\", metrics.accuracy_score(y_test_tennis, prediction_tennis_svm))\n",
    "print(\"F1:\", metrics.f1_score(y_test_tennis, prediction_tennis_svm, average=\"macro\"))"
   ]
  },
  {
   "cell_type": "code",
   "execution_count": 44,
   "id": "054ac85d",
   "metadata": {},
   "outputs": [],
   "source": [
    "svc_cancer = svc.fit(X_train_cancer,y_train_cancer)"
   ]
  },
  {
   "cell_type": "code",
   "execution_count": 45,
   "id": "fffcffec",
   "metadata": {},
   "outputs": [
    {
     "name": "stdout",
     "output_type": "stream",
     "text": [
      "SVM: Cancer\n",
      "Accuracy: 0.9035087719298246\n",
      "F1: 0.8958039052762776\n"
     ]
    }
   ],
   "source": [
    "prediction_cancer_svm = svc_cancer.predict(X_test_cancer)\n",
    "print(\"SVM: Cancer\")\n",
    "print(\"Accuracy:\", metrics.accuracy_score(y_test_cancer, prediction_cancer_svm))\n",
    "print(\"F1:\", metrics.f1_score(y_test_cancer, prediction_cancer_svm, average=\"macro\"))"
   ]
  }
 ],
 "metadata": {
  "kernelspec": {
   "display_name": "Python 3",
   "language": "python",
   "name": "python3"
  },
  "language_info": {
   "codemirror_mode": {
    "name": "ipython",
    "version": 3
   },
   "file_extension": ".py",
   "mimetype": "text/x-python",
   "name": "python",
   "nbconvert_exporter": "python",
   "pygments_lexer": "ipython3",
   "version": "3.9.1"
  }
 },
 "nbformat": 4,
 "nbformat_minor": 5
}
