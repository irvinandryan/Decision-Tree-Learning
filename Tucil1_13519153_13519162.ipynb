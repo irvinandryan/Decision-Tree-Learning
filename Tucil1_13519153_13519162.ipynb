{
 "cells": [
  {
   "cell_type": "code",
   "execution_count": 98,
   "id": "39460860",
   "metadata": {},
   "outputs": [],
   "source": [
    "from sklearn import datasets, tree, model_selection, preprocessing, metrics, svm"
   ]
  },
  {
   "cell_type": "code",
   "execution_count": 99,
   "id": "02ba994b",
   "metadata": {},
   "outputs": [],
   "source": [
    "import six\n",
    "import sys\n",
    "sys.modules['sklearn.externals.six'] = six"
   ]
  },
  {
   "cell_type": "code",
   "execution_count": 100,
   "id": "ac31b383",
   "metadata": {},
   "outputs": [],
   "source": [
    "from id3 import Id3Estimator"
   ]
  },
  {
   "cell_type": "code",
   "execution_count": 101,
   "id": "3c8706d5",
   "metadata": {},
   "outputs": [],
   "source": [
    "import pandas as pd"
   ]
  },
  {
   "cell_type": "code",
   "execution_count": 102,
   "id": "f53ee447",
   "metadata": {},
   "outputs": [],
   "source": [
    "#load data from sklearn.datasets\n",
    "cancer = datasets.load_breast_cancer()"
   ]
  },
  {
   "cell_type": "code",
   "execution_count": 103,
   "id": "ff1bf404",
   "metadata": {
    "scrolled": true
   },
   "outputs": [],
   "source": [
    "#load data from csv file\n",
    "tennis = pd.read_csv('play_tennis.csv')"
   ]
  },
  {
   "cell_type": "code",
   "execution_count": 104,
   "id": "9d757231",
   "metadata": {},
   "outputs": [],
   "source": [
    "#transform label for tennis\n",
    "le = preprocessing.LabelEncoder()\n",
    "\n",
    "tennis = tennis.drop('day', axis = 1) #----> day perlu dimasukkan sebagai data training gak ya?\n",
    "#tennis['day'] = le.fit_transform(tennis['day']) #kalau day gamasuk line ini hapus\n",
    "tennis['outlook'] = le.fit_transform(tennis['outlook'])\n",
    "tennis['temp'] = le.fit_transform(tennis['temp'])\n",
    "tennis['humidity'] = le.fit_transform(tennis['humidity'])\n",
    "tennis['wind'] = le.fit_transform(tennis['wind'])\n",
    "tennis['play'] = le.fit_transform(tennis['play'])"
   ]
  },
  {
   "cell_type": "code",
   "execution_count": 105,
   "id": "8eb44d25",
   "metadata": {},
   "outputs": [],
   "source": [
    "X_cancer = cancer.data\n",
    "y_cancer = cancer.target"
   ]
  },
  {
   "cell_type": "code",
   "execution_count": 106,
   "id": "004ab270",
   "metadata": {},
   "outputs": [],
   "source": [
    "X_tennis = tennis.drop('play', axis = 1)\n",
    "y_tennis = tennis.play"
   ]
  },
  {
   "cell_type": "code",
   "execution_count": 107,
   "id": "b5aefc98",
   "metadata": {},
   "outputs": [],
   "source": [
    "#Set training data to 80% and test data to 20% for cancer\n",
    "X_train_cancer, X_test_cancer, y_train_cancer, y_test_cancer = model_selection.train_test_split(X_cancer[:,0:4],y_cancer,test_size=0.2,shuffle=True)"
   ]
  },
  {
   "cell_type": "code",
   "execution_count": 108,
   "id": "6e862a55",
   "metadata": {},
   "outputs": [],
   "source": [
    "#Set training data to 80% and test data to 20% for tennis\n",
    "X_train_tennis, X_test_tennis, y_train_tennis, y_test_tennis = model_selection.train_test_split(X_tennis,y_tennis,test_size=0.2,shuffle=True)"
   ]
  },
  {
   "cell_type": "code",
   "execution_count": 109,
   "id": "0dbef8ca",
   "metadata": {},
   "outputs": [],
   "source": [
    "##############################\n",
    "## DECISION TREE CLASSIFIER ##\n",
    "##############################\n",
    "decision_tree = tree.DecisionTreeClassifier(criterion='entropy', max_depth=20)"
   ]
  },
  {
   "cell_type": "code",
   "execution_count": 110,
   "id": "d2946daa",
   "metadata": {},
   "outputs": [
    {
     "name": "stdout",
     "output_type": "stream",
     "text": [
      "|--- feature_0 <= 0.50\n",
      "|   |--- class: 1\n",
      "|--- feature_0 >  0.50\n",
      "|   |--- feature_3 <= 0.50\n",
      "|   |   |--- feature_1 <= 1.50\n",
      "|   |   |   |--- class: 0\n",
      "|   |   |--- feature_1 >  1.50\n",
      "|   |   |   |--- feature_2 <= 0.50\n",
      "|   |   |   |   |--- class: 0\n",
      "|   |   |   |--- feature_2 >  0.50\n",
      "|   |   |   |   |--- class: 1\n",
      "|   |--- feature_3 >  0.50\n",
      "|   |   |--- feature_1 <= 1.00\n",
      "|   |   |   |--- class: 1\n",
      "|   |   |--- feature_1 >  1.00\n",
      "|   |   |   |--- feature_0 <= 1.50\n",
      "|   |   |   |   |--- class: 1\n",
      "|   |   |   |--- feature_0 >  1.50\n",
      "|   |   |   |   |--- class: 0\n",
      "\n"
     ]
    }
   ],
   "source": [
    "#decision tree for tennis\n",
    "decision_tree_tennis = decision_tree.fit(X_train_tennis, y_train_tennis)\n",
    "r_tennis = tree.export_text(decision_tree_tennis)\n",
    "print(r_tennis)"
   ]
  },
  {
   "cell_type": "code",
   "execution_count": 111,
   "id": "3a522347",
   "metadata": {},
   "outputs": [
    {
     "name": "stdout",
     "output_type": "stream",
     "text": [
      "Decision Tree Classifier: Tennis\n",
      "Accuracy: 0.6666666666666666\n",
      "F1: 0.4\n"
     ]
    }
   ],
   "source": [
    "prediction_tennis_decisionTreeClassifier = decision_tree_tennis.predict(X_test_tennis)\n",
    "print(\"Decision Tree Classifier: Tennis\")\n",
    "print(\"Accuracy:\", metrics.accuracy_score(y_test_tennis, prediction_tennis_decisionTreeClassifier))\n",
    "print(\"F1:\", metrics.f1_score(y_test_tennis, prediction_tennis_decisionTreeClassifier, average=\"macro\"))"
   ]
  },
  {
   "cell_type": "code",
   "execution_count": 112,
   "id": "a93f7690",
   "metadata": {},
   "outputs": [
    {
     "name": "stdout",
     "output_type": "stream",
     "text": [
      "|--- feature_3 <= 696.25\n",
      "|   |--- feature_2 <= 85.25\n",
      "|   |   |--- feature_2 <= 77.88\n",
      "|   |   |   |--- class: 1\n",
      "|   |   |--- feature_2 >  77.88\n",
      "|   |   |   |--- feature_0 <= 11.87\n",
      "|   |   |   |   |--- class: 0\n",
      "|   |   |   |--- feature_0 >  11.87\n",
      "|   |   |   |   |--- feature_1 <= 22.45\n",
      "|   |   |   |   |   |--- feature_1 <= 15.71\n",
      "|   |   |   |   |   |   |--- feature_1 <= 15.45\n",
      "|   |   |   |   |   |   |   |--- class: 1\n",
      "|   |   |   |   |   |   |--- feature_1 >  15.45\n",
      "|   |   |   |   |   |   |   |--- class: 0\n",
      "|   |   |   |   |   |--- feature_1 >  15.71\n",
      "|   |   |   |   |   |   |--- class: 1\n",
      "|   |   |   |   |--- feature_1 >  22.45\n",
      "|   |   |   |   |   |--- feature_3 <= 507.10\n",
      "|   |   |   |   |   |   |--- feature_2 <= 81.53\n",
      "|   |   |   |   |   |   |   |--- feature_1 <= 25.41\n",
      "|   |   |   |   |   |   |   |   |--- class: 1\n",
      "|   |   |   |   |   |   |   |--- feature_1 >  25.41\n",
      "|   |   |   |   |   |   |   |   |--- class: 0\n",
      "|   |   |   |   |   |   |--- feature_2 >  81.53\n",
      "|   |   |   |   |   |   |   |--- class: 0\n",
      "|   |   |   |   |   |--- feature_3 >  507.10\n",
      "|   |   |   |   |   |   |--- class: 1\n",
      "|   |--- feature_2 >  85.25\n",
      "|   |   |--- feature_1 <= 19.61\n",
      "|   |   |   |--- feature_3 <= 536.75\n",
      "|   |   |   |   |--- feature_3 <= 525.10\n",
      "|   |   |   |   |   |--- class: 1\n",
      "|   |   |   |   |--- feature_3 >  525.10\n",
      "|   |   |   |   |   |--- class: 0\n",
      "|   |   |   |--- feature_3 >  536.75\n",
      "|   |   |   |   |--- feature_3 <= 579.00\n",
      "|   |   |   |   |   |--- feature_0 <= 13.78\n",
      "|   |   |   |   |   |   |--- class: 1\n",
      "|   |   |   |   |   |--- feature_0 >  13.78\n",
      "|   |   |   |   |   |   |--- class: 0\n",
      "|   |   |   |   |--- feature_3 >  579.00\n",
      "|   |   |   |   |   |--- class: 1\n",
      "|   |   |--- feature_1 >  19.61\n",
      "|   |   |   |--- feature_0 <= 14.86\n",
      "|   |   |   |   |--- feature_1 <= 24.98\n",
      "|   |   |   |   |   |--- feature_2 <= 89.99\n",
      "|   |   |   |   |   |   |--- feature_0 <= 13.61\n",
      "|   |   |   |   |   |   |   |--- feature_2 <= 87.33\n",
      "|   |   |   |   |   |   |   |   |--- feature_2 <= 85.91\n",
      "|   |   |   |   |   |   |   |   |   |--- class: 0\n",
      "|   |   |   |   |   |   |   |   |--- feature_2 >  85.91\n",
      "|   |   |   |   |   |   |   |   |   |--- feature_3 <= 562.00\n",
      "|   |   |   |   |   |   |   |   |   |   |--- class: 1\n",
      "|   |   |   |   |   |   |   |   |   |--- feature_3 >  562.00\n",
      "|   |   |   |   |   |   |   |   |   |   |--- class: 0\n",
      "|   |   |   |   |   |   |   |--- feature_2 >  87.33\n",
      "|   |   |   |   |   |   |   |   |--- class: 0\n",
      "|   |   |   |   |   |   |--- feature_0 >  13.61\n",
      "|   |   |   |   |   |   |   |--- class: 1\n",
      "|   |   |   |   |   |--- feature_2 >  89.99\n",
      "|   |   |   |   |   |   |--- feature_3 <= 614.55\n",
      "|   |   |   |   |   |   |   |--- class: 0\n",
      "|   |   |   |   |   |   |--- feature_3 >  614.55\n",
      "|   |   |   |   |   |   |   |--- feature_2 <= 93.02\n",
      "|   |   |   |   |   |   |   |   |--- class: 1\n",
      "|   |   |   |   |   |   |   |--- feature_2 >  93.02\n",
      "|   |   |   |   |   |   |   |   |--- feature_1 <= 22.61\n",
      "|   |   |   |   |   |   |   |   |   |--- class: 0\n",
      "|   |   |   |   |   |   |   |   |--- feature_1 >  22.61\n",
      "|   |   |   |   |   |   |   |   |   |--- feature_3 <= 663.70\n",
      "|   |   |   |   |   |   |   |   |   |   |--- class: 1\n",
      "|   |   |   |   |   |   |   |   |   |--- feature_3 >  663.70\n",
      "|   |   |   |   |   |   |   |   |   |   |--- class: 0\n",
      "|   |   |   |   |--- feature_1 >  24.98\n",
      "|   |   |   |   |   |--- feature_2 <= 96.27\n",
      "|   |   |   |   |   |   |--- class: 1\n",
      "|   |   |   |   |   |--- feature_2 >  96.27\n",
      "|   |   |   |   |   |   |--- class: 0\n",
      "|   |   |   |--- feature_0 >  14.86\n",
      "|   |   |   |   |--- class: 1\n",
      "|--- feature_3 >  696.25\n",
      "|   |--- feature_1 <= 16.11\n",
      "|   |   |--- feature_2 <= 114.80\n",
      "|   |   |   |--- feature_0 <= 16.09\n",
      "|   |   |   |   |--- feature_2 <= 102.25\n",
      "|   |   |   |   |   |--- class: 1\n",
      "|   |   |   |   |--- feature_2 >  102.25\n",
      "|   |   |   |   |   |--- class: 0\n",
      "|   |   |   |--- feature_0 >  16.09\n",
      "|   |   |   |   |--- class: 1\n",
      "|   |   |--- feature_2 >  114.80\n",
      "|   |   |   |--- class: 0\n",
      "|   |--- feature_1 >  16.11\n",
      "|   |   |--- feature_2 <= 108.60\n",
      "|   |   |   |--- feature_0 <= 16.39\n",
      "|   |   |   |   |--- class: 0\n",
      "|   |   |   |--- feature_0 >  16.39\n",
      "|   |   |   |   |--- feature_1 <= 19.83\n",
      "|   |   |   |   |   |--- class: 1\n",
      "|   |   |   |   |--- feature_1 >  19.83\n",
      "|   |   |   |   |   |--- class: 0\n",
      "|   |   |--- feature_2 >  108.60\n",
      "|   |   |   |--- class: 0\n",
      "\n"
     ]
    }
   ],
   "source": [
    "#decision tree for cancer\n",
    "decision_tree_cancer = decision_tree.fit(X_train_cancer, y_train_cancer)\n",
    "r_cancer = tree.export_text(decision_tree_cancer)\n",
    "print(r_cancer)"
   ]
  },
  {
   "cell_type": "code",
   "execution_count": 113,
   "id": "1c88f2bc",
   "metadata": {
    "scrolled": true
   },
   "outputs": [
    {
     "name": "stdout",
     "output_type": "stream",
     "text": [
      "Decision Tree Classifier: Cancer\n",
      "Accuracy: 0.8771929824561403\n",
      "F1: 0.8747252747252747\n"
     ]
    }
   ],
   "source": [
    "prediction_cancer_decisionTreeClassifier = decision_tree_cancer.predict(X_test_cancer)\n",
    "print(\"Decision Tree Classifier: Cancer\")\n",
    "print(\"Accuracy:\", metrics.accuracy_score(y_test_cancer, prediction_cancer_decisionTreeClassifier))\n",
    "print(\"F1:\", metrics.f1_score(y_test_cancer, prediction_cancer_decisionTreeClassifier, average=\"macro\"))"
   ]
  },
  {
   "cell_type": "code",
   "execution_count": 114,
   "id": "dd9dfcaa",
   "metadata": {},
   "outputs": [],
   "source": [
    "##############################\n",
    "######## Id3Estimator ########\n",
    "##############################\n",
    "estimator = Id3Estimator()"
   ]
  },
  {
   "cell_type": "code",
   "execution_count": 115,
   "id": "5c80a89e",
   "metadata": {},
   "outputs": [],
   "source": [
    "estimator_tennis = estimator.fit(X_train_tennis, y_train_tennis)"
   ]
  },
  {
   "cell_type": "code",
   "execution_count": 116,
   "id": "74b72709",
   "metadata": {},
   "outputs": [
    {
     "name": "stdout",
     "output_type": "stream",
     "text": [
      "Id3Estimator: Tennis\n",
      "Accuracy: 1.0\n",
      "F1: 1.0\n"
     ]
    }
   ],
   "source": [
    "prediction_tennis_Id3 = estimator_tennis.predict(X_test_tennis)\n",
    "print(\"Id3Estimator: Tennis\")\n",
    "print(\"Accuracy:\", metrics.accuracy_score(y_test_tennis, prediction_tennis_Id3))\n",
    "print(\"F1:\", metrics.f1_score(y_test_tennis, prediction_tennis_Id3, average=\"macro\"))"
   ]
  },
  {
   "cell_type": "code",
   "execution_count": 117,
   "id": "12142642",
   "metadata": {
    "scrolled": true
   },
   "outputs": [],
   "source": [
    "estimator_cancer = estimator.fit(X_train_cancer, y_train_cancer)"
   ]
  },
  {
   "cell_type": "code",
   "execution_count": 118,
   "id": "e78be65a",
   "metadata": {},
   "outputs": [
    {
     "name": "stdout",
     "output_type": "stream",
     "text": [
      "Id3Estimator: Cancer\n",
      "Accuracy: 0.8421052631578947\n",
      "F1: 0.8403361344537814\n"
     ]
    }
   ],
   "source": [
    "prediction_cancer_Id3 = estimator_cancer.predict(X_test_cancer)\n",
    "print(\"Id3Estimator: Cancer\")\n",
    "print(\"Accuracy:\", metrics.accuracy_score(y_test_cancer, prediction_cancer_Id3))\n",
    "print(\"F1:\", metrics.f1_score(y_test_cancer, prediction_cancer_Id3, average=\"macro\"))"
   ]
  },
  {
   "cell_type": "code",
   "execution_count": 119,
   "id": "90fb6734",
   "metadata": {},
   "outputs": [],
   "source": [
    "##############################\n",
    "############ SVM #############\n",
    "##############################\n",
    "svc = svm.SVC()"
   ]
  },
  {
   "cell_type": "code",
   "execution_count": 120,
   "id": "41936378",
   "metadata": {},
   "outputs": [],
   "source": [
    "svc_tennis = svc.fit(X_train_tennis,y_train_tennis)"
   ]
  },
  {
   "cell_type": "code",
   "execution_count": 121,
   "id": "81144a7f",
   "metadata": {},
   "outputs": [
    {
     "name": "stdout",
     "output_type": "stream",
     "text": [
      "SVM: Tennis\n",
      "Accuracy: 0.6666666666666666\n",
      "F1: 0.4\n"
     ]
    }
   ],
   "source": [
    "prediction_tennis_svm = svc_tennis.predict(X_test_tennis)\n",
    "print(\"SVM: Tennis\")\n",
    "print(\"Accuracy:\", metrics.accuracy_score(y_test_tennis, prediction_tennis_svm))\n",
    "print(\"F1:\", metrics.f1_score(y_test_tennis, prediction_tennis_svm, average=\"macro\"))"
   ]
  },
  {
   "cell_type": "code",
   "execution_count": 122,
   "id": "054ac85d",
   "metadata": {},
   "outputs": [],
   "source": [
    "svc_cancer = svc.fit(X_train_cancer,y_train_cancer)"
   ]
  },
  {
   "cell_type": "code",
   "execution_count": 123,
   "id": "fffcffec",
   "metadata": {},
   "outputs": [
    {
     "name": "stdout",
     "output_type": "stream",
     "text": [
      "SVM: Cancer\n",
      "Accuracy: 0.8771929824561403\n",
      "F1: 0.8724424552429667\n"
     ]
    }
   ],
   "source": [
    "prediction_cancer_svm = svc_cancer.predict(X_test_cancer)\n",
    "print(\"SVM: Cancer\")\n",
    "print(\"Accuracy:\", metrics.accuracy_score(y_test_cancer, prediction_cancer_svm))\n",
    "print(\"F1:\", metrics.f1_score(y_test_cancer, prediction_cancer_svm, average=\"macro\"))"
   ]
  },
  {
   "cell_type": "code",
   "execution_count": null,
   "id": "c189c50a",
   "metadata": {},
   "outputs": [],
   "source": []
  }
 ],
 "metadata": {
  "kernelspec": {
   "display_name": "Python 3 (ipykernel)",
   "language": "python",
   "name": "python3"
  },
  "language_info": {
   "codemirror_mode": {
    "name": "ipython",
    "version": 3
   },
   "file_extension": ".py",
   "mimetype": "text/x-python",
   "name": "python",
   "nbconvert_exporter": "python",
   "pygments_lexer": "ipython3",
   "version": "3.9.1"
  }
 },
 "nbformat": 4,
 "nbformat_minor": 5
}
