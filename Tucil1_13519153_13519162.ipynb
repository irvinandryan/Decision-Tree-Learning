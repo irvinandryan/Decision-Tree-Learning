{
 "cells": [
  {
   "cell_type": "markdown",
   "id": "368f5590",
   "metadata": {},
   "source": [
    "# Tucil 1 IF3270 Machine Learning dengan Python"
   ]
  },
  {
   "cell_type": "markdown",
   "id": "62cec6eb",
   "metadata": {},
   "source": [
    "### 13519153 Maximillian Lukman - 13519162 Irvin Andryan Pratomo"
   ]
  },
  {
   "cell_type": "code",
   "execution_count": 1,
   "id": "39460860",
   "metadata": {},
   "outputs": [],
   "source": [
    "from sklearn import datasets, tree, model_selection, preprocessing, metrics, svm, cluster, linear_model, neural_network"
   ]
  },
  {
   "cell_type": "code",
   "execution_count": 2,
   "id": "02ba994b",
   "metadata": {},
   "outputs": [],
   "source": [
    "import six\n",
    "import sys\n",
    "sys.modules['sklearn.externals.six'] = six"
   ]
  },
  {
   "cell_type": "code",
   "execution_count": 3,
   "id": "ac31b383",
   "metadata": {},
   "outputs": [],
   "source": [
    "from id3 import Id3Estimator, export_text"
   ]
  },
  {
   "cell_type": "code",
   "execution_count": 4,
   "id": "3c8706d5",
   "metadata": {},
   "outputs": [],
   "source": [
    "import pandas as pd"
   ]
  },
  {
   "cell_type": "code",
   "execution_count": 5,
   "id": "f53ee447",
   "metadata": {},
   "outputs": [],
   "source": [
    "#load data from sklearn.datasets\n",
    "cancer = datasets.load_breast_cancer()"
   ]
  },
  {
   "cell_type": "code",
   "execution_count": 6,
   "id": "ff1bf404",
   "metadata": {
    "scrolled": true
   },
   "outputs": [],
   "source": [
    "#load data from csv file\n",
    "tennis = pd.read_csv('play_tennis.csv')"
   ]
  },
  {
   "cell_type": "code",
   "execution_count": 7,
   "id": "9d757231",
   "metadata": {},
   "outputs": [],
   "source": [
    "#transform label for tennis\n",
    "le = preprocessing.LabelEncoder()\n",
    "\n",
    "tennis = tennis.drop('day', axis = 1) #----> day perlu dimasukkan sebagai data training gak ya?\n",
    "# tennis['day'] = le.fit_transform(tennis['day']) #kalau day gamasuk line ini hapus\n",
    "tennis['outlook'] = le.fit_transform(tennis['outlook'])\n",
    "tennis['temp'] = le.fit_transform(tennis['temp'])\n",
    "tennis['humidity'] = le.fit_transform(tennis['humidity'])\n",
    "tennis['wind'] = le.fit_transform(tennis['wind'])\n",
    "tennis['play'] = le.fit_transform(tennis['play'])"
   ]
  },
  {
   "cell_type": "code",
   "execution_count": 8,
   "id": "8eb44d25",
   "metadata": {},
   "outputs": [],
   "source": [
    "X_cancer = cancer.data\n",
    "y_cancer = cancer.target"
   ]
  },
  {
   "cell_type": "code",
   "execution_count": 9,
   "id": "004ab270",
   "metadata": {},
   "outputs": [],
   "source": [
    "X_tennis = tennis.drop('play', axis = 1)\n",
    "y_tennis = tennis.play"
   ]
  },
  {
   "cell_type": "code",
   "execution_count": 10,
   "id": "b5aefc98",
   "metadata": {},
   "outputs": [],
   "source": [
    "#Set training data to 80% and test data to 20% for cancer\n",
    "X_train_cancer, X_test_cancer, y_train_cancer, y_test_cancer = model_selection.train_test_split(X_cancer,y_cancer,test_size=0.2,shuffle=True)"
   ]
  },
  {
   "cell_type": "code",
   "execution_count": 11,
   "id": "6e862a55",
   "metadata": {},
   "outputs": [],
   "source": [
    "#Set training data to 80% and test data to 20% for tennis\n",
    "X_train_tennis, X_test_tennis, y_train_tennis, y_test_tennis = model_selection.train_test_split(X_tennis,y_tennis,test_size=0.2,shuffle=True)"
   ]
  },
  {
   "cell_type": "markdown",
   "id": "b96485c5",
   "metadata": {},
   "source": [
    "## Decision Tree Classifier"
   ]
  },
  {
   "cell_type": "code",
   "execution_count": 12,
   "id": "0dbef8ca",
   "metadata": {},
   "outputs": [],
   "source": [
    "decision_tree = tree.DecisionTreeClassifier(criterion='entropy', max_depth=20)"
   ]
  },
  {
   "cell_type": "code",
   "execution_count": 13,
   "id": "d2946daa",
   "metadata": {},
   "outputs": [
    {
     "name": "stdout",
     "output_type": "stream",
     "text": [
      "|--- feature_0 <= 0.50\n",
      "|   |--- class: 1\n",
      "|--- feature_0 >  0.50\n",
      "|   |--- feature_3 <= 0.50\n",
      "|   |   |--- feature_1 <= 1.50\n",
      "|   |   |   |--- class: 0\n",
      "|   |   |--- feature_1 >  1.50\n",
      "|   |   |   |--- class: 1\n",
      "|   |--- feature_3 >  0.50\n",
      "|   |   |--- feature_0 <= 1.50\n",
      "|   |   |   |--- class: 1\n",
      "|   |   |--- feature_0 >  1.50\n",
      "|   |   |   |--- feature_1 <= 1.00\n",
      "|   |   |   |   |--- class: 1\n",
      "|   |   |   |--- feature_1 >  1.00\n",
      "|   |   |   |   |--- class: 0\n",
      "\n"
     ]
    }
   ],
   "source": [
    "#decision tree for tennis\n",
    "decision_tree_tennis = decision_tree.fit(X_train_tennis, y_train_tennis)\n",
    "r_tennis = tree.export_text(decision_tree_tennis)\n",
    "print(r_tennis)"
   ]
  },
  {
   "cell_type": "code",
   "execution_count": 14,
   "id": "3a522347",
   "metadata": {
    "scrolled": true
   },
   "outputs": [
    {
     "name": "stdout",
     "output_type": "stream",
     "text": [
      "Decision Tree Classifier: Tennis\n",
      "Accuracy: 0.3333333333333333\n",
      "F1 Macro avg: 0.25\n",
      "F1 Weighted avg: 0.16666666666666666\n"
     ]
    }
   ],
   "source": [
    "prediction_tennis_decisionTreeClassifier = decision_tree_tennis.predict(X_test_tennis)\n",
    "print(\"Decision Tree Classifier: Tennis\")\n",
    "print(\"Accuracy:\", metrics.accuracy_score(y_test_tennis, prediction_tennis_decisionTreeClassifier))\n",
    "print(\"F1 Macro avg:\", metrics.f1_score(y_test_tennis, prediction_tennis_decisionTreeClassifier, average=\"macro\"))\n",
    "print(\"F1 Weighted avg:\", metrics.f1_score(y_test_tennis, prediction_tennis_decisionTreeClassifier, average=\"weighted\"))"
   ]
  },
  {
   "cell_type": "code",
   "execution_count": 15,
   "id": "a93f7690",
   "metadata": {},
   "outputs": [
    {
     "name": "stdout",
     "output_type": "stream",
     "text": [
      "|--- feature_27 <= 0.14\n",
      "|   |--- feature_20 <= 16.83\n",
      "|   |   |--- feature_13 <= 38.60\n",
      "|   |   |   |--- feature_21 <= 30.15\n",
      "|   |   |   |   |--- class: 1\n",
      "|   |   |   |--- feature_21 >  30.15\n",
      "|   |   |   |   |--- feature_14 <= 0.00\n",
      "|   |   |   |   |   |--- class: 0\n",
      "|   |   |   |   |--- feature_14 >  0.00\n",
      "|   |   |   |   |   |--- feature_24 <= 0.14\n",
      "|   |   |   |   |   |   |--- class: 1\n",
      "|   |   |   |   |   |--- feature_24 >  0.14\n",
      "|   |   |   |   |   |   |--- feature_22 <= 89.08\n",
      "|   |   |   |   |   |   |   |--- class: 1\n",
      "|   |   |   |   |   |   |--- feature_22 >  89.08\n",
      "|   |   |   |   |   |   |   |--- class: 0\n",
      "|   |   |--- feature_13 >  38.60\n",
      "|   |   |   |--- feature_15 <= 0.01\n",
      "|   |   |   |   |--- class: 0\n",
      "|   |   |   |--- feature_15 >  0.01\n",
      "|   |   |   |   |--- feature_13 <= 39.15\n",
      "|   |   |   |   |   |--- class: 0\n",
      "|   |   |   |   |--- feature_13 >  39.15\n",
      "|   |   |   |   |   |--- class: 1\n",
      "|   |--- feature_20 >  16.83\n",
      "|   |   |--- feature_21 <= 19.91\n",
      "|   |   |   |--- class: 1\n",
      "|   |   |--- feature_21 >  19.91\n",
      "|   |   |   |--- feature_29 <= 0.06\n",
      "|   |   |   |   |--- feature_25 <= 0.14\n",
      "|   |   |   |   |   |--- class: 0\n",
      "|   |   |   |   |--- feature_25 >  0.14\n",
      "|   |   |   |   |   |--- class: 1\n",
      "|   |   |   |--- feature_29 >  0.06\n",
      "|   |   |   |   |--- class: 0\n",
      "|--- feature_27 >  0.14\n",
      "|   |--- feature_22 <= 114.45\n",
      "|   |   |--- feature_1 <= 20.30\n",
      "|   |   |   |--- feature_24 <= 0.14\n",
      "|   |   |   |   |--- class: 1\n",
      "|   |   |   |--- feature_24 >  0.14\n",
      "|   |   |   |   |--- feature_13 <= 20.99\n",
      "|   |   |   |   |   |--- class: 1\n",
      "|   |   |   |   |--- feature_13 >  20.99\n",
      "|   |   |   |   |   |--- feature_14 <= 0.01\n",
      "|   |   |   |   |   |   |--- class: 0\n",
      "|   |   |   |   |   |--- feature_14 >  0.01\n",
      "|   |   |   |   |   |   |--- class: 1\n",
      "|   |   |--- feature_1 >  20.30\n",
      "|   |   |   |--- class: 0\n",
      "|   |--- feature_22 >  114.45\n",
      "|   |   |--- class: 0\n",
      "\n"
     ]
    }
   ],
   "source": [
    "#decision tree for cancer\n",
    "decision_tree_cancer = decision_tree.fit(X_train_cancer, y_train_cancer)\n",
    "r_cancer = tree.export_text(decision_tree_cancer)\n",
    "print(r_cancer)"
   ]
  },
  {
   "cell_type": "code",
   "execution_count": 16,
   "id": "1c88f2bc",
   "metadata": {
    "scrolled": true
   },
   "outputs": [
    {
     "name": "stdout",
     "output_type": "stream",
     "text": [
      "Decision Tree Classifier: Cancer\n",
      "Accuracy: 0.9649122807017544\n",
      "F1 Macro avg: 0.9594017094017093\n",
      "F1 Weighted avg: 0.9643874643874643\n"
     ]
    }
   ],
   "source": [
    "prediction_cancer_decisionTreeClassifier = decision_tree_cancer.predict(X_test_cancer)\n",
    "print(\"Decision Tree Classifier: Cancer\")\n",
    "print(\"Accuracy:\", metrics.accuracy_score(y_test_cancer, prediction_cancer_decisionTreeClassifier))\n",
    "print(\"F1 Macro avg:\", metrics.f1_score(y_test_cancer, prediction_cancer_decisionTreeClassifier, average=\"macro\"))\n",
    "print(\"F1 Weighted avg:\", metrics.f1_score(y_test_cancer, prediction_cancer_decisionTreeClassifier, average=\"weighted\"))"
   ]
  },
  {
   "cell_type": "markdown",
   "id": "a282a633",
   "metadata": {},
   "source": [
    "## Id3Estimator"
   ]
  },
  {
   "cell_type": "code",
   "execution_count": 17,
   "id": "dd9dfcaa",
   "metadata": {},
   "outputs": [],
   "source": [
    "estimator = Id3Estimator()"
   ]
  },
  {
   "cell_type": "code",
   "execution_count": 18,
   "id": "5c80a89e",
   "metadata": {},
   "outputs": [],
   "source": [
    "estimator_tennis = estimator.fit(X_train_tennis, y_train_tennis)"
   ]
  },
  {
   "cell_type": "code",
   "execution_count": 19,
   "id": "74b72709",
   "metadata": {},
   "outputs": [
    {
     "name": "stdout",
     "output_type": "stream",
     "text": [
      "Id3Estimator: Tennis\n",
      "Accuracy: 1.0\n",
      "F1 Macro avg: 1.0\n",
      "F1 Weighted avg: 1.0\n"
     ]
    }
   ],
   "source": [
    "prediction_tennis_Id3 = estimator_tennis.predict(X_test_tennis)\n",
    "print(\"Id3Estimator: Tennis\")\n",
    "print(\"Accuracy:\", metrics.accuracy_score(y_test_tennis, prediction_tennis_Id3))\n",
    "print(\"F1 Macro avg:\", metrics.f1_score(y_test_tennis, prediction_tennis_Id3, average=\"macro\"))\n",
    "print(\"F1 Weighted avg:\", metrics.f1_score(y_test_tennis, prediction_tennis_Id3, average=\"weighted\"))"
   ]
  },
  {
   "cell_type": "code",
   "execution_count": 20,
   "id": "3493c16f",
   "metadata": {},
   "outputs": [
    {
     "name": "stdout",
     "output_type": "stream",
     "text": [
      "\n",
      "0 <=0.50: 1 (3) \n",
      "0 >0.50\n",
      "|   2 <=0.50\n",
      "|   |   1 <=1.50: 0 (1) \n",
      "|   |   1 >1.50: 0 (1/1) \n",
      "|   2 >0.50\n",
      "|   |   3 <=0.50\n",
      "|   |   |   1 <=1.00: 0 (1) \n",
      "|   |   |   1 >1.00: 1 (1) \n",
      "|   |   3 >0.50: 1 (3) \n",
      "\n"
     ]
    }
   ],
   "source": [
    "estimator_tennis_tree = export_text(estimator_tennis.tree_)\n",
    "print(estimator_tennis_tree)"
   ]
  },
  {
   "cell_type": "code",
   "execution_count": 21,
   "id": "12142642",
   "metadata": {
    "scrolled": true
   },
   "outputs": [],
   "source": [
    "estimator_cancer = estimator.fit(X_train_cancer, y_train_cancer)"
   ]
  },
  {
   "cell_type": "code",
   "execution_count": 22,
   "id": "ad34338b",
   "metadata": {},
   "outputs": [
    {
     "name": "stdout",
     "output_type": "stream",
     "text": [
      "\n",
      "worst concave points <=0.14\n",
      "|   worst radius <=16.83\n",
      "|   |   area error <=38.60\n",
      "|   |   |   worst texture <=30.15: 1 (216) \n",
      "|   |   |   worst texture >30.15\n",
      "|   |   |   |   texture error <=0.86: 0 (1) \n",
      "|   |   |   |   texture error >0.86\n",
      "|   |   |   |   |   worst smoothness <=0.14: 1 (27) \n",
      "|   |   |   |   |   worst smoothness >0.14\n",
      "|   |   |   |   |   |   mean radius <=12.23: 1 (6) \n",
      "|   |   |   |   |   |   mean radius >12.23: 0 (1) \n",
      "|   |   area error >38.60\n",
      "|   |   |   mean compactness <=0.06: 0 (2) \n",
      "|   |   |   mean compactness >0.06\n",
      "|   |   |   |   radius error <=0.42: 0 (1) \n",
      "|   |   |   |   radius error >0.42: 1 (9) \n",
      "|   worst radius >16.83\n",
      "|   |   mean texture <=16.19: 1 (6) \n",
      "|   |   mean texture >16.19\n",
      "|   |   |   worst concavity <=0.20\n",
      "|   |   |   |   mean compactness <=0.07: 0 (3) \n",
      "|   |   |   |   mean compactness >0.07: 1 (2) \n",
      "|   |   |   worst concavity >0.20: 0 (14) \n",
      "worst concave points >0.14\n",
      "|   worst perimeter <=114.45\n",
      "|   |   mean texture <=20.30\n",
      "|   |   |   area error <=21.94: 1 (9) \n",
      "|   |   |   area error >21.94\n",
      "|   |   |   |   worst smoothness <=0.14\n",
      "|   |   |   |   |   mean symmetry <=0.26: 1 (6) \n",
      "|   |   |   |   |   mean symmetry >0.26: 0 (1) \n",
      "|   |   |   |   worst smoothness >0.14: 0 (7) \n",
      "|   |   mean texture >20.30: 0 (15) \n",
      "|   worst perimeter >114.45: 0 (129) \n",
      "\n"
     ]
    }
   ],
   "source": [
    "estimator_cancer_tree = export_text(estimator_cancer.tree_, cancer['feature_names'])\n",
    "print(estimator_cancer_tree)"
   ]
  },
  {
   "cell_type": "code",
   "execution_count": 23,
   "id": "e78be65a",
   "metadata": {},
   "outputs": [
    {
     "name": "stdout",
     "output_type": "stream",
     "text": [
      "Id3Estimator: Cancer\n",
      "Accuracy: 0.9649122807017544\n",
      "F1 Macro avg: 0.9599859599859599\n",
      "F1 Weighted avg: 0.9646659646659645\n"
     ]
    }
   ],
   "source": [
    "prediction_cancer_Id3 = estimator_cancer.predict(X_test_cancer)\n",
    "print(\"Id3Estimator: Cancer\")\n",
    "print(\"Accuracy:\", metrics.accuracy_score(y_test_cancer, prediction_cancer_Id3))\n",
    "print(\"F1 Macro avg:\", metrics.f1_score(y_test_cancer, prediction_cancer_Id3, average=\"macro\"))\n",
    "print(\"F1 Weighted avg:\", metrics.f1_score(y_test_cancer, prediction_cancer_Id3, average=\"weighted\"))"
   ]
  },
  {
   "cell_type": "markdown",
   "id": "a741737f",
   "metadata": {},
   "source": [
    "## K-Means"
   ]
  },
  {
   "cell_type": "code",
   "execution_count": 24,
   "id": "7935429f",
   "metadata": {},
   "outputs": [],
   "source": [
    "kmeans = cluster.KMeans(n_clusters=2)"
   ]
  },
  {
   "cell_type": "code",
   "execution_count": 25,
   "id": "6be55230",
   "metadata": {},
   "outputs": [],
   "source": [
    "kmeans_tennis = kmeans.fit(X_train_tennis,y_train_tennis)"
   ]
  },
  {
   "cell_type": "code",
   "execution_count": 26,
   "id": "5e34d4d5",
   "metadata": {},
   "outputs": [
    {
     "name": "stdout",
     "output_type": "stream",
     "text": [
      "          Centroid 1  Centroid 2\n",
      "outlook     0.666667         1.6\n",
      "temp        0.333333         1.8\n",
      "humidity    0.833333         0.4\n",
      "wind        0.666667         0.6\n"
     ]
    }
   ],
   "source": [
    "kmeans_tennis_centroid = pd.DataFrame(kmeans_tennis.cluster_centers_.transpose())\n",
    "kmeans_tennis_centroid.index = tennis.columns[:-1].tolist()\n",
    "kmeans_tennis_centroid.columns = [\"Centroid 1\", \"Centroid 2\"]\n",
    "print(kmeans_tennis_centroid)"
   ]
  },
  {
   "cell_type": "code",
   "execution_count": 27,
   "id": "518e7728",
   "metadata": {},
   "outputs": [
    {
     "name": "stdout",
     "output_type": "stream",
     "text": [
      "K-Means: Tennis\n",
      "Accuracy: 0.3333333333333333\n",
      "F1 Macro avg: 0.25\n",
      "F1 Weighted avg: 0.16666666666666666\n"
     ]
    }
   ],
   "source": [
    "prediction_tennis_kmeans = kmeans_tennis.predict(X_test_tennis)\n",
    "print(\"K-Means: Tennis\")\n",
    "print(\"Accuracy:\", metrics.accuracy_score(y_test_tennis, prediction_tennis_kmeans))\n",
    "print(\"F1 Macro avg:\", metrics.f1_score(y_test_tennis, prediction_tennis_kmeans, average=\"macro\"))\n",
    "print(\"F1 Weighted avg:\", metrics.f1_score(y_test_tennis, prediction_tennis_kmeans, average=\"weighted\"))"
   ]
  },
  {
   "cell_type": "code",
   "execution_count": 28,
   "id": "8662ffff",
   "metadata": {},
   "outputs": [],
   "source": [
    "kmeans_cancer = kmeans.fit(X_train_cancer,y_train_cancer)"
   ]
  },
  {
   "cell_type": "code",
   "execution_count": 29,
   "id": "a9cf6320",
   "metadata": {},
   "outputs": [
    {
     "name": "stdout",
     "output_type": "stream",
     "text": [
      "                         Centroid 1   Centroid 2\n",
      "mean radius               12.610020    19.298868\n",
      "mean texture              18.700544    21.845377\n",
      "mean perimeter            81.506275   127.647170\n",
      "mean area                500.685673  1176.164151\n",
      "mean smoothness            0.094454     0.101690\n",
      "mean compactness           0.091569     0.147190\n",
      "mean concavity             0.064158     0.175125\n",
      "mean concave points        0.033647     0.100182\n",
      "mean symmetry              0.178926     0.189862\n",
      "mean fractal dimension     0.063479     0.060556\n",
      "radius error               0.303444     0.756993\n",
      "texture error              1.227403     1.232891\n",
      "perimeter error            2.146616     5.378491\n",
      "area error                23.930883    98.083113\n",
      "smoothness error           0.007090     0.006636\n",
      "compactness error          0.023894     0.031703\n",
      "concavity error            0.029568     0.042593\n",
      "concave points error       0.010599     0.015774\n",
      "symmetry error             0.020449     0.020377\n",
      "fractal dimension error    0.003823     0.003905\n",
      "worst radius              14.121014    23.659434\n",
      "worst texture             24.964413    29.020377\n",
      "worst perimeter           92.507507   158.139623\n",
      "worst area               627.507450  1746.188679\n",
      "worst smoothness           0.129574     0.140800\n",
      "worst compactness          0.227591     0.351009\n",
      "worst concavity            0.225584     0.446457\n",
      "worst concave points       0.092343     0.191707\n",
      "worst symmetry             0.285084     0.308714\n",
      "worst fractal dimension    0.083948     0.085551\n"
     ]
    }
   ],
   "source": [
    "kmeans_cancer_centroid = pd.DataFrame(kmeans_cancer.cluster_centers_.transpose())\n",
    "kmeans_cancer_centroid.index = cancer['feature_names'].tolist()\n",
    "kmeans_cancer_centroid.columns = [\"Centroid 1\", \"Centroid 2\"]\n",
    "print(kmeans_cancer_centroid)"
   ]
  },
  {
   "cell_type": "code",
   "execution_count": 30,
   "id": "829c632e",
   "metadata": {},
   "outputs": [
    {
     "name": "stdout",
     "output_type": "stream",
     "text": [
      "K-Means: Cancer\n",
      "Accuracy: 0.11403508771929824\n",
      "F1 Macro avg: 0.10236220472440946\n",
      "F1 Weighted avg: 0.06824146981627298\n"
     ]
    }
   ],
   "source": [
    "prediction_cancer_kmeans = kmeans_cancer.predict(X_test_cancer)\n",
    "print(\"K-Means: Cancer\")\n",
    "print(\"Accuracy:\", metrics.accuracy_score(y_test_cancer, prediction_cancer_kmeans))\n",
    "print(\"F1 Macro avg:\", metrics.f1_score(y_test_cancer, prediction_cancer_kmeans, average=\"macro\"))\n",
    "print(\"F1 Weighted avg:\", metrics.f1_score(y_test_cancer, prediction_cancer_kmeans, average=\"weighted\"))"
   ]
  },
  {
   "cell_type": "markdown",
   "id": "761716f9",
   "metadata": {},
   "source": [
    "## Logistic Regression"
   ]
  },
  {
   "cell_type": "code",
   "execution_count": 31,
   "id": "5eefbc81",
   "metadata": {},
   "outputs": [],
   "source": [
    "lr = linear_model.LogisticRegression(class_weight='balanced', max_iter=2500, random_state=0)"
   ]
  },
  {
   "cell_type": "code",
   "execution_count": 32,
   "id": "75b4186f",
   "metadata": {},
   "outputs": [],
   "source": [
    "lr_tennis = lr.fit(X_train_tennis,y_train_tennis)"
   ]
  },
  {
   "cell_type": "code",
   "execution_count": 33,
   "id": "520c1aee",
   "metadata": {},
   "outputs": [
    {
     "name": "stdout",
     "output_type": "stream",
     "text": [
      "Logistic Regression: Tennis\n",
      "Accuracy: 1.0\n",
      "F1 Macro avg: 1.0\n",
      "F1 Weighted avg: 1.0\n"
     ]
    }
   ],
   "source": [
    "prediction_tennis_lr = lr_tennis.predict(X_test_tennis)\n",
    "print(\"Logistic Regression: Tennis\")\n",
    "print(\"Accuracy:\", metrics.accuracy_score(y_test_tennis, prediction_tennis_lr))\n",
    "print(\"F1 Macro avg:\", metrics.f1_score(y_test_tennis, prediction_tennis_lr, average=\"macro\"))\n",
    "print(\"F1 Weighted avg:\", metrics.f1_score(y_test_tennis, prediction_tennis_lr, average=\"weighted\"))"
   ]
  },
  {
   "cell_type": "code",
   "execution_count": 34,
   "id": "bf0045c6",
   "metadata": {},
   "outputs": [],
   "source": [
    "lr_cancer = lr.fit(X_train_cancer,y_train_cancer)"
   ]
  },
  {
   "cell_type": "code",
   "execution_count": 35,
   "id": "df986ca0",
   "metadata": {},
   "outputs": [
    {
     "name": "stdout",
     "output_type": "stream",
     "text": [
      "Logistic Regression: Cancer\n",
      "Accuracy: 0.9649122807017544\n",
      "F1 Macro avg: 0.9599859599859599\n",
      "F1 Weighted avg: 0.9646659646659645\n"
     ]
    }
   ],
   "source": [
    "prediction_cancer_lr = lr_cancer.predict(X_test_cancer)\n",
    "print(\"Logistic Regression: Cancer\")\n",
    "print(\"Accuracy:\", metrics.accuracy_score(y_test_cancer, prediction_cancer_lr))\n",
    "print(\"F1 Macro avg:\", metrics.f1_score(y_test_cancer, prediction_cancer_lr, average=\"macro\"))\n",
    "print(\"F1 Weighted avg:\", metrics.f1_score(y_test_cancer, prediction_cancer_lr, average=\"weighted\"))"
   ]
  },
  {
   "cell_type": "markdown",
   "id": "efa73fff",
   "metadata": {},
   "source": [
    "## Neural Network"
   ]
  },
  {
   "cell_type": "code",
   "execution_count": 36,
   "id": "30246599",
   "metadata": {},
   "outputs": [],
   "source": [
    "neural = neural_network.MLPClassifier(max_iter=1000)"
   ]
  },
  {
   "cell_type": "code",
   "execution_count": 37,
   "id": "51c28077",
   "metadata": {},
   "outputs": [],
   "source": [
    "neural_tennis = neural.fit(X_train_tennis,y_train_tennis)"
   ]
  },
  {
   "cell_type": "code",
   "execution_count": 38,
   "id": "580ce76b",
   "metadata": {},
   "outputs": [
    {
     "name": "stdout",
     "output_type": "stream",
     "text": [
      "Neural Network: Tennis\n",
      "Accuracy: 0.6666666666666666\n",
      "F1 Macro avg: 0.6666666666666666\n",
      "F1 Weighted: 0.6666666666666666\n"
     ]
    }
   ],
   "source": [
    "prediction_tennis_neural = neural_tennis.predict(X_test_tennis)\n",
    "print(\"Neural Network: Tennis\")\n",
    "print(\"Accuracy:\", metrics.accuracy_score(y_test_tennis, prediction_tennis_neural))\n",
    "print(\"F1 Macro avg:\", metrics.f1_score(y_test_tennis, prediction_tennis_neural, average=\"macro\"))\n",
    "print(\"F1 Weighted:\", metrics.f1_score(y_test_tennis, prediction_tennis_neural, average=\"weighted\"))"
   ]
  },
  {
   "cell_type": "code",
   "execution_count": 39,
   "id": "616c76de",
   "metadata": {},
   "outputs": [],
   "source": [
    "neural_cancer = neural.fit(X_train_cancer,y_train_cancer)"
   ]
  },
  {
   "cell_type": "code",
   "execution_count": 40,
   "id": "4e6295fa",
   "metadata": {},
   "outputs": [
    {
     "name": "stdout",
     "output_type": "stream",
     "text": [
      "Neural Network: Cancer\n",
      "Accuracy: 0.9473684210526315\n",
      "F1 Macro avg: 0.9391025641025641\n",
      "F1 Weighted avg: 0.9465811965811965\n"
     ]
    }
   ],
   "source": [
    "prediction_cancer_neural = neural_cancer.predict(X_test_cancer)\n",
    "print(\"Neural Network: Cancer\")\n",
    "print(\"Accuracy:\", metrics.accuracy_score(y_test_cancer, prediction_cancer_neural))\n",
    "print(\"F1 Macro avg:\", metrics.f1_score(y_test_cancer, prediction_cancer_neural, average=\"macro\"))\n",
    "print(\"F1 Weighted avg:\", metrics.f1_score(y_test_cancer, prediction_cancer_neural, average=\"weighted\"))"
   ]
  },
  {
   "cell_type": "markdown",
   "id": "20d2ee63",
   "metadata": {},
   "source": [
    "## SVM"
   ]
  },
  {
   "cell_type": "code",
   "execution_count": 41,
   "id": "90fb6734",
   "metadata": {},
   "outputs": [],
   "source": [
    "svc = svm.SVC()"
   ]
  },
  {
   "cell_type": "code",
   "execution_count": 42,
   "id": "41936378",
   "metadata": {},
   "outputs": [],
   "source": [
    "svc_tennis = svc.fit(X_train_tennis,y_train_tennis)"
   ]
  },
  {
   "cell_type": "code",
   "execution_count": 43,
   "id": "81144a7f",
   "metadata": {},
   "outputs": [
    {
     "name": "stdout",
     "output_type": "stream",
     "text": [
      "SVM: Tennis\n",
      "Accuracy: 0.3333333333333333\n",
      "F1 Macro avg: 0.25\n",
      "F1 Weighted avg: 0.16666666666666666\n"
     ]
    }
   ],
   "source": [
    "prediction_tennis_svm = svc_tennis.predict(X_test_tennis)\n",
    "print(\"SVM: Tennis\")\n",
    "print(\"Accuracy:\", metrics.accuracy_score(y_test_tennis, prediction_tennis_svm))\n",
    "print(\"F1 Macro avg:\", metrics.f1_score(y_test_tennis, prediction_tennis_svm, average=\"macro\"))\n",
    "print(\"F1 Weighted avg:\", metrics.f1_score(y_test_tennis, prediction_tennis_svm, average=\"weighted\"))"
   ]
  },
  {
   "cell_type": "code",
   "execution_count": 44,
   "id": "054ac85d",
   "metadata": {},
   "outputs": [],
   "source": [
    "svc_cancer = svc.fit(X_train_cancer,y_train_cancer)"
   ]
  },
  {
   "cell_type": "code",
   "execution_count": 45,
   "id": "fffcffec",
   "metadata": {},
   "outputs": [
    {
     "name": "stdout",
     "output_type": "stream",
     "text": [
      "SVM: Cancer\n",
      "Accuracy: 0.9473684210526315\n",
      "F1 Macro avg: 0.9381555153707053\n",
      "F1 Weighted avg: 0.9381555153707053\n"
     ]
    }
   ],
   "source": [
    "prediction_cancer_svm = svc_cancer.predict(X_test_cancer)\n",
    "print(\"SVM: Cancer\")\n",
    "print(\"Accuracy:\", metrics.accuracy_score(y_test_cancer, prediction_cancer_svm))\n",
    "print(\"F1 Macro avg:\", metrics.f1_score(y_test_cancer, prediction_cancer_svm, average=\"macro\"))\n",
    "print(\"F1 Weighted avg:\", metrics.f1_score(y_test_cancer, prediction_cancer_svm, average=\"macro\"))"
   ]
  },
  {
   "cell_type": "markdown",
   "id": "164fec40",
   "metadata": {},
   "source": [
    "## Analisis "
   ]
  },
  {
   "cell_type": "markdown",
   "id": "d044d9ba",
   "metadata": {},
   "source": [
    "### Perbandingan Nilai Akurasi dan F1 Score dari masing-masing Algoritma pada dataset Play Tennis"
   ]
  },
  {
   "cell_type": "markdown",
   "id": "4563b1d3",
   "metadata": {},
   "source": [
    "Setelah melakukan pembelajaran dengan beberapa algoritma di atas, didapatkan nilai tertinggi untuk Accuracy dan kedua F1 Score dengan menggunakan algoritma Id3Estimator dan LogisticRegression dengan skor 1. Sedangkan nilai terendah untuk dataset Play Tennis didapat dengan menggunakan Decision Tree, KMeans dan SVM dengan skor 0.333 untuk Accuracy dan 0.25 / 0.167 untuk F1 Macro / Weighted average. Terakhir, untuk pembelajaran Neural Network diperoleh skor 0.667 untuk Accuracy dan kedua F1 Score "
   ]
  },
  {
   "cell_type": "markdown",
   "id": "d8fc61cc",
   "metadata": {},
   "source": [
    "### Perbandingan Nilai Akurasi dan F1 Score dari masing-masing Algoritma pada dataset Breast Cancer"
   ]
  },
  {
   "cell_type": "markdown",
   "id": "9737d106",
   "metadata": {},
   "source": [
    "Setelah melakukan pembelajaran dengan beberapa algoritma di atas, didapatkan nilai tertinggi dengan menggunakan Decision Tree, Id3Estimator, dan LogisticRegression dengan 0965 untuk Accuracy, 0.960 untuk F1 Macro avg, dan 0.965 untuk F1 Weighted avg. Sedangkan yang terendah didapat dengan pembelajaran KMeans dengan 0.114 untuk Accuracy, 0.102 untuk F1 Macro avg, dan 0.068 untuk F1 Weighted avg."
   ]
  },
  {
   "cell_type": "markdown",
   "id": "0602b065",
   "metadata": {},
   "source": [
    "### Kesimpulan"
   ]
  },
  {
   "cell_type": "markdown",
   "id": "38374d90",
   "metadata": {},
   "source": [
    "Dengan melihat hasil atau nilai yang dihasilkan dari pembelajaran berbagai algoritma, kami melihat pola di mana skor yang dihasilkan untuk dataset breast cancer relatif lebih besar daripada untuk dataset play tennis. Hal ini kami asumsikan dikarenakan jumlah data yang sangat jauh berbeda di mana dataset brease"
   ]
  }
 ],
 "metadata": {
  "kernelspec": {
   "display_name": "Python 3",
   "language": "python",
   "name": "python3"
  },
  "language_info": {
   "codemirror_mode": {
    "name": "ipython",
    "version": 3
   },
   "file_extension": ".py",
   "mimetype": "text/x-python",
   "name": "python",
   "nbconvert_exporter": "python",
   "pygments_lexer": "ipython3",
   "version": "3.9.1"
  }
 },
 "nbformat": 4,
 "nbformat_minor": 5
}
