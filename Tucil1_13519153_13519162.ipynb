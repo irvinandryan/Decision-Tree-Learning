{
 "cells": [
  {
   "cell_type": "code",
   "execution_count": 361,
   "id": "39460860",
   "metadata": {},
   "outputs": [],
   "source": [
    "from sklearn import datasets, tree, model_selection, preprocessing, metrics"
   ]
  },
  {
   "cell_type": "code",
   "execution_count": 362,
   "id": "c92858ef",
   "metadata": {},
   "outputs": [],
   "source": [
    "import pandas as pd"
   ]
  },
  {
   "cell_type": "code",
   "execution_count": 363,
   "id": "ea62b331",
   "metadata": {},
   "outputs": [],
   "source": [
    "cancer = datasets.load_breast_cancer()"
   ]
  },
  {
   "cell_type": "code",
   "execution_count": 364,
   "id": "6048ae2a",
   "metadata": {
    "scrolled": true
   },
   "outputs": [],
   "source": [
    "#load data from csv file\n",
    "tennis = pd.read_csv('play_tennis.csv')"
   ]
  },
  {
   "cell_type": "code",
   "execution_count": 379,
   "id": "41b1e551",
   "metadata": {},
   "outputs": [],
   "source": [
    "#transform label\n",
    "le = preprocessing.LabelEncoder()\n",
    "#tennis = tennis.drop('day', axis = 1) ----> day perlu dimasukkan sebagai data training gak ya?\n",
    "tennis['day'] = le.fit_transform(tennis['day'])\n",
    "tennis['outlook'] = le.fit_transform(tennis['outlook'])\n",
    "tennis['temp'] = le.fit_transform(tennis['temp'])\n",
    "tennis['humidity'] = le.fit_transform(tennis['humidity'])\n",
    "tennis['wind'] = le.fit_transform(tennis['wind'])\n",
    "tennis['play'] = le.fit_transform(tennis['play'])"
   ]
  },
  {
   "cell_type": "code",
   "execution_count": 380,
   "id": "506bfbfd",
   "metadata": {},
   "outputs": [],
   "source": [
    "X = tennis.drop('play', axis = 1)\n",
    "y = tennis.play"
   ]
  },
  {
   "cell_type": "code",
   "execution_count": 381,
   "id": "5b9d1e20",
   "metadata": {},
   "outputs": [],
   "source": [
    "#Set training data to 80% and test data to 20%\n",
    "X_train, X_test, y_train, y_test = model_selection.train_test_split(X,y,test_size=0.2)"
   ]
  },
  {
   "cell_type": "code",
   "execution_count": 382,
   "id": "7d4a90d3",
   "metadata": {},
   "outputs": [],
   "source": [
    "##############################\n",
    "### DECISION TREE LEARNING ###\n",
    "##############################\n",
    "decision_tree = tree.DecisionTreeClassifier(criterion='entropy', max_depth=20)"
   ]
  },
  {
   "cell_type": "code",
   "execution_count": 383,
   "id": "cd71ce9b",
   "metadata": {},
   "outputs": [],
   "source": [
    "decision_tree = decision_tree.fit(X_train, y_train)"
   ]
  },
  {
   "cell_type": "code",
   "execution_count": 387,
   "id": "ae39e74e",
   "metadata": {},
   "outputs": [
    {
     "name": "stdout",
     "output_type": "stream",
     "text": [
      "|--- feature_1 <= 0.50\n",
      "|   |--- class: 1\n",
      "|--- feature_1 >  0.50\n",
      "|   |--- feature_3 <= 0.50\n",
      "|   |   |--- feature_0 <= 7.00\n",
      "|   |   |   |--- class: 0\n",
      "|   |   |--- feature_0 >  7.00\n",
      "|   |   |   |--- class: 1\n",
      "|   |--- feature_3 >  0.50\n",
      "|   |   |--- feature_1 <= 1.50\n",
      "|   |   |   |--- feature_0 <= 9.50\n",
      "|   |   |   |   |--- class: 1\n",
      "|   |   |   |--- feature_0 >  9.50\n",
      "|   |   |   |   |--- class: 0\n",
      "|   |   |--- feature_1 >  1.50\n",
      "|   |   |   |--- class: 1\n",
      "\n"
     ]
    }
   ],
   "source": [
    "r = export_text(decision_tree)\n",
    "print(r)"
   ]
  },
  {
   "cell_type": "code",
   "execution_count": 388,
   "id": "2ca809fa",
   "metadata": {},
   "outputs": [
    {
     "name": "stdout",
     "output_type": "stream",
     "text": [
      "Accuracy: 0.6666666666666666\n",
      "F1: 0.4\n"
     ]
    }
   ],
   "source": [
    "result = decision_tree.predict(X_test)\n",
    "print(\"Accuracy:\", metrics.accuracy_score(y_test, result))\n",
    "print(\"F1:\", metrics.f1_score(y_test, result, average=\"macro\"))"
   ]
  },
  {
   "cell_type": "code",
   "execution_count": null,
   "id": "0a78deed",
   "metadata": {},
   "outputs": [],
   "source": []
  },
  {
   "cell_type": "code",
   "execution_count": null,
   "id": "054372ef",
   "metadata": {},
   "outputs": [],
   "source": []
  }
 ],
 "metadata": {
  "kernelspec": {
   "display_name": "Python 3 (ipykernel)",
   "language": "python",
   "name": "python3"
  },
  "language_info": {
   "codemirror_mode": {
    "name": "ipython",
    "version": 3
   },
   "file_extension": ".py",
   "mimetype": "text/x-python",
   "name": "python",
   "nbconvert_exporter": "python",
   "pygments_lexer": "ipython3",
   "version": "3.9.1"
  }
 },
 "nbformat": 4,
 "nbformat_minor": 5
}
