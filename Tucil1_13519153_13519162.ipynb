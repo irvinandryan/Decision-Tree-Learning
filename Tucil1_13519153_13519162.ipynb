{
 "cells": [
  {
   "cell_type": "markdown",
   "id": "368f5590",
   "metadata": {},
   "source": [
    "# Tucil 1 IF3270 Machine Learning dengan Python"
   ]
  },
  {
   "cell_type": "markdown",
   "id": "62cec6eb",
   "metadata": {},
   "source": [
    "### 13519153 Maximillian Lukman - 13519162 Irvin Andryan Pratomo"
   ]
  },
  {
   "cell_type": "code",
   "execution_count": 98,
   "id": "39460860",
   "metadata": {},
   "outputs": [],
   "source": [
    "from sklearn import datasets, tree, model_selection, preprocessing, metrics, svm, cluster, linear_model, neural_network"
   ]
  },
  {
   "cell_type": "code",
   "execution_count": 99,
   "id": "02ba994b",
   "metadata": {},
   "outputs": [],
   "source": [
    "import six\n",
    "import sys\n",
    "sys.modules['sklearn.externals.six'] = six"
   ]
  },
  {
   "cell_type": "code",
   "execution_count": 100,
   "id": "ac31b383",
   "metadata": {},
   "outputs": [],
   "source": [
    "from id3 import Id3Estimator, export_text"
   ]
  },
  {
   "cell_type": "code",
   "execution_count": 101,
   "id": "3c8706d5",
   "metadata": {},
   "outputs": [],
   "source": [
    "import pandas as pd"
   ]
  },
  {
   "cell_type": "code",
   "execution_count": 102,
   "id": "f53ee447",
   "metadata": {},
   "outputs": [],
   "source": [
    "#load data from sklearn.datasets\n",
    "cancer = datasets.load_breast_cancer()"
   ]
  },
  {
   "cell_type": "code",
   "execution_count": 103,
   "id": "ff1bf404",
   "metadata": {
    "scrolled": true
   },
   "outputs": [],
   "source": [
    "#load data from csv file\n",
    "tennis = pd.read_csv('play_tennis.csv')"
   ]
  },
  {
   "cell_type": "code",
   "execution_count": 104,
   "id": "9d757231",
   "metadata": {},
   "outputs": [],
   "source": [
    "#transform label for tennis\n",
    "le = preprocessing.LabelEncoder()\n",
    "\n",
    "tennis = tennis.drop('day', axis = 1)\n",
    "tennis['outlook'] = le.fit_transform(tennis['outlook'])\n",
    "tennis['temp'] = le.fit_transform(tennis['temp'])\n",
    "tennis['humidity'] = le.fit_transform(tennis['humidity'])\n",
    "tennis['wind'] = le.fit_transform(tennis['wind'])\n",
    "tennis['play'] = le.fit_transform(tennis['play'])"
   ]
  },
  {
   "cell_type": "code",
   "execution_count": 105,
   "id": "8eb44d25",
   "metadata": {},
   "outputs": [],
   "source": [
    "X_cancer = cancer.data\n",
    "y_cancer = cancer.target"
   ]
  },
  {
   "cell_type": "code",
   "execution_count": 106,
   "id": "004ab270",
   "metadata": {},
   "outputs": [],
   "source": [
    "X_tennis = tennis.drop('play', axis = 1)\n",
    "y_tennis = tennis.play"
   ]
  },
  {
   "cell_type": "code",
   "execution_count": 107,
   "id": "b5aefc98",
   "metadata": {},
   "outputs": [],
   "source": [
    "#Set training data to 80% and test data to 20% for cancer\n",
    "X_train_cancer, X_test_cancer, y_train_cancer, y_test_cancer = model_selection.train_test_split(X_cancer,y_cancer,test_size=0.2,shuffle=True)"
   ]
  },
  {
   "cell_type": "code",
   "execution_count": 108,
   "id": "6e862a55",
   "metadata": {},
   "outputs": [],
   "source": [
    "#Set training data to 80% and test data to 20% for tennis\n",
    "X_train_tennis, X_test_tennis, y_train_tennis, y_test_tennis = model_selection.train_test_split(X_tennis,y_tennis,test_size=0.2,shuffle=True)"
   ]
  },
  {
   "cell_type": "markdown",
   "id": "b96485c5",
   "metadata": {},
   "source": [
    "## Decision Tree Classifier"
   ]
  },
  {
   "cell_type": "code",
   "execution_count": 109,
   "id": "0dbef8ca",
   "metadata": {},
   "outputs": [],
   "source": [
    "decision_tree = tree.DecisionTreeClassifier(criterion='entropy', max_depth=20)"
   ]
  },
  {
   "cell_type": "code",
   "execution_count": 110,
   "id": "d2946daa",
   "metadata": {},
   "outputs": [
    {
     "name": "stdout",
     "output_type": "stream",
     "text": [
      "Play Tennis\n",
      "|--- wind <= 0.50\n",
      "|   |--- outlook <= 0.50\n",
      "|   |   |--- class: 1\n",
      "|   |--- outlook >  0.50\n",
      "|   |   |--- outlook <= 1.50\n",
      "|   |   |   |--- class: 0\n",
      "|   |   |--- outlook >  1.50\n",
      "|   |   |   |--- humidity <= 0.50\n",
      "|   |   |   |   |--- class: 0\n",
      "|   |   |   |--- humidity >  0.50\n",
      "|   |   |   |   |--- class: 1\n",
      "|--- wind >  0.50\n",
      "|   |--- class: 1\n",
      "\n"
     ]
    }
   ],
   "source": [
    "#decision tree for tennis\n",
    "decision_tree_tennis = decision_tree.fit(X_train_tennis, y_train_tennis)\n",
    "r_tennis = tree.export_text(decision_tree_tennis, feature_names=tennis.columns[:-1].tolist())\n",
    "print(\"Play Tennis\")\n",
    "print(r_tennis)"
   ]
  },
  {
   "cell_type": "code",
   "execution_count": 111,
   "id": "3a522347",
   "metadata": {
    "scrolled": true
   },
   "outputs": [
    {
     "name": "stdout",
     "output_type": "stream",
     "text": [
      "Decision Tree Classifier: Tennis\n",
      "Accuracy: 0.3333333333333333\n",
      "F1 Macro avg: 0.25\n",
      "F1 Weighted avg: 0.16666666666666666\n"
     ]
    }
   ],
   "source": [
    "prediction_tennis_decisionTreeClassifier = decision_tree_tennis.predict(X_test_tennis)\n",
    "print(\"Decision Tree Classifier: Tennis\")\n",
    "print(\"Accuracy:\", metrics.accuracy_score(y_test_tennis, prediction_tennis_decisionTreeClassifier))\n",
    "print(\"F1 Macro avg:\", metrics.f1_score(y_test_tennis, prediction_tennis_decisionTreeClassifier, average=\"macro\"))\n",
    "print(\"F1 Weighted avg:\", metrics.f1_score(y_test_tennis, prediction_tennis_decisionTreeClassifier, average=\"weighted\"))"
   ]
  },
  {
   "cell_type": "code",
   "execution_count": 112,
   "id": "a93f7690",
   "metadata": {},
   "outputs": [
    {
     "name": "stdout",
     "output_type": "stream",
     "text": [
      "Breast Cancer\n",
      "|--- worst radius <= 16.80\n",
      "|   |--- worst concave points <= 0.14\n",
      "|   |   |--- mean texture <= 21.43\n",
      "|   |   |   |--- class: 1\n",
      "|   |   |--- mean texture >  21.43\n",
      "|   |   |   |--- worst area <= 643.25\n",
      "|   |   |   |   |--- class: 1\n",
      "|   |   |   |--- worst area >  643.25\n",
      "|   |   |   |   |--- concave points error <= 0.02\n",
      "|   |   |   |   |   |--- compactness error <= 0.01\n",
      "|   |   |   |   |   |   |--- mean perimeter <= 90.44\n",
      "|   |   |   |   |   |   |   |--- class: 0\n",
      "|   |   |   |   |   |   |--- mean perimeter >  90.44\n",
      "|   |   |   |   |   |   |   |--- class: 1\n",
      "|   |   |   |   |   |--- compactness error >  0.01\n",
      "|   |   |   |   |   |   |--- class: 1\n",
      "|   |   |   |   |--- concave points error >  0.02\n",
      "|   |   |   |   |   |--- class: 0\n",
      "|   |--- worst concave points >  0.14\n",
      "|   |   |--- worst texture <= 25.67\n",
      "|   |   |   |--- concave points error <= 0.01\n",
      "|   |   |   |   |--- area error <= 20.88\n",
      "|   |   |   |   |   |--- class: 1\n",
      "|   |   |   |   |--- area error >  20.88\n",
      "|   |   |   |   |   |--- class: 0\n",
      "|   |   |   |--- concave points error >  0.01\n",
      "|   |   |   |   |--- class: 1\n",
      "|   |   |--- worst texture >  25.67\n",
      "|   |   |   |--- mean concavity <= 0.09\n",
      "|   |   |   |   |--- fractal dimension error <= 0.00\n",
      "|   |   |   |   |   |--- class: 0\n",
      "|   |   |   |   |--- fractal dimension error >  0.00\n",
      "|   |   |   |   |   |--- class: 1\n",
      "|   |   |   |--- mean concavity >  0.09\n",
      "|   |   |   |   |--- class: 0\n",
      "|--- worst radius >  16.80\n",
      "|   |--- mean texture <= 14.99\n",
      "|   |   |--- mean concavity <= 0.16\n",
      "|   |   |   |--- class: 1\n",
      "|   |   |--- mean concavity >  0.16\n",
      "|   |   |   |--- class: 0\n",
      "|   |--- mean texture >  14.99\n",
      "|   |   |--- worst concavity <= 0.20\n",
      "|   |   |   |--- mean concavity <= 0.05\n",
      "|   |   |   |   |--- class: 0\n",
      "|   |   |   |--- mean concavity >  0.05\n",
      "|   |   |   |   |--- class: 1\n",
      "|   |   |--- worst concavity >  0.20\n",
      "|   |   |   |--- class: 0\n",
      "\n"
     ]
    }
   ],
   "source": [
    "#decision tree for cancer\n",
    "decision_tree_cancer = decision_tree.fit(X_train_cancer, y_train_cancer)\n",
    "r_cancer = tree.export_text(decision_tree_cancer, feature_names=cancer.feature_names.tolist())\n",
    "print(\"Breast Cancer\")\n",
    "print(r_cancer)"
   ]
  },
  {
   "cell_type": "code",
   "execution_count": 113,
   "id": "1c88f2bc",
   "metadata": {
    "scrolled": true
   },
   "outputs": [
    {
     "name": "stdout",
     "output_type": "stream",
     "text": [
      "Decision Tree Classifier: Cancer\n",
      "Accuracy: 0.9385964912280702\n",
      "F1 Macro avg: 0.9246814535158093\n",
      "F1 Weighted avg: 0.9377445501436461\n"
     ]
    }
   ],
   "source": [
    "prediction_cancer_decisionTreeClassifier = decision_tree_cancer.predict(X_test_cancer)\n",
    "print(\"Decision Tree Classifier: Cancer\")\n",
    "print(\"Accuracy:\", metrics.accuracy_score(y_test_cancer, prediction_cancer_decisionTreeClassifier))\n",
    "print(\"F1 Macro avg:\", metrics.f1_score(y_test_cancer, prediction_cancer_decisionTreeClassifier, average=\"macro\"))\n",
    "print(\"F1 Weighted avg:\", metrics.f1_score(y_test_cancer, prediction_cancer_decisionTreeClassifier, average=\"weighted\"))"
   ]
  },
  {
   "cell_type": "markdown",
   "id": "a282a633",
   "metadata": {},
   "source": [
    "## Id3Estimator"
   ]
  },
  {
   "cell_type": "code",
   "execution_count": 114,
   "id": "dd9dfcaa",
   "metadata": {},
   "outputs": [],
   "source": [
    "estimator = Id3Estimator()"
   ]
  },
  {
   "cell_type": "code",
   "execution_count": 115,
   "id": "5c80a89e",
   "metadata": {},
   "outputs": [],
   "source": [
    "estimator_tennis = estimator.fit(X_train_tennis, y_train_tennis)"
   ]
  },
  {
   "cell_type": "code",
   "execution_count": 116,
   "id": "74b72709",
   "metadata": {},
   "outputs": [
    {
     "name": "stdout",
     "output_type": "stream",
     "text": [
      "Id3Estimator: Tennis\n",
      "Accuracy: 0.3333333333333333\n",
      "F1 Macro avg: 0.25\n",
      "F1 Weighted avg: 0.16666666666666666\n"
     ]
    }
   ],
   "source": [
    "prediction_tennis_Id3 = estimator_tennis.predict(X_test_tennis)\n",
    "print(\"Id3Estimator: Tennis\")\n",
    "print(\"Accuracy:\", metrics.accuracy_score(y_test_tennis, prediction_tennis_Id3))\n",
    "print(\"F1 Macro avg:\", metrics.f1_score(y_test_tennis, prediction_tennis_Id3, average=\"macro\"))\n",
    "print(\"F1 Weighted avg:\", metrics.f1_score(y_test_tennis, prediction_tennis_Id3, average=\"weighted\"))"
   ]
  },
  {
   "cell_type": "code",
   "execution_count": 117,
   "id": "3493c16f",
   "metadata": {
    "scrolled": true
   },
   "outputs": [
    {
     "name": "stdout",
     "output_type": "stream",
     "text": [
      "Play Tennis\n",
      "\n",
      "wind <=0.50\n",
      "|   outlook <=0.50: 1 (2) \n",
      "|   outlook >0.50\n",
      "|   |   temp <=1.50: 0 (2) \n",
      "|   |   temp >1.50\n",
      "|   |   |   humidity <=0.50: 0 (1) \n",
      "|   |   |   humidity >0.50: 1 (1) \n",
      "wind >0.50: 1 (5) \n",
      "\n"
     ]
    }
   ],
   "source": [
    "estimator_tennis_tree = export_text(estimator_tennis.tree_, feature_names=tennis.columns[:-1].tolist())\n",
    "print(\"Play Tennis\")\n",
    "print(estimator_tennis_tree)"
   ]
  },
  {
   "cell_type": "code",
   "execution_count": 118,
   "id": "12142642",
   "metadata": {
    "scrolled": true
   },
   "outputs": [],
   "source": [
    "estimator_cancer = estimator.fit(X_train_cancer, y_train_cancer)"
   ]
  },
  {
   "cell_type": "code",
   "execution_count": 119,
   "id": "ad34338b",
   "metadata": {
    "scrolled": true
   },
   "outputs": [
    {
     "name": "stdout",
     "output_type": "stream",
     "text": [
      "Breast Cancer\n",
      "\n",
      "worst radius <=16.80\n",
      "|   worst concave points <=0.14\n",
      "|   |   mean texture <=21.43: 1 (215) \n",
      "|   |   mean texture >21.43\n",
      "|   |   |   worst area <=643.25: 1 (30) \n",
      "|   |   |   worst area >643.25\n",
      "|   |   |   |   mean smoothness <=0.09\n",
      "|   |   |   |   |   mean radius <=13.45\n",
      "|   |   |   |   |   |   mean perimeter <=86.26: 0 (2) \n",
      "|   |   |   |   |   |   mean perimeter >86.26: 1 (1) \n",
      "|   |   |   |   |   mean radius >13.45: 1 (10) \n",
      "|   |   |   |   mean smoothness >0.09: 0 (2) \n",
      "|   worst concave points >0.14\n",
      "|   |   worst texture <=25.67\n",
      "|   |   |   concave points error <=0.01\n",
      "|   |   |   |   mean texture <=16.98: 0 (2) \n",
      "|   |   |   |   mean texture >16.98: 1 (2) \n",
      "|   |   |   concave points error >0.01: 1 (10) \n",
      "|   |   worst texture >25.67\n",
      "|   |   |   mean concavity <=0.09\n",
      "|   |   |   |   mean radius <=13.34: 0 (1) \n",
      "|   |   |   |   mean radius >13.34: 1 (2) \n",
      "|   |   |   mean concavity >0.09: 0 (22) \n",
      "worst radius >16.80\n",
      "|   mean texture <=14.99\n",
      "|   |   mean compactness <=0.13: 1 (5) \n",
      "|   |   mean compactness >0.13: 0 (2) \n",
      "|   mean texture >14.99\n",
      "|   |   worst concavity <=0.20\n",
      "|   |   |   mean compactness <=0.07: 0 (3) \n",
      "|   |   |   mean compactness >0.07: 1 (2) \n",
      "|   |   worst concavity >0.20: 0 (144) \n",
      "\n"
     ]
    }
   ],
   "source": [
    "estimator_cancer_tree = export_text(estimator_cancer.tree_, cancer['feature_names'])\n",
    "print(\"Breast Cancer\")\n",
    "print(estimator_cancer_tree)"
   ]
  },
  {
   "cell_type": "code",
   "execution_count": 120,
   "id": "e78be65a",
   "metadata": {},
   "outputs": [
    {
     "name": "stdout",
     "output_type": "stream",
     "text": [
      "Id3Estimator: Cancer\n",
      "Accuracy: 0.9122807017543859\n",
      "F1 Macro avg: 0.8952205882352942\n",
      "F1 Weighted avg: 0.9122807017543859\n"
     ]
    }
   ],
   "source": [
    "prediction_cancer_Id3 = estimator_cancer.predict(X_test_cancer)\n",
    "print(\"Id3Estimator: Cancer\")\n",
    "print(\"Accuracy:\", metrics.accuracy_score(y_test_cancer, prediction_cancer_Id3))\n",
    "print(\"F1 Macro avg:\", metrics.f1_score(y_test_cancer, prediction_cancer_Id3, average=\"macro\"))\n",
    "print(\"F1 Weighted avg:\", metrics.f1_score(y_test_cancer, prediction_cancer_Id3, average=\"weighted\"))"
   ]
  },
  {
   "cell_type": "markdown",
   "id": "a741737f",
   "metadata": {},
   "source": [
    "## K-Means"
   ]
  },
  {
   "cell_type": "code",
   "execution_count": 121,
   "id": "7935429f",
   "metadata": {},
   "outputs": [],
   "source": [
    "kmeans = cluster.KMeans(n_clusters=2)"
   ]
  },
  {
   "cell_type": "code",
   "execution_count": 122,
   "id": "6be55230",
   "metadata": {},
   "outputs": [],
   "source": [
    "kmeans_tennis = kmeans.fit(X_train_tennis,y_train_tennis)"
   ]
  },
  {
   "cell_type": "code",
   "execution_count": 123,
   "id": "5e34d4d5",
   "metadata": {},
   "outputs": [
    {
     "name": "stdout",
     "output_type": "stream",
     "text": [
      "          Centroid 1  Centroid 2\n",
      "outlook          1.2    0.666667\n",
      "temp             1.8    0.333333\n",
      "humidity         0.2    0.833333\n",
      "wind             0.2    0.666667\n"
     ]
    }
   ],
   "source": [
    "kmeans_tennis_centroid = pd.DataFrame(kmeans_tennis.cluster_centers_.transpose())\n",
    "kmeans_tennis_centroid.index = tennis.columns[:-1].tolist()\n",
    "kmeans_tennis_centroid.columns = [\"Centroid 1\", \"Centroid 2\"]\n",
    "print(kmeans_tennis_centroid)"
   ]
  },
  {
   "cell_type": "code",
   "execution_count": 124,
   "id": "518e7728",
   "metadata": {},
   "outputs": [
    {
     "name": "stdout",
     "output_type": "stream",
     "text": [
      "K-Means: Tennis\n",
      "Accuracy: 0.6666666666666666\n",
      "F1 Macro avg: 0.4\n",
      "F1 Weighted avg: 0.5333333333333333\n"
     ]
    }
   ],
   "source": [
    "prediction_tennis_kmeans = kmeans_tennis.predict(X_test_tennis)\n",
    "print(\"K-Means: Tennis\")\n",
    "print(\"Accuracy:\", metrics.accuracy_score(y_test_tennis, prediction_tennis_kmeans))\n",
    "print(\"F1 Macro avg:\", metrics.f1_score(y_test_tennis, prediction_tennis_kmeans, average=\"macro\"))\n",
    "print(\"F1 Weighted avg:\", metrics.f1_score(y_test_tennis, prediction_tennis_kmeans, average=\"weighted\"))"
   ]
  },
  {
   "cell_type": "code",
   "execution_count": 125,
   "id": "8662ffff",
   "metadata": {},
   "outputs": [],
   "source": [
    "kmeans_cancer = kmeans.fit(X_train_cancer,y_train_cancer)"
   ]
  },
  {
   "cell_type": "code",
   "execution_count": 126,
   "id": "a9cf6320",
   "metadata": {},
   "outputs": [
    {
     "name": "stdout",
     "output_type": "stream",
     "text": [
      "                         Centroid 1   Centroid 2\n",
      "mean radius               12.630837    19.587429\n",
      "mean texture              18.618429    21.724476\n",
      "mean perimeter            81.683886   129.484762\n",
      "mean area                501.985429  1206.572381\n",
      "mean smoothness            0.094825     0.101158\n",
      "mean compactness           0.092810     0.146516\n",
      "mean concavity             0.064946     0.175317\n",
      "mean concave points        0.034320     0.101167\n",
      "mean symmetry              0.178605     0.190745\n",
      "mean fractal dimension     0.063443     0.060226\n",
      "radius error               0.302593     0.725070\n",
      "texture error              1.196623     1.239931\n",
      "perimeter error            2.166278     5.121648\n",
      "area error                24.009317    92.783714\n",
      "smoothness error           0.007092     0.006614\n",
      "compactness error          0.023842     0.031844\n",
      "concavity error            0.029107     0.042084\n",
      "concave points error       0.010629     0.015767\n",
      "symmetry error             0.020467     0.020688\n",
      "fractal dimension error    0.003699     0.003944\n",
      "worst radius              14.162960    23.785714\n",
      "worst texture             24.897171    28.994000\n",
      "worst perimeter           92.894286   158.588571\n",
      "worst area               630.333714  1757.771429\n",
      "worst smoothness           0.130538     0.139894\n",
      "worst compactness          0.230533     0.350978\n",
      "worst concavity            0.229018     0.441687\n",
      "worst concave points       0.093537     0.192800\n",
      "worst symmetry             0.286359     0.311059\n",
      "worst fractal dimension    0.083832     0.085536\n"
     ]
    }
   ],
   "source": [
    "kmeans_cancer_centroid = pd.DataFrame(kmeans_cancer.cluster_centers_.transpose())\n",
    "kmeans_cancer_centroid.index = cancer['feature_names'].tolist()\n",
    "kmeans_cancer_centroid.columns = [\"Centroid 1\", \"Centroid 2\"]\n",
    "print(kmeans_cancer_centroid)"
   ]
  },
  {
   "cell_type": "code",
   "execution_count": 127,
   "id": "829c632e",
   "metadata": {
    "scrolled": true
   },
   "outputs": [
    {
     "name": "stdout",
     "output_type": "stream",
     "text": [
      "K-Means: Cancer\n",
      "Accuracy: 0.10526315789473684\n",
      "F1 Macro avg: 0.09832506203473944\n",
      "F1 Weighted avg: 0.06640982107875146\n"
     ]
    }
   ],
   "source": [
    "prediction_cancer_kmeans = kmeans_cancer.predict(X_test_cancer)\n",
    "print(\"K-Means: Cancer\")\n",
    "print(\"Accuracy:\", metrics.accuracy_score(y_test_cancer, prediction_cancer_kmeans))\n",
    "print(\"F1 Macro avg:\", metrics.f1_score(y_test_cancer, prediction_cancer_kmeans, average=\"macro\"))\n",
    "print(\"F1 Weighted avg:\", metrics.f1_score(y_test_cancer, prediction_cancer_kmeans, average=\"weighted\"))"
   ]
  },
  {
   "cell_type": "markdown",
   "id": "761716f9",
   "metadata": {},
   "source": [
    "## Logistic Regression"
   ]
  },
  {
   "cell_type": "code",
   "execution_count": 128,
   "id": "5eefbc81",
   "metadata": {},
   "outputs": [],
   "source": [
    "lr = linear_model.LogisticRegression(class_weight='balanced', max_iter=2500, random_state=0)"
   ]
  },
  {
   "cell_type": "code",
   "execution_count": 129,
   "id": "75b4186f",
   "metadata": {},
   "outputs": [],
   "source": [
    "lr_tennis = lr.fit(X_train_tennis,y_train_tennis)"
   ]
  },
  {
   "cell_type": "code",
   "execution_count": 130,
   "id": "520c1aee",
   "metadata": {},
   "outputs": [
    {
     "name": "stdout",
     "output_type": "stream",
     "text": [
      "Logistic Regression: Tennis\n",
      "Accuracy: 0.6666666666666666\n",
      "F1 Macro avg: 0.6666666666666666\n",
      "F1 Weighted avg: 0.6666666666666666\n"
     ]
    }
   ],
   "source": [
    "prediction_tennis_lr = lr_tennis.predict(X_test_tennis)\n",
    "print(\"Logistic Regression: Tennis\")\n",
    "print(\"Accuracy:\", metrics.accuracy_score(y_test_tennis, prediction_tennis_lr))\n",
    "print(\"F1 Macro avg:\", metrics.f1_score(y_test_tennis, prediction_tennis_lr, average=\"macro\"))\n",
    "print(\"F1 Weighted avg:\", metrics.f1_score(y_test_tennis, prediction_tennis_lr, average=\"weighted\"))"
   ]
  },
  {
   "cell_type": "code",
   "execution_count": 131,
   "id": "9be9fd24",
   "metadata": {},
   "outputs": [
    {
     "name": "stdout",
     "output_type": "stream",
     "text": [
      "Play Tennis\n",
      "\n",
      "          Coefficient\n",
      "outlook     -0.594406\n",
      "temp         0.197587\n",
      "humidity     0.511366\n",
      "wind         1.033502\n"
     ]
    }
   ],
   "source": [
    "lr_tennis_coefficient = pd.DataFrame(lr_tennis.coef_.transpose())\n",
    "lr_tennis_coefficient.index = tennis.columns[:-1].tolist()\n",
    "lr_tennis_coefficient.columns = [\"Coefficient\"]\n",
    "print(\"Play Tennis\")\n",
    "print(\"\")\n",
    "print(lr_tennis_coefficient)"
   ]
  },
  {
   "cell_type": "code",
   "execution_count": 132,
   "id": "bf0045c6",
   "metadata": {},
   "outputs": [],
   "source": [
    "lr_cancer = lr.fit(X_train_cancer,y_train_cancer)"
   ]
  },
  {
   "cell_type": "code",
   "execution_count": 133,
   "id": "df986ca0",
   "metadata": {},
   "outputs": [
    {
     "name": "stdout",
     "output_type": "stream",
     "text": [
      "Logistic Regression: Cancer\n",
      "Accuracy: 0.956140350877193\n",
      "F1 Macro avg: 0.9480448455017774\n",
      "F1 Weighted avg: 0.9563202509966466\n"
     ]
    }
   ],
   "source": [
    "prediction_cancer_lr = lr_cancer.predict(X_test_cancer)\n",
    "print(\"Logistic Regression: Cancer\")\n",
    "print(\"Accuracy:\", metrics.accuracy_score(y_test_cancer, prediction_cancer_lr))\n",
    "print(\"F1 Macro avg:\", metrics.f1_score(y_test_cancer, prediction_cancer_lr, average=\"macro\"))\n",
    "print(\"F1 Weighted avg:\", metrics.f1_score(y_test_cancer, prediction_cancer_lr, average=\"weighted\"))"
   ]
  },
  {
   "cell_type": "code",
   "execution_count": 134,
   "id": "ebdc5482",
   "metadata": {},
   "outputs": [
    {
     "name": "stdout",
     "output_type": "stream",
     "text": [
      "Breast Cancer\n",
      "\n",
      "                         Coefficient\n",
      "mean radius                 0.956030\n",
      "mean texture                0.219475\n",
      "mean perimeter             -0.396222\n",
      "mean area                   0.030067\n",
      "mean smoothness            -0.159605\n",
      "mean compactness           -0.238834\n",
      "mean concavity             -0.453349\n",
      "mean concave points        -0.250831\n",
      "mean symmetry              -0.272578\n",
      "mean fractal dimension     -0.035377\n",
      "radius error               -0.018472\n",
      "texture error               1.699444\n",
      "perimeter error             0.163954\n",
      "area error                 -0.115496\n",
      "smoothness error           -0.022168\n",
      "compactness error           0.057191\n",
      "concavity error            -0.028179\n",
      "concave points error       -0.031378\n",
      "symmetry error             -0.044235\n",
      "fractal dimension error     0.013249\n",
      "worst radius                0.228848\n",
      "worst texture              -0.516900\n",
      "worst perimeter            -0.084322\n",
      "worst area                 -0.015815\n",
      "worst smoothness           -0.321128\n",
      "worst compactness          -0.805459\n",
      "worst concavity            -1.333088\n",
      "worst concave points       -0.552800\n",
      "worst symmetry             -0.782240\n",
      "worst fractal dimension    -0.113955\n"
     ]
    }
   ],
   "source": [
    "lr_cancer_coefficient = pd.DataFrame(lr_cancer.coef_.transpose())\n",
    "lr_cancer_coefficient.index = cancer.feature_names.tolist()\n",
    "lr_cancer_coefficient.columns = [\"Coefficient\"]\n",
    "print(\"Breast Cancer\")\n",
    "print(\"\")\n",
    "print(lr_cancer_coefficient)"
   ]
  },
  {
   "cell_type": "markdown",
   "id": "efa73fff",
   "metadata": {},
   "source": [
    "## Neural Network"
   ]
  },
  {
   "cell_type": "code",
   "execution_count": 135,
   "id": "30246599",
   "metadata": {},
   "outputs": [],
   "source": [
    "neural = neural_network.MLPClassifier(max_iter=1000)"
   ]
  },
  {
   "cell_type": "code",
   "execution_count": 136,
   "id": "51c28077",
   "metadata": {},
   "outputs": [],
   "source": [
    "neural_tennis = neural.fit(X_train_tennis,y_train_tennis)"
   ]
  },
  {
   "cell_type": "code",
   "execution_count": 137,
   "id": "580ce76b",
   "metadata": {},
   "outputs": [
    {
     "name": "stdout",
     "output_type": "stream",
     "text": [
      "Neural Network: Tennis\n",
      "Accuracy: 0.3333333333333333\n",
      "F1 Macro avg: 0.25\n",
      "F1 Weighted: 0.16666666666666666\n"
     ]
    }
   ],
   "source": [
    "prediction_tennis_neural = neural_tennis.predict(X_test_tennis)\n",
    "print(\"Neural Network: Tennis\")\n",
    "print(\"Accuracy:\", metrics.accuracy_score(y_test_tennis, prediction_tennis_neural))\n",
    "print(\"F1 Macro avg:\", metrics.f1_score(y_test_tennis, prediction_tennis_neural, average=\"macro\"))\n",
    "print(\"F1 Weighted:\", metrics.f1_score(y_test_tennis, prediction_tennis_neural, average=\"weighted\"))"
   ]
  },
  {
   "cell_type": "code",
   "execution_count": 138,
   "id": "0e0961cf",
   "metadata": {},
   "outputs": [
    {
     "name": "stdout",
     "output_type": "stream",
     "text": [
      "Play Tennis Coefficient\n",
      "\n",
      "[array([[ 2.97168634e-01, -2.75355044e-01, -3.72041281e-01,\n",
      "        -9.06265515e-02, -2.21376682e-01, -1.20596133e-01,\n",
      "         1.88444635e-01, -3.54340810e-01,  6.61429659e-15,\n",
      "        -5.28094546e-02, -3.81503808e-01,  4.49444827e-01,\n",
      "        -1.95213540e-02,  1.37185919e-01,  1.20672159e-12,\n",
      "         5.86934673e-17, -1.02676464e-01,  2.66385365e-01,\n",
      "        -4.51563274e-01,  2.10394437e-01, -1.80523375e-01,\n",
      "        -3.11013355e-01, -4.47417100e-01, -2.03966360e-01,\n",
      "        -2.81119334e-01,  3.11124510e-01,  3.41082278e-01,\n",
      "        -1.44133846e-01,  1.57995447e-01,  2.80851474e-01,\n",
      "        -7.71803262e-15, -2.49291742e-01,  2.74176017e-01,\n",
      "         5.13885296e-01,  2.69944061e-01, -1.26441045e-02,\n",
      "         3.11645708e-01, -5.18790618e-01,  1.19110390e-01,\n",
      "         1.57711164e-01,  3.39626225e-01, -7.42221896e-03,\n",
      "        -2.71517511e-01, -1.34756345e-01, -3.38879919e-01,\n",
      "        -9.10015162e-02, -5.04658360e-02,  2.71309403e-06,\n",
      "         5.53541278e-02,  4.32160084e-02,  5.97821284e-03,\n",
      "         3.10139133e-01,  1.77522511e-01, -1.88450394e-01,\n",
      "        -8.23213928e-02, -2.75422024e-04,  3.29975018e-01,\n",
      "        -8.53137594e-02, -5.84935499e-04,  4.13871189e-01,\n",
      "         4.17478290e-03,  2.50034010e-01,  9.47225182e-02,\n",
      "         5.43758215e-04,  3.00828106e-01,  3.47799091e-01,\n",
      "         2.51413517e-01,  3.60284840e-01, -8.11275504e-03,\n",
      "        -5.80145139e-02,  2.43757943e-01,  4.20669505e-01,\n",
      "        -5.23198606e-01,  1.65709265e-16,  4.71571960e-01,\n",
      "         2.18371071e-01, -1.10982144e-01, -5.79039702e-01,\n",
      "         3.33609704e-01,  7.51543931e-02,  1.99877240e-01,\n",
      "         2.41442027e-01,  2.85976161e-02,  3.45188179e-01,\n",
      "        -3.66621133e-01,  2.53797111e-01,  2.31103643e-01,\n",
      "        -1.52540022e-01,  4.29239649e-01,  2.37039071e-01,\n",
      "         2.92877413e-01,  2.19416894e-01,  4.46748704e-01,\n",
      "        -1.41400273e-02, -3.24052626e-02, -2.75981948e-01,\n",
      "        -3.80065051e-01,  3.30143100e-01,  2.43518785e-01,\n",
      "        -9.71636045e-02],\n",
      "       [-3.55057601e-01,  3.04641218e-01,  1.86633415e-01,\n",
      "        -2.12290526e-02,  3.54578979e-01,  1.12371168e-01,\n",
      "        -9.65445190e-02,  2.28912950e-01, -9.40017382e-14,\n",
      "         1.69293884e-01,  4.05281997e-01,  1.70855796e-01,\n",
      "        -7.48975678e-02,  2.33635393e-01, -1.71578431e-16,\n",
      "         5.52797814e-11,  1.77553079e-01,  1.49808827e-01,\n",
      "         1.35028853e-01, -1.64824832e-01,  6.01006619e-01,\n",
      "         1.27039678e-02,  1.56222679e-01, -8.58629634e-03,\n",
      "         6.27450603e-01, -3.81103053e-01,  2.34679830e-02,\n",
      "        -4.41499492e-02,  2.69141945e-01,  1.04668450e-01,\n",
      "        -3.22889247e-04,  4.35446611e-02, -4.41002819e-01,\n",
      "        -9.45110527e-02,  6.83996655e-02, -7.94976426e-02,\n",
      "        -1.43006272e-01,  7.36782198e-02,  2.46776782e-01,\n",
      "        -8.04386764e-02, -1.41309198e-01,  1.84705924e-01,\n",
      "         4.47325379e-02,  3.33229599e-01,  3.92197819e-01,\n",
      "         4.56076297e-01,  3.84591014e-02, -1.19938554e-03,\n",
      "         2.51007365e-01, -3.02863666e-01,  4.96120440e-02,\n",
      "         1.09385733e-01,  6.38839315e-02, -9.68048501e-02,\n",
      "         2.29793996e-01, -4.00486662e-02, -2.09410933e-02,\n",
      "         1.87766091e-01, -7.85692057e-07,  1.05906781e-01,\n",
      "        -3.65658542e-01, -3.49555961e-01, -4.51832309e-01,\n",
      "         2.88869281e-01, -1.18553705e-01, -2.31479963e-03,\n",
      "        -1.02059698e-01,  9.03435806e-02, -4.05882577e-02,\n",
      "        -9.05062711e-03, -5.22651366e-01, -1.97637233e-01,\n",
      "         1.18510541e-01,  6.50353342e-10, -1.81192578e-01,\n",
      "        -1.45560596e-01, -3.88007784e-03,  2.25607280e-01,\n",
      "        -4.62093091e-01,  5.47255681e-02,  9.62841222e-02,\n",
      "        -3.30827880e-01,  2.56777345e-01,  1.25143059e-01,\n",
      "         1.69738631e-01, -1.78546719e-01, -3.28682513e-01,\n",
      "         3.42744302e-01, -2.23628333e-01, -5.01104500e-02,\n",
      "         7.16197915e-02, -1.14211759e-01,  1.98530423e-02,\n",
      "         2.55054900e-01, -1.95189781e-01,  3.83997520e-01,\n",
      "         5.55597624e-02, -4.10660218e-01, -4.24141865e-01,\n",
      "         2.85933558e-01],\n",
      "       [-6.60621367e-02,  3.73272579e-01,  3.67870300e-01,\n",
      "         5.90946749e-01,  3.48592753e-01,  4.69557404e-01,\n",
      "         1.17227478e-01,  4.58406291e-01, -6.91074651e-13,\n",
      "         3.44605324e-01,  1.80105684e-01, -2.63656958e-01,\n",
      "        -8.28153799e-02,  2.40757245e-01, -1.38578858e-03,\n",
      "         3.27817909e-13,  1.64248466e-01, -3.02185780e-01,\n",
      "         2.69626076e-01,  1.65812768e-01,  6.63012638e-01,\n",
      "         2.57080826e-02,  3.12522867e-01, -1.69637576e-02,\n",
      "         4.08757192e-01, -1.00346030e-01, -1.46973662e-01,\n",
      "        -8.89876274e-02,  1.09787356e-01,  2.10555325e-01,\n",
      "        -1.62431321e-04,  8.76757216e-02,  1.20533498e-01,\n",
      "        -5.57369593e-01, -1.81572290e-01, -6.64056831e-02,\n",
      "         4.20257582e-01,  1.47141244e-01, -6.66764319e-01,\n",
      "        -1.89590104e-01, -4.39193312e-01,  2.75843178e-02,\n",
      "         8.87935492e-02,  2.89317845e-01,  3.96516197e-01,\n",
      "         6.79301893e-01,  1.77348422e-02, -1.09486644e-07,\n",
      "        -6.42714901e-01,  3.49231049e-01, -3.11850333e-02,\n",
      "        -4.04166069e-01, -3.23443653e-02,  3.37316329e-02,\n",
      "         2.70599694e-01, -3.74815428e-02,  5.81733410e-01,\n",
      "         3.18706058e-01,  2.04039458e-01, -1.30832825e-01,\n",
      "         4.86125702e-01,  1.17831644e-01,  3.19281612e-01,\n",
      "         4.55567067e-01,  6.02060732e-01, -3.21519252e-01,\n",
      "         3.67497656e-02, -4.58759937e-01, -1.40057238e-01,\n",
      "         2.77920557e-01,  1.16735052e-01, -5.28834168e-01,\n",
      "         2.37224645e-01, -4.09604057e-11, -2.04607581e-01,\n",
      "        -4.00282070e-02,  3.56745990e-01,  4.51021244e-01,\n",
      "         2.31151124e-01,  3.17868984e-01,  1.91701526e-01,\n",
      "         3.28868229e-02,  4.61601137e-01,  3.03049188e-01,\n",
      "         3.39850831e-01, -5.86401761e-01, -4.76269243e-03,\n",
      "         6.99386438e-01, -4.45377475e-01, -4.17953713e-01,\n",
      "        -4.82456403e-02,  3.85040583e-01,  6.81855989e-02,\n",
      "        -5.97878479e-01,  2.47741064e-01,  2.09090689e-01,\n",
      "         1.10937953e-01, -1.54471116e-01, -2.56031597e-02,\n",
      "         3.31675877e-01],\n",
      "       [ 4.01516957e-01, -3.62401582e-02,  1.83723478e-01,\n",
      "         3.96012322e-01,  3.86577965e-01,  4.80784070e-01,\n",
      "         7.29634934e-02,  3.20994255e-01,  1.61604256e-15,\n",
      "         3.78231525e-01, -8.99791618e-03, -5.39606797e-01,\n",
      "         1.43285659e-01,  3.30134285e-01,  9.06143251e-14,\n",
      "        -1.33043725e-07,  3.72458287e-01, -2.67245480e-01,\n",
      "         2.87134181e-01,  3.98379947e-03,  3.69971798e-01,\n",
      "         3.43877306e-01,  3.07841011e-01,  4.02227538e-01,\n",
      "         4.10713413e-01,  4.50015395e-01, -2.25850793e-01,\n",
      "         5.43422080e-01,  4.41172448e-01,  4.50739285e-01,\n",
      "         3.43256434e-17,  5.39561281e-01, -6.01332292e-01,\n",
      "        -5.07167658e-01, -2.11148921e-01,  2.23853345e-01,\n",
      "         2.04596333e-01,  2.35454820e-01, -2.52260557e-01,\n",
      "         4.74840453e-02, -3.13703763e-01, -1.39297187e-01,\n",
      "         9.18067249e-02,  3.40748619e-01,  1.09610990e-02,\n",
      "         3.37360552e-01,  1.28159658e-01, -1.07545018e-03,\n",
      "        -1.36903087e-01, -3.70228901e-01, -2.73967180e-01,\n",
      "        -2.85897071e-01, -2.20689508e-02,  1.36132047e-01,\n",
      "         3.69127585e-01, -4.88498119e-03,  1.23172210e-01,\n",
      "         4.54629278e-01, -5.59607498e-16, -3.62268166e-01,\n",
      "        -6.10646346e-01, -1.42223272e-01, -3.86569892e-01,\n",
      "         2.32675273e-01,  4.38679302e-01, -5.94737298e-01,\n",
      "         9.18744245e-02, -2.49971511e-01, -1.45967475e-01,\n",
      "         3.64129706e-01, -6.28153992e-01, -3.07111609e-01,\n",
      "         2.10839577e-01, -4.02547153e-10, -5.05177153e-01,\n",
      "         4.86706446e-01,  3.05631027e-01,  3.57230763e-01,\n",
      "        -1.96887070e-01, -6.65097326e-02,  1.11174431e-01,\n",
      "        -3.06098230e-01,  9.83222440e-02,  2.98624126e-01,\n",
      "         2.15278259e-01, -5.05930297e-01,  1.92694417e-02,\n",
      "         4.14308498e-01, -4.36202990e-01, -4.74210380e-01,\n",
      "         1.17493140e-02,  4.38124740e-01,  6.58042108e-01,\n",
      "        -2.63660004e-01, -1.24679329e-01,  1.74983944e-01,\n",
      "         2.39902358e-01, -1.48367980e-01, -5.88360133e-01,\n",
      "         3.05081867e-01]]), array([[ 2.76389519e-01],\n",
      "       [ 6.07843507e-01],\n",
      "       [ 6.60426106e-01],\n",
      "       [ 2.66574017e-01],\n",
      "       [ 2.62473086e-01],\n",
      "       [ 2.81850554e-01],\n",
      "       [ 6.54327394e-02],\n",
      "       [ 8.12970604e-01],\n",
      "       [-1.25079269e-06],\n",
      "       [ 4.56202634e-01],\n",
      "       [ 2.76596595e-01],\n",
      "       [-3.57482204e-01],\n",
      "       [-1.62400963e-02],\n",
      "       [ 5.57932748e-01],\n",
      "       [-2.00486021e-03],\n",
      "       [-1.83722180e-12],\n",
      "       [ 4.42167169e-01],\n",
      "       [-3.29044641e-01],\n",
      "       [ 7.93532851e-01],\n",
      "       [ 1.23137505e-01],\n",
      "       [ 3.93343460e-01],\n",
      "       [ 4.34479625e-01],\n",
      "       [ 5.31863962e-01],\n",
      "       [ 4.13317548e-01],\n",
      "       [ 2.55747796e-01],\n",
      "       [ 4.02248521e-01],\n",
      "       [-5.68352120e-01],\n",
      "       [ 5.79109331e-01],\n",
      "       [ 4.01669458e-01],\n",
      "       [ 4.93732390e-01],\n",
      "       [-4.82040821e-16],\n",
      "       [ 5.56265509e-01],\n",
      "       [-5.80308756e-01],\n",
      "       [-3.71609647e-01],\n",
      "       [-5.08110212e-01],\n",
      "       [-1.44175270e-01],\n",
      "       [ 6.72855465e-01],\n",
      "       [ 4.72891959e-01],\n",
      "       [-6.11132704e-01],\n",
      "       [ 5.69224432e-02],\n",
      "       [-4.98312006e-01],\n",
      "       [-2.93200346e-02],\n",
      "       [-1.26471034e-01],\n",
      "       [ 3.77016628e-01],\n",
      "       [ 3.98564496e-01],\n",
      "       [ 4.23424816e-01],\n",
      "       [-2.15759805e-01],\n",
      "       [-2.03893808e-03],\n",
      "       [-4.45263988e-01],\n",
      "       [-5.61266428e-01],\n",
      "       [-2.98789688e-01],\n",
      "       [-5.07166361e-01],\n",
      "       [-8.42945108e-02],\n",
      "       [-1.13045192e-01],\n",
      "       [ 4.34398315e-01],\n",
      "       [-6.84508456e-04],\n",
      "       [ 7.51628166e-01],\n",
      "       [ 5.05937849e-01],\n",
      "       [-1.70958519e-02],\n",
      "       [-4.64672912e-01],\n",
      "       [-4.87293899e-01],\n",
      "       [-2.29488757e-01],\n",
      "       [-4.92455018e-01],\n",
      "       [ 3.52605643e-01],\n",
      "       [ 3.41836695e-01],\n",
      "       [-4.49092793e-01],\n",
      "       [-5.66171353e-02],\n",
      "       [-4.50723508e-01],\n",
      "       [ 7.07912849e-02],\n",
      "       [ 3.60730272e-01],\n",
      "       [-4.49775421e-01],\n",
      "       [-4.07771998e-01],\n",
      "       [ 6.38759475e-01],\n",
      "       [-3.24467962e-04],\n",
      "       [-4.05875879e-01],\n",
      "       [ 5.97448930e-01],\n",
      "       [ 3.50172572e-01],\n",
      "       [ 5.98855834e-01],\n",
      "       [-2.82812682e-01],\n",
      "       [ 1.70577472e-01],\n",
      "       [ 4.02802117e-01],\n",
      "       [-7.06160384e-01],\n",
      "       [ 4.05759751e-01],\n",
      "       [ 7.07815310e-01],\n",
      "       [ 5.59030802e-01],\n",
      "       [-4.24147940e-01],\n",
      "       [-3.26476559e-01],\n",
      "       [ 2.50576707e-01],\n",
      "       [-4.46338954e-01],\n",
      "       [-7.33895485e-01],\n",
      "       [-1.94376256e-01],\n",
      "       [ 3.19262447e-01],\n",
      "       [ 4.73907950e-01],\n",
      "       [-2.56763088e-01],\n",
      "       [-3.06131256e-01],\n",
      "       [ 3.77109415e-01],\n",
      "       [ 7.69463183e-01],\n",
      "       [-5.45350463e-01],\n",
      "       [-3.97744594e-01],\n",
      "       [ 5.74659522e-01]])]\n"
     ]
    }
   ],
   "source": [
    "neural_tennis_coefficient = neural_tennis.coefs_\n",
    "print(\"Play Tennis Coefficient\")\n",
    "print(\"\")\n",
    "print(neural_tennis_coefficient)"
   ]
  },
  {
   "cell_type": "code",
   "execution_count": 139,
   "id": "616c76de",
   "metadata": {},
   "outputs": [],
   "source": [
    "neural_cancer = neural.fit(X_train_cancer,y_train_cancer)"
   ]
  },
  {
   "cell_type": "code",
   "execution_count": 140,
   "id": "4e6295fa",
   "metadata": {},
   "outputs": [
    {
     "name": "stdout",
     "output_type": "stream",
     "text": [
      "Neural Network: Cancer\n",
      "Accuracy: 0.956140350877193\n",
      "F1 Macro avg: 0.9480448455017774\n",
      "F1 Weighted avg: 0.9563202509966466\n"
     ]
    }
   ],
   "source": [
    "prediction_cancer_neural = neural_cancer.predict(X_test_cancer)\n",
    "print(\"Neural Network: Cancer\")\n",
    "print(\"Accuracy:\", metrics.accuracy_score(y_test_cancer, prediction_cancer_neural))\n",
    "print(\"F1 Macro avg:\", metrics.f1_score(y_test_cancer, prediction_cancer_neural, average=\"macro\"))\n",
    "print(\"F1 Weighted avg:\", metrics.f1_score(y_test_cancer, prediction_cancer_neural, average=\"weighted\"))"
   ]
  },
  {
   "cell_type": "code",
   "execution_count": 141,
   "id": "22ef67f6",
   "metadata": {},
   "outputs": [
    {
     "name": "stdout",
     "output_type": "stream",
     "text": [
      "Breast Cancer Coefficient\n",
      "\n",
      "[array([[ 2.97168634e-01, -2.75355044e-01, -3.72041281e-01,\n",
      "        -9.06265515e-02, -2.21376682e-01, -1.20596133e-01,\n",
      "         1.88444635e-01, -3.54340810e-01,  6.61429659e-15,\n",
      "        -5.28094546e-02, -3.81503808e-01,  4.49444827e-01,\n",
      "        -1.95213540e-02,  1.37185919e-01,  1.20672159e-12,\n",
      "         5.86934673e-17, -1.02676464e-01,  2.66385365e-01,\n",
      "        -4.51563274e-01,  2.10394437e-01, -1.80523375e-01,\n",
      "        -3.11013355e-01, -4.47417100e-01, -2.03966360e-01,\n",
      "        -2.81119334e-01,  3.11124510e-01,  3.41082278e-01,\n",
      "        -1.44133846e-01,  1.57995447e-01,  2.80851474e-01,\n",
      "        -7.71803262e-15, -2.49291742e-01,  2.74176017e-01,\n",
      "         5.13885296e-01,  2.69944061e-01, -1.26441045e-02,\n",
      "         3.11645708e-01, -5.18790618e-01,  1.19110390e-01,\n",
      "         1.57711164e-01,  3.39626225e-01, -7.42221896e-03,\n",
      "        -2.71517511e-01, -1.34756345e-01, -3.38879919e-01,\n",
      "        -9.10015162e-02, -5.04658360e-02,  2.71309403e-06,\n",
      "         5.53541278e-02,  4.32160084e-02,  5.97821284e-03,\n",
      "         3.10139133e-01,  1.77522511e-01, -1.88450394e-01,\n",
      "        -8.23213928e-02, -2.75422024e-04,  3.29975018e-01,\n",
      "        -8.53137594e-02, -5.84935499e-04,  4.13871189e-01,\n",
      "         4.17478290e-03,  2.50034010e-01,  9.47225182e-02,\n",
      "         5.43758215e-04,  3.00828106e-01,  3.47799091e-01,\n",
      "         2.51413517e-01,  3.60284840e-01, -8.11275504e-03,\n",
      "        -5.80145139e-02,  2.43757943e-01,  4.20669505e-01,\n",
      "        -5.23198606e-01,  1.65709265e-16,  4.71571960e-01,\n",
      "         2.18371071e-01, -1.10982144e-01, -5.79039702e-01,\n",
      "         3.33609704e-01,  7.51543931e-02,  1.99877240e-01,\n",
      "         2.41442027e-01,  2.85976161e-02,  3.45188179e-01,\n",
      "        -3.66621133e-01,  2.53797111e-01,  2.31103643e-01,\n",
      "        -1.52540022e-01,  4.29239649e-01,  2.37039071e-01,\n",
      "         2.92877413e-01,  2.19416894e-01,  4.46748704e-01,\n",
      "        -1.41400273e-02, -3.24052626e-02, -2.75981948e-01,\n",
      "        -3.80065051e-01,  3.30143100e-01,  2.43518785e-01,\n",
      "        -9.71636045e-02],\n",
      "       [-3.55057601e-01,  3.04641218e-01,  1.86633415e-01,\n",
      "        -2.12290526e-02,  3.54578979e-01,  1.12371168e-01,\n",
      "        -9.65445190e-02,  2.28912950e-01, -9.40017382e-14,\n",
      "         1.69293884e-01,  4.05281997e-01,  1.70855796e-01,\n",
      "        -7.48975678e-02,  2.33635393e-01, -1.71578431e-16,\n",
      "         5.52797814e-11,  1.77553079e-01,  1.49808827e-01,\n",
      "         1.35028853e-01, -1.64824832e-01,  6.01006619e-01,\n",
      "         1.27039678e-02,  1.56222679e-01, -8.58629634e-03,\n",
      "         6.27450603e-01, -3.81103053e-01,  2.34679830e-02,\n",
      "        -4.41499492e-02,  2.69141945e-01,  1.04668450e-01,\n",
      "        -3.22889247e-04,  4.35446611e-02, -4.41002819e-01,\n",
      "        -9.45110527e-02,  6.83996655e-02, -7.94976426e-02,\n",
      "        -1.43006272e-01,  7.36782198e-02,  2.46776782e-01,\n",
      "        -8.04386764e-02, -1.41309198e-01,  1.84705924e-01,\n",
      "         4.47325379e-02,  3.33229599e-01,  3.92197819e-01,\n",
      "         4.56076297e-01,  3.84591014e-02, -1.19938554e-03,\n",
      "         2.51007365e-01, -3.02863666e-01,  4.96120440e-02,\n",
      "         1.09385733e-01,  6.38839315e-02, -9.68048501e-02,\n",
      "         2.29793996e-01, -4.00486662e-02, -2.09410933e-02,\n",
      "         1.87766091e-01, -7.85692057e-07,  1.05906781e-01,\n",
      "        -3.65658542e-01, -3.49555961e-01, -4.51832309e-01,\n",
      "         2.88869281e-01, -1.18553705e-01, -2.31479963e-03,\n",
      "        -1.02059698e-01,  9.03435806e-02, -4.05882577e-02,\n",
      "        -9.05062711e-03, -5.22651366e-01, -1.97637233e-01,\n",
      "         1.18510541e-01,  6.50353342e-10, -1.81192578e-01,\n",
      "        -1.45560596e-01, -3.88007784e-03,  2.25607280e-01,\n",
      "        -4.62093091e-01,  5.47255681e-02,  9.62841222e-02,\n",
      "        -3.30827880e-01,  2.56777345e-01,  1.25143059e-01,\n",
      "         1.69738631e-01, -1.78546719e-01, -3.28682513e-01,\n",
      "         3.42744302e-01, -2.23628333e-01, -5.01104500e-02,\n",
      "         7.16197915e-02, -1.14211759e-01,  1.98530423e-02,\n",
      "         2.55054900e-01, -1.95189781e-01,  3.83997520e-01,\n",
      "         5.55597624e-02, -4.10660218e-01, -4.24141865e-01,\n",
      "         2.85933558e-01],\n",
      "       [-6.60621367e-02,  3.73272579e-01,  3.67870300e-01,\n",
      "         5.90946749e-01,  3.48592753e-01,  4.69557404e-01,\n",
      "         1.17227478e-01,  4.58406291e-01, -6.91074651e-13,\n",
      "         3.44605324e-01,  1.80105684e-01, -2.63656958e-01,\n",
      "        -8.28153799e-02,  2.40757245e-01, -1.38578858e-03,\n",
      "         3.27817909e-13,  1.64248466e-01, -3.02185780e-01,\n",
      "         2.69626076e-01,  1.65812768e-01,  6.63012638e-01,\n",
      "         2.57080826e-02,  3.12522867e-01, -1.69637576e-02,\n",
      "         4.08757192e-01, -1.00346030e-01, -1.46973662e-01,\n",
      "        -8.89876274e-02,  1.09787356e-01,  2.10555325e-01,\n",
      "        -1.62431321e-04,  8.76757216e-02,  1.20533498e-01,\n",
      "        -5.57369593e-01, -1.81572290e-01, -6.64056831e-02,\n",
      "         4.20257582e-01,  1.47141244e-01, -6.66764319e-01,\n",
      "        -1.89590104e-01, -4.39193312e-01,  2.75843178e-02,\n",
      "         8.87935492e-02,  2.89317845e-01,  3.96516197e-01,\n",
      "         6.79301893e-01,  1.77348422e-02, -1.09486644e-07,\n",
      "        -6.42714901e-01,  3.49231049e-01, -3.11850333e-02,\n",
      "        -4.04166069e-01, -3.23443653e-02,  3.37316329e-02,\n",
      "         2.70599694e-01, -3.74815428e-02,  5.81733410e-01,\n",
      "         3.18706058e-01,  2.04039458e-01, -1.30832825e-01,\n",
      "         4.86125702e-01,  1.17831644e-01,  3.19281612e-01,\n",
      "         4.55567067e-01,  6.02060732e-01, -3.21519252e-01,\n",
      "         3.67497656e-02, -4.58759937e-01, -1.40057238e-01,\n",
      "         2.77920557e-01,  1.16735052e-01, -5.28834168e-01,\n",
      "         2.37224645e-01, -4.09604057e-11, -2.04607581e-01,\n",
      "        -4.00282070e-02,  3.56745990e-01,  4.51021244e-01,\n",
      "         2.31151124e-01,  3.17868984e-01,  1.91701526e-01,\n",
      "         3.28868229e-02,  4.61601137e-01,  3.03049188e-01,\n",
      "         3.39850831e-01, -5.86401761e-01, -4.76269243e-03,\n",
      "         6.99386438e-01, -4.45377475e-01, -4.17953713e-01,\n",
      "        -4.82456403e-02,  3.85040583e-01,  6.81855989e-02,\n",
      "        -5.97878479e-01,  2.47741064e-01,  2.09090689e-01,\n",
      "         1.10937953e-01, -1.54471116e-01, -2.56031597e-02,\n",
      "         3.31675877e-01],\n",
      "       [ 4.01516957e-01, -3.62401582e-02,  1.83723478e-01,\n",
      "         3.96012322e-01,  3.86577965e-01,  4.80784070e-01,\n",
      "         7.29634934e-02,  3.20994255e-01,  1.61604256e-15,\n",
      "         3.78231525e-01, -8.99791618e-03, -5.39606797e-01,\n",
      "         1.43285659e-01,  3.30134285e-01,  9.06143251e-14,\n",
      "        -1.33043725e-07,  3.72458287e-01, -2.67245480e-01,\n",
      "         2.87134181e-01,  3.98379947e-03,  3.69971798e-01,\n",
      "         3.43877306e-01,  3.07841011e-01,  4.02227538e-01,\n",
      "         4.10713413e-01,  4.50015395e-01, -2.25850793e-01,\n",
      "         5.43422080e-01,  4.41172448e-01,  4.50739285e-01,\n",
      "         3.43256434e-17,  5.39561281e-01, -6.01332292e-01,\n",
      "        -5.07167658e-01, -2.11148921e-01,  2.23853345e-01,\n",
      "         2.04596333e-01,  2.35454820e-01, -2.52260557e-01,\n",
      "         4.74840453e-02, -3.13703763e-01, -1.39297187e-01,\n",
      "         9.18067249e-02,  3.40748619e-01,  1.09610990e-02,\n",
      "         3.37360552e-01,  1.28159658e-01, -1.07545018e-03,\n",
      "        -1.36903087e-01, -3.70228901e-01, -2.73967180e-01,\n",
      "        -2.85897071e-01, -2.20689508e-02,  1.36132047e-01,\n",
      "         3.69127585e-01, -4.88498119e-03,  1.23172210e-01,\n",
      "         4.54629278e-01, -5.59607498e-16, -3.62268166e-01,\n",
      "        -6.10646346e-01, -1.42223272e-01, -3.86569892e-01,\n",
      "         2.32675273e-01,  4.38679302e-01, -5.94737298e-01,\n",
      "         9.18744245e-02, -2.49971511e-01, -1.45967475e-01,\n",
      "         3.64129706e-01, -6.28153992e-01, -3.07111609e-01,\n",
      "         2.10839577e-01, -4.02547153e-10, -5.05177153e-01,\n",
      "         4.86706446e-01,  3.05631027e-01,  3.57230763e-01,\n",
      "        -1.96887070e-01, -6.65097326e-02,  1.11174431e-01,\n",
      "        -3.06098230e-01,  9.83222440e-02,  2.98624126e-01,\n",
      "         2.15278259e-01, -5.05930297e-01,  1.92694417e-02,\n",
      "         4.14308498e-01, -4.36202990e-01, -4.74210380e-01,\n",
      "         1.17493140e-02,  4.38124740e-01,  6.58042108e-01,\n",
      "        -2.63660004e-01, -1.24679329e-01,  1.74983944e-01,\n",
      "         2.39902358e-01, -1.48367980e-01, -5.88360133e-01,\n",
      "         3.05081867e-01]]), array([[ 2.76389519e-01],\n",
      "       [ 6.07843507e-01],\n",
      "       [ 6.60426106e-01],\n",
      "       [ 2.66574017e-01],\n",
      "       [ 2.62473086e-01],\n",
      "       [ 2.81850554e-01],\n",
      "       [ 6.54327394e-02],\n",
      "       [ 8.12970604e-01],\n",
      "       [-1.25079269e-06],\n",
      "       [ 4.56202634e-01],\n",
      "       [ 2.76596595e-01],\n",
      "       [-3.57482204e-01],\n",
      "       [-1.62400963e-02],\n",
      "       [ 5.57932748e-01],\n",
      "       [-2.00486021e-03],\n",
      "       [-1.83722180e-12],\n",
      "       [ 4.42167169e-01],\n",
      "       [-3.29044641e-01],\n",
      "       [ 7.93532851e-01],\n",
      "       [ 1.23137505e-01],\n",
      "       [ 3.93343460e-01],\n",
      "       [ 4.34479625e-01],\n",
      "       [ 5.31863962e-01],\n",
      "       [ 4.13317548e-01],\n",
      "       [ 2.55747796e-01],\n",
      "       [ 4.02248521e-01],\n",
      "       [-5.68352120e-01],\n",
      "       [ 5.79109331e-01],\n",
      "       [ 4.01669458e-01],\n",
      "       [ 4.93732390e-01],\n",
      "       [-4.82040821e-16],\n",
      "       [ 5.56265509e-01],\n",
      "       [-5.80308756e-01],\n",
      "       [-3.71609647e-01],\n",
      "       [-5.08110212e-01],\n",
      "       [-1.44175270e-01],\n",
      "       [ 6.72855465e-01],\n",
      "       [ 4.72891959e-01],\n",
      "       [-6.11132704e-01],\n",
      "       [ 5.69224432e-02],\n",
      "       [-4.98312006e-01],\n",
      "       [-2.93200346e-02],\n",
      "       [-1.26471034e-01],\n",
      "       [ 3.77016628e-01],\n",
      "       [ 3.98564496e-01],\n",
      "       [ 4.23424816e-01],\n",
      "       [-2.15759805e-01],\n",
      "       [-2.03893808e-03],\n",
      "       [-4.45263988e-01],\n",
      "       [-5.61266428e-01],\n",
      "       [-2.98789688e-01],\n",
      "       [-5.07166361e-01],\n",
      "       [-8.42945108e-02],\n",
      "       [-1.13045192e-01],\n",
      "       [ 4.34398315e-01],\n",
      "       [-6.84508456e-04],\n",
      "       [ 7.51628166e-01],\n",
      "       [ 5.05937849e-01],\n",
      "       [-1.70958519e-02],\n",
      "       [-4.64672912e-01],\n",
      "       [-4.87293899e-01],\n",
      "       [-2.29488757e-01],\n",
      "       [-4.92455018e-01],\n",
      "       [ 3.52605643e-01],\n",
      "       [ 3.41836695e-01],\n",
      "       [-4.49092793e-01],\n",
      "       [-5.66171353e-02],\n",
      "       [-4.50723508e-01],\n",
      "       [ 7.07912849e-02],\n",
      "       [ 3.60730272e-01],\n",
      "       [-4.49775421e-01],\n",
      "       [-4.07771998e-01],\n",
      "       [ 6.38759475e-01],\n",
      "       [-3.24467962e-04],\n",
      "       [-4.05875879e-01],\n",
      "       [ 5.97448930e-01],\n",
      "       [ 3.50172572e-01],\n",
      "       [ 5.98855834e-01],\n",
      "       [-2.82812682e-01],\n",
      "       [ 1.70577472e-01],\n",
      "       [ 4.02802117e-01],\n",
      "       [-7.06160384e-01],\n",
      "       [ 4.05759751e-01],\n",
      "       [ 7.07815310e-01],\n",
      "       [ 5.59030802e-01],\n",
      "       [-4.24147940e-01],\n",
      "       [-3.26476559e-01],\n",
      "       [ 2.50576707e-01],\n",
      "       [-4.46338954e-01],\n",
      "       [-7.33895485e-01],\n",
      "       [-1.94376256e-01],\n",
      "       [ 3.19262447e-01],\n",
      "       [ 4.73907950e-01],\n",
      "       [-2.56763088e-01],\n",
      "       [-3.06131256e-01],\n",
      "       [ 3.77109415e-01],\n",
      "       [ 7.69463183e-01],\n",
      "       [-5.45350463e-01],\n",
      "       [-3.97744594e-01],\n",
      "       [ 5.74659522e-01]])]\n"
     ]
    }
   ],
   "source": [
    "neural_cancer_coefficient = neural_cancer.coefs_\n",
    "print(\"Breast Cancer Coefficient\")\n",
    "print(\"\")\n",
    "print(neural_tennis_coefficient)"
   ]
  },
  {
   "cell_type": "markdown",
   "id": "20d2ee63",
   "metadata": {},
   "source": [
    "## SVM"
   ]
  },
  {
   "cell_type": "code",
   "execution_count": 142,
   "id": "90fb6734",
   "metadata": {},
   "outputs": [],
   "source": [
    "svc = svm.SVC()"
   ]
  },
  {
   "cell_type": "code",
   "execution_count": 143,
   "id": "41936378",
   "metadata": {},
   "outputs": [],
   "source": [
    "svc_tennis = svc.fit(X_train_tennis,y_train_tennis)"
   ]
  },
  {
   "cell_type": "code",
   "execution_count": 144,
   "id": "81144a7f",
   "metadata": {},
   "outputs": [
    {
     "name": "stdout",
     "output_type": "stream",
     "text": [
      "SVM: Tennis\n",
      "Accuracy: 0.3333333333333333\n",
      "F1 Macro avg: 0.25\n",
      "F1 Weighted avg: 0.16666666666666666\n"
     ]
    }
   ],
   "source": [
    "prediction_tennis_svm = svc_tennis.predict(X_test_tennis)\n",
    "print(\"SVM: Tennis\")\n",
    "print(\"Accuracy:\", metrics.accuracy_score(y_test_tennis, prediction_tennis_svm))\n",
    "print(\"F1 Macro avg:\", metrics.f1_score(y_test_tennis, prediction_tennis_svm, average=\"macro\"))\n",
    "print(\"F1 Weighted avg:\", metrics.f1_score(y_test_tennis, prediction_tennis_svm, average=\"weighted\"))"
   ]
  },
  {
   "cell_type": "code",
   "execution_count": 145,
   "id": "054ac85d",
   "metadata": {},
   "outputs": [],
   "source": [
    "svc_cancer = svc.fit(X_train_cancer,y_train_cancer)"
   ]
  },
  {
   "cell_type": "code",
   "execution_count": 146,
   "id": "fffcffec",
   "metadata": {},
   "outputs": [
    {
     "name": "stdout",
     "output_type": "stream",
     "text": [
      "SVM: Cancer\n",
      "Accuracy: 0.9385964912280702\n",
      "F1 Macro avg: 0.9260220635950681\n",
      "F1 Weighted avg: 0.9260220635950681\n"
     ]
    }
   ],
   "source": [
    "prediction_cancer_svm = svc_cancer.predict(X_test_cancer)\n",
    "print(\"SVM: Cancer\")\n",
    "print(\"Accuracy:\", metrics.accuracy_score(y_test_cancer, prediction_cancer_svm))\n",
    "print(\"F1 Macro avg:\", metrics.f1_score(y_test_cancer, prediction_cancer_svm, average=\"macro\"))\n",
    "print(\"F1 Weighted avg:\", metrics.f1_score(y_test_cancer, prediction_cancer_svm, average=\"macro\"))"
   ]
  },
  {
   "cell_type": "markdown",
   "id": "164fec40",
   "metadata": {},
   "source": [
    "## Analisis "
   ]
  },
  {
   "cell_type": "markdown",
   "id": "d044d9ba",
   "metadata": {},
   "source": [
    "### Perbandingan Nilai Akurasi dan F1 Score dari masing-masing Algoritma pada dataset Play Tennis"
   ]
  },
  {
   "cell_type": "markdown",
   "id": "4563b1d3",
   "metadata": {},
   "source": [
    "Setelah melakukan pembelajaran dengan beberapa algoritma di atas, nilai tertinggi untuk Accuracy diperoleh dengan menggunakan algoritma K-Means dan LogisticRegression yaitu sebesar 0.66. Untuk untuk F1 Score, nilai tertinggi diperoleh dengan menggunakan algoritma Logistic Regression sebesar 0.66 untuk macro average F1 dan weighted average F1.\n",
    "Sedangkan nilai terendah untuk dataset Play Tennis didapat dengan keempat algoritma lainnya yaitu Decision Tree, Neural Network, ID3, dan SVM dengan skor 0.333 untuk Accuracy dan 0.25 / 0.167 untuk F1 Macro / Weighted average."
   ]
  },
  {
   "cell_type": "markdown",
   "id": "d8fc61cc",
   "metadata": {},
   "source": [
    "### Perbandingan Nilai Akurasi dan F1 Score dari masing-masing Algoritma pada dataset Breast Cancer"
   ]
  },
  {
   "cell_type": "markdown",
   "id": "9737d106",
   "metadata": {},
   "source": [
    "Setelah melakukan pembelajaran dengan beberapa algoritma di atas, didapatkan nilai tertinggi dengan menggunakan Neural Network dan LogisticRegression dengan 0.956 untuk Accuracy, 0.948 untuk F1 Macro avg, dan 0.956 untuk F1 Weighted avg. Sedangkan yang terendah didapat dengan pembelajaran KMeans dengan 0.105 untuk Accuracy, 0.098 untuk F1 Macro avg, dan 0.066 untuk F1 Weighted avg."
   ]
  },
  {
   "cell_type": "markdown",
   "id": "0602b065",
   "metadata": {},
   "source": [
    "### Kesimpulan"
   ]
  },
  {
   "cell_type": "markdown",
   "id": "38374d90",
   "metadata": {},
   "source": [
    "Dengan melihat hasil atau nilai yang dihasilkan dari pembelajaran berbagai algoritma, kami melihat pola di mana skor yang dihasilkan untuk dataset breast cancer relatif lebih besar daripada untuk dataset play tennis. Hal ini kami asumsikan dikarenakan jumlah data yang sangat jauh berbeda di mana dataset breast cancer memiliki jumlah data yang banyak sedangkan data play tennis memiliki jumlah data yang sedikit sehingga proses pembelajaran untuk data play tennis kurang maksimal."
   ]
  }
 ],
 "metadata": {
  "kernelspec": {
   "display_name": "Python 3 (ipykernel)",
   "language": "python",
   "name": "python3"
  },
  "language_info": {
   "codemirror_mode": {
    "name": "ipython",
    "version": 3
   },
   "file_extension": ".py",
   "mimetype": "text/x-python",
   "name": "python",
   "nbconvert_exporter": "python",
   "pygments_lexer": "ipython3",
   "version": "3.9.1"
  }
 },
 "nbformat": 4,
 "nbformat_minor": 5
}
