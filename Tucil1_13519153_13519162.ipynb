{
 "cells": [
  {
   "cell_type": "code",
   "execution_count": 208,
   "id": "39460860",
   "metadata": {},
   "outputs": [],
   "source": [
    "from sklearn import datasets, tree, model_selection, preprocessing, metrics"
   ]
  },
  {
   "cell_type": "code",
   "execution_count": 209,
   "id": "3c8706d5",
   "metadata": {},
   "outputs": [],
   "source": [
    "import pandas as pd"
   ]
  },
  {
   "cell_type": "code",
   "execution_count": 210,
   "id": "f53ee447",
   "metadata": {},
   "outputs": [],
   "source": [
    "#load data from sklearn.datasets\n",
    "cancer = datasets.load_breast_cancer()"
   ]
  },
  {
   "cell_type": "code",
   "execution_count": 211,
   "id": "ff1bf404",
   "metadata": {
    "scrolled": true
   },
   "outputs": [],
   "source": [
    "#load data from csv file\n",
    "tennis = pd.read_csv('play_tennis.csv')"
   ]
  },
  {
   "cell_type": "code",
   "execution_count": 212,
   "id": "9d757231",
   "metadata": {},
   "outputs": [],
   "source": [
    "#transform label for tennis\n",
    "le = preprocessing.LabelEncoder()\n",
    "\n",
    "tennis = tennis.drop('day', axis = 1) #----> day perlu dimasukkan sebagai data training gak ya?\n",
    "#tennis['day'] = le.fit_transform(tennis['day']) #kalau day gamasuk line ini hapus\n",
    "tennis['outlook'] = le.fit_transform(tennis['outlook'])\n",
    "tennis['temp'] = le.fit_transform(tennis['temp'])\n",
    "tennis['humidity'] = le.fit_transform(tennis['humidity'])\n",
    "tennis['wind'] = le.fit_transform(tennis['wind'])\n",
    "tennis['play'] = le.fit_transform(tennis['play'])"
   ]
  },
  {
   "cell_type": "code",
   "execution_count": 213,
   "id": "8eb44d25",
   "metadata": {},
   "outputs": [],
   "source": [
    "X_cancer = cancer.data\n",
    "y_cancer = cancer.target"
   ]
  },
  {
   "cell_type": "code",
   "execution_count": 214,
   "id": "004ab270",
   "metadata": {},
   "outputs": [],
   "source": [
    "X_tennis = tennis.drop('play', axis = 1)\n",
    "y_tennis = tennis.play"
   ]
  },
  {
   "cell_type": "code",
   "execution_count": 255,
   "id": "b5aefc98",
   "metadata": {},
   "outputs": [],
   "source": [
    "#Set training data to 80% and test data to 20% for cancer\n",
    "X_train_cancer, X_test_cancer, y_train_cancer, y_test_cancer = model_selection.train_test_split(X_cancer[:,0:4],y_cancer,test_size=0.2,shuffle=True)"
   ]
  },
  {
   "cell_type": "code",
   "execution_count": 256,
   "id": "6e862a55",
   "metadata": {},
   "outputs": [],
   "source": [
    "#Set training data to 80% and test data to 20% for tennis\n",
    "X_train_tennis, X_test_tennis, y_train_tennis, y_test_tennis = model_selection.train_test_split(X_tennis,y_tennis,test_size=0.2,shuffle=True)"
   ]
  },
  {
   "cell_type": "code",
   "execution_count": 257,
   "id": "0dbef8ca",
   "metadata": {},
   "outputs": [],
   "source": [
    "##############################\n",
    "## DECISION TREE CLASSIFIER ##\n",
    "##############################\n",
    "decision_tree = tree.DecisionTreeClassifier(criterion='entropy', max_depth=20)"
   ]
  },
  {
   "cell_type": "code",
   "execution_count": 262,
   "id": "d2946daa",
   "metadata": {},
   "outputs": [
    {
     "name": "stdout",
     "output_type": "stream",
     "text": [
      "|--- feature_2 <= 0.50\n",
      "|   |--- feature_0 <= 1.00\n",
      "|   |   |--- class: 1\n",
      "|   |--- feature_0 >  1.00\n",
      "|   |   |--- class: 0\n",
      "|--- feature_2 >  0.50\n",
      "|   |--- feature_3 <= 0.50\n",
      "|   |   |--- feature_0 <= 0.50\n",
      "|   |   |   |--- class: 1\n",
      "|   |   |--- feature_0 >  0.50\n",
      "|   |   |   |--- feature_0 <= 1.50\n",
      "|   |   |   |   |--- class: 0\n",
      "|   |   |   |--- feature_0 >  1.50\n",
      "|   |   |   |   |--- class: 1\n",
      "|   |--- feature_3 >  0.50\n",
      "|   |   |--- class: 1\n",
      "\n"
     ]
    }
   ],
   "source": [
    "#decision tree for tennis\n",
    "decision_tree_tennis = decision_tree.fit(X_train_tennis, y_train_tennis)\n",
    "r_tennis = tree.export_text(decision_tree_tennis)\n",
    "print(r_tennis)"
   ]
  },
  {
   "cell_type": "code",
   "execution_count": 263,
   "id": "3a522347",
   "metadata": {},
   "outputs": [
    {
     "name": "stdout",
     "output_type": "stream",
     "text": [
      "Decision Tree Classifier: Tennis\n",
      "Accuracy: 0.6666666666666666\n",
      "F1: 0.4\n"
     ]
    }
   ],
   "source": [
    "prediction_tennis_decisionTreeClassifier = decision_tree_tennis.predict(X_test_tennis)\n",
    "print(\"Decision Tree Classifier: Tennis\")\n",
    "print(\"Accuracy:\", metrics.accuracy_score(y_test_tennis, prediction_tennis_decisionTreeClassifier))\n",
    "print(\"F1:\", metrics.f1_score(y_test_tennis, prediction_tennis_decisionTreeClassifier, average=\"macro\"))"
   ]
  },
  {
   "cell_type": "code",
   "execution_count": 266,
   "id": "a93f7690",
   "metadata": {},
   "outputs": [
    {
     "name": "stdout",
     "output_type": "stream",
     "text": [
      "|--- feature_3 <= 697.80\n",
      "|   |--- feature_2 <= 85.25\n",
      "|   |   |--- feature_2 <= 71.85\n",
      "|   |   |   |--- class: 1\n",
      "|   |   |--- feature_2 >  71.85\n",
      "|   |   |   |--- feature_3 <= 386.20\n",
      "|   |   |   |   |--- feature_1 <= 16.11\n",
      "|   |   |   |   |   |--- class: 1\n",
      "|   |   |   |   |--- feature_1 >  16.11\n",
      "|   |   |   |   |   |--- class: 0\n",
      "|   |   |   |--- feature_3 >  386.20\n",
      "|   |   |   |   |--- feature_1 <= 22.45\n",
      "|   |   |   |   |   |--- feature_3 <= 477.20\n",
      "|   |   |   |   |   |   |--- feature_3 <= 476.90\n",
      "|   |   |   |   |   |   |   |--- feature_0 <= 11.85\n",
      "|   |   |   |   |   |   |   |   |--- feature_3 <= 430.00\n",
      "|   |   |   |   |   |   |   |   |   |--- class: 1\n",
      "|   |   |   |   |   |   |   |   |--- feature_3 >  430.00\n",
      "|   |   |   |   |   |   |   |   |   |--- feature_3 <= 431.95\n",
      "|   |   |   |   |   |   |   |   |   |   |--- feature_2 <= 75.13\n",
      "|   |   |   |   |   |   |   |   |   |   |   |--- class: 0\n",
      "|   |   |   |   |   |   |   |   |   |   |--- feature_2 >  75.13\n",
      "|   |   |   |   |   |   |   |   |   |   |   |--- class: 1\n",
      "|   |   |   |   |   |   |   |   |   |--- feature_3 >  431.95\n",
      "|   |   |   |   |   |   |   |   |   |   |--- class: 0\n",
      "|   |   |   |   |   |   |   |--- feature_0 >  11.85\n",
      "|   |   |   |   |   |   |   |   |--- class: 1\n",
      "|   |   |   |   |   |   |--- feature_3 >  476.90\n",
      "|   |   |   |   |   |   |   |--- class: 0\n",
      "|   |   |   |   |   |--- feature_3 >  477.20\n",
      "|   |   |   |   |   |   |--- class: 1\n",
      "|   |   |   |   |--- feature_1 >  22.45\n",
      "|   |   |   |   |   |--- feature_1 <= 23.89\n",
      "|   |   |   |   |   |   |--- class: 0\n",
      "|   |   |   |   |   |--- feature_1 >  23.89\n",
      "|   |   |   |   |   |   |--- feature_2 <= 83.24\n",
      "|   |   |   |   |   |   |   |--- class: 1\n",
      "|   |   |   |   |   |   |--- feature_2 >  83.24\n",
      "|   |   |   |   |   |   |   |--- feature_0 <= 12.84\n",
      "|   |   |   |   |   |   |   |   |--- class: 0\n",
      "|   |   |   |   |   |   |   |--- feature_0 >  12.84\n",
      "|   |   |   |   |   |   |   |   |--- class: 1\n",
      "|   |--- feature_2 >  85.25\n",
      "|   |   |--- feature_1 <= 19.94\n",
      "|   |   |   |--- feature_1 <= 15.45\n",
      "|   |   |   |   |--- class: 1\n",
      "|   |   |   |--- feature_1 >  15.45\n",
      "|   |   |   |   |--- feature_0 <= 13.26\n",
      "|   |   |   |   |   |--- feature_2 <= 85.81\n",
      "|   |   |   |   |   |   |--- class: 1\n",
      "|   |   |   |   |   |--- feature_2 >  85.81\n",
      "|   |   |   |   |   |   |--- class: 0\n",
      "|   |   |   |   |--- feature_0 >  13.26\n",
      "|   |   |   |   |   |--- feature_2 <= 90.37\n",
      "|   |   |   |   |   |   |--- class: 1\n",
      "|   |   |   |   |   |--- feature_2 >  90.37\n",
      "|   |   |   |   |   |   |--- feature_0 <= 14.12\n",
      "|   |   |   |   |   |   |   |--- class: 0\n",
      "|   |   |   |   |   |   |--- feature_0 >  14.12\n",
      "|   |   |   |   |   |   |   |--- feature_2 <= 96.53\n",
      "|   |   |   |   |   |   |   |   |--- class: 1\n",
      "|   |   |   |   |   |   |   |--- feature_2 >  96.53\n",
      "|   |   |   |   |   |   |   |   |--- feature_1 <= 18.17\n",
      "|   |   |   |   |   |   |   |   |   |--- feature_0 <= 15.03\n",
      "|   |   |   |   |   |   |   |   |   |   |--- class: 0\n",
      "|   |   |   |   |   |   |   |   |   |--- feature_0 >  15.03\n",
      "|   |   |   |   |   |   |   |   |   |   |--- class: 1\n",
      "|   |   |   |   |   |   |   |   |--- feature_1 >  18.17\n",
      "|   |   |   |   |   |   |   |   |   |--- class: 1\n",
      "|   |   |--- feature_1 >  19.94\n",
      "|   |   |   |--- feature_1 <= 24.98\n",
      "|   |   |   |   |--- feature_0 <= 14.86\n",
      "|   |   |   |   |   |--- feature_2 <= 90.21\n",
      "|   |   |   |   |   |   |--- feature_0 <= 13.61\n",
      "|   |   |   |   |   |   |   |--- feature_2 <= 87.24\n",
      "|   |   |   |   |   |   |   |   |--- feature_2 <= 86.60\n",
      "|   |   |   |   |   |   |   |   |   |--- class: 0\n",
      "|   |   |   |   |   |   |   |   |--- feature_2 >  86.60\n",
      "|   |   |   |   |   |   |   |   |   |--- class: 1\n",
      "|   |   |   |   |   |   |   |--- feature_2 >  87.24\n",
      "|   |   |   |   |   |   |   |   |--- class: 0\n",
      "|   |   |   |   |   |   |--- feature_0 >  13.61\n",
      "|   |   |   |   |   |   |   |--- class: 1\n",
      "|   |   |   |   |   |--- feature_2 >  90.21\n",
      "|   |   |   |   |   |   |--- feature_3 <= 614.55\n",
      "|   |   |   |   |   |   |   |--- class: 0\n",
      "|   |   |   |   |   |   |--- feature_3 >  614.55\n",
      "|   |   |   |   |   |   |   |--- feature_0 <= 14.22\n",
      "|   |   |   |   |   |   |   |   |--- class: 1\n",
      "|   |   |   |   |   |   |   |--- feature_0 >  14.22\n",
      "|   |   |   |   |   |   |   |   |--- feature_1 <= 22.61\n",
      "|   |   |   |   |   |   |   |   |   |--- class: 0\n",
      "|   |   |   |   |   |   |   |   |--- feature_1 >  22.61\n",
      "|   |   |   |   |   |   |   |   |   |--- feature_3 <= 663.70\n",
      "|   |   |   |   |   |   |   |   |   |   |--- class: 1\n",
      "|   |   |   |   |   |   |   |   |   |--- feature_3 >  663.70\n",
      "|   |   |   |   |   |   |   |   |   |   |--- class: 0\n",
      "|   |   |   |   |--- feature_0 >  14.86\n",
      "|   |   |   |   |   |--- class: 1\n",
      "|   |   |   |--- feature_1 >  24.98\n",
      "|   |   |   |   |--- feature_2 <= 96.27\n",
      "|   |   |   |   |   |--- class: 1\n",
      "|   |   |   |   |--- feature_2 >  96.27\n",
      "|   |   |   |   |   |--- class: 0\n",
      "|--- feature_3 >  697.80\n",
      "|   |--- feature_1 <= 16.11\n",
      "|   |   |--- feature_2 <= 114.80\n",
      "|   |   |   |--- feature_0 <= 16.09\n",
      "|   |   |   |   |--- feature_1 <= 14.10\n",
      "|   |   |   |   |   |--- feature_3 <= 742.05\n",
      "|   |   |   |   |   |   |--- feature_2 <= 100.08\n",
      "|   |   |   |   |   |   |   |--- class: 1\n",
      "|   |   |   |   |   |   |--- feature_2 >  100.08\n",
      "|   |   |   |   |   |   |   |--- class: 0\n",
      "|   |   |   |   |   |--- feature_3 >  742.05\n",
      "|   |   |   |   |   |   |--- class: 1\n",
      "|   |   |   |   |--- feature_1 >  14.10\n",
      "|   |   |   |   |   |--- class: 0\n",
      "|   |   |   |--- feature_0 >  16.09\n",
      "|   |   |   |   |--- class: 1\n",
      "|   |   |--- feature_2 >  114.80\n",
      "|   |   |   |--- class: 0\n",
      "|   |--- feature_1 >  16.11\n",
      "|   |   |--- feature_1 <= 19.47\n",
      "|   |   |   |--- feature_1 <= 19.42\n",
      "|   |   |   |   |--- class: 0\n",
      "|   |   |   |--- feature_1 >  19.42\n",
      "|   |   |   |   |--- class: 1\n",
      "|   |   |--- feature_1 >  19.47\n",
      "|   |   |   |--- class: 0\n",
      "\n"
     ]
    }
   ],
   "source": [
    "#decision tree for cancer\n",
    "decision_tree_cancer = decision_tree.fit(X_train_cancer, y_train_cancer)\n",
    "r_cancer = tree.export_text(decision_tree_cancer)\n",
    "print(r_cancer)"
   ]
  },
  {
   "cell_type": "code",
   "execution_count": 267,
   "id": "1c88f2bc",
   "metadata": {},
   "outputs": [
    {
     "name": "stdout",
     "output_type": "stream",
     "text": [
      "Decision Tree Classifier: Cancer\n",
      "Accuracy: 0.9210526315789473\n",
      "F1: 0.9170641015277665\n"
     ]
    }
   ],
   "source": [
    "prediction_cancer_decisionTreeClassifier = decision_tree_cancer.predict(X_test_cancer)\n",
    "print(\"Decision Tree Classifier: Cancer\")\n",
    "print(\"Accuracy:\", metrics.accuracy_score(y_test_cancer, prediction_cancer_decisionTreeClassifier))\n",
    "print(\"F1:\", metrics.f1_score(y_test_cancer, prediction_cancer_decisionTreeClassifier, average=\"macro\"))"
   ]
  },
  {
   "cell_type": "code",
   "execution_count": null,
   "id": "dd9dfcaa",
   "metadata": {},
   "outputs": [],
   "source": []
  }
 ],
 "metadata": {
  "kernelspec": {
   "display_name": "Python 3 (ipykernel)",
   "language": "python",
   "name": "python3"
  },
  "language_info": {
   "codemirror_mode": {
    "name": "ipython",
    "version": 3
   },
   "file_extension": ".py",
   "mimetype": "text/x-python",
   "name": "python",
   "nbconvert_exporter": "python",
   "pygments_lexer": "ipython3",
   "version": "3.9.1"
  }
 },
 "nbformat": 4,
 "nbformat_minor": 5
}
