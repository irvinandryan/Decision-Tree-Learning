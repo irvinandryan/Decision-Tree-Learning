{
 "cells": [
  {
   "cell_type": "markdown",
   "id": "368f5590",
   "metadata": {},
   "source": [
    "# Tucil 1 IF3270 Machine Learning"
   ]
  },
  {
   "cell_type": "markdown",
   "id": "62cec6eb",
   "metadata": {},
   "source": [
    "### 13519153 Maximillian Lukman - 13519162 Irvin Andryan Pratomo"
   ]
  },
  {
   "cell_type": "code",
   "execution_count": 217,
   "id": "39460860",
   "metadata": {},
   "outputs": [],
   "source": [
    "from sklearn import datasets, tree, model_selection, preprocessing, metrics, svm, cluster, linear_model, neural_network"
   ]
  },
  {
   "cell_type": "code",
   "execution_count": 218,
   "id": "02ba994b",
   "metadata": {},
   "outputs": [],
   "source": [
    "import six\n",
    "import sys\n",
    "sys.modules['sklearn.externals.six'] = six"
   ]
  },
  {
   "cell_type": "code",
   "execution_count": 219,
   "id": "ac31b383",
   "metadata": {},
   "outputs": [],
   "source": [
    "from id3 import Id3Estimator, export_text"
   ]
  },
  {
   "cell_type": "code",
   "execution_count": 220,
   "id": "3c8706d5",
   "metadata": {},
   "outputs": [],
   "source": [
    "import pandas as pd"
   ]
  },
  {
   "cell_type": "code",
   "execution_count": 221,
   "id": "f53ee447",
   "metadata": {},
   "outputs": [],
   "source": [
    "#load data from sklearn.datasets\n",
    "cancer = datasets.load_breast_cancer()"
   ]
  },
  {
   "cell_type": "code",
   "execution_count": 222,
   "id": "ff1bf404",
   "metadata": {
    "scrolled": true
   },
   "outputs": [],
   "source": [
    "#load data from csv file\n",
    "tennis = pd.read_csv('play_tennis.csv')"
   ]
  },
  {
   "cell_type": "code",
   "execution_count": 223,
   "id": "9d757231",
   "metadata": {},
   "outputs": [],
   "source": [
    "#transform label for tennis\n",
    "le = preprocessing.LabelEncoder()\n",
    "\n",
    "#tennis = tennis.drop('day', axis = 1) #----> day perlu dimasukkan sebagai data training gak ya?\n",
    "tennis['day'] = le.fit_transform(tennis['day']) #kalau day gamasuk line ini hapus\n",
    "tennis['outlook'] = le.fit_transform(tennis['outlook'])\n",
    "tennis['temp'] = le.fit_transform(tennis['temp'])\n",
    "tennis['humidity'] = le.fit_transform(tennis['humidity'])\n",
    "tennis['wind'] = le.fit_transform(tennis['wind'])\n",
    "tennis['play'] = le.fit_transform(tennis['play'])"
   ]
  },
  {
   "cell_type": "code",
   "execution_count": 224,
   "id": "8eb44d25",
   "metadata": {},
   "outputs": [],
   "source": [
    "X_cancer = cancer.data\n",
    "y_cancer = cancer.target"
   ]
  },
  {
   "cell_type": "code",
   "execution_count": 225,
   "id": "004ab270",
   "metadata": {},
   "outputs": [],
   "source": [
    "X_tennis = tennis.drop('play', axis = 1)\n",
    "y_tennis = tennis.play"
   ]
  },
  {
   "cell_type": "code",
   "execution_count": 226,
   "id": "b5aefc98",
   "metadata": {},
   "outputs": [],
   "source": [
    "#Set training data to 80% and test data to 20% for cancer\n",
    "X_train_cancer, X_test_cancer, y_train_cancer, y_test_cancer = model_selection.train_test_split(X_cancer,y_cancer,test_size=0.2,shuffle=True)"
   ]
  },
  {
   "cell_type": "code",
   "execution_count": 227,
   "id": "6e862a55",
   "metadata": {},
   "outputs": [],
   "source": [
    "#Set training data to 80% and test data to 20% for tennis\n",
    "X_train_tennis, X_test_tennis, y_train_tennis, y_test_tennis = model_selection.train_test_split(X_tennis,y_tennis,test_size=0.2,shuffle=True)"
   ]
  },
  {
   "cell_type": "markdown",
   "id": "b96485c5",
   "metadata": {},
   "source": [
    "## Decision Tree Classifier"
   ]
  },
  {
   "cell_type": "code",
   "execution_count": 228,
   "id": "0dbef8ca",
   "metadata": {},
   "outputs": [],
   "source": [
    "decision_tree = tree.DecisionTreeClassifier(criterion='entropy', max_depth=20)"
   ]
  },
  {
   "cell_type": "code",
   "execution_count": 229,
   "id": "d2946daa",
   "metadata": {},
   "outputs": [
    {
     "name": "stdout",
     "output_type": "stream",
     "text": [
      "|--- feature_3 <= 0.50\n",
      "|   |--- feature_1 <= 0.50\n",
      "|   |   |--- class: 1\n",
      "|   |--- feature_1 >  0.50\n",
      "|   |   |--- class: 0\n",
      "|--- feature_3 >  0.50\n",
      "|   |--- feature_0 <= 9.50\n",
      "|   |   |--- class: 1\n",
      "|   |--- feature_0 >  9.50\n",
      "|   |   |--- feature_0 <= 10.50\n",
      "|   |   |   |--- class: 0\n",
      "|   |   |--- feature_0 >  10.50\n",
      "|   |   |   |--- class: 1\n",
      "\n"
     ]
    }
   ],
   "source": [
    "#decision tree for tennis\n",
    "decision_tree_tennis = decision_tree.fit(X_train_tennis, y_train_tennis)\n",
    "r_tennis = tree.export_text(decision_tree_tennis)\n",
    "print(r_tennis)"
   ]
  },
  {
   "cell_type": "code",
   "execution_count": 230,
   "id": "3a522347",
   "metadata": {
    "scrolled": true
   },
   "outputs": [
    {
     "name": "stdout",
     "output_type": "stream",
     "text": [
      "Decision Tree Classifier: Tennis\n",
      "Accuracy: 0.6666666666666666\n",
      "F1 Macro avg: 0.4\n",
      "F1 Weighted avg: 0.8000000000000002\n"
     ]
    }
   ],
   "source": [
    "prediction_tennis_decisionTreeClassifier = decision_tree_tennis.predict(X_test_tennis)\n",
    "print(\"Decision Tree Classifier: Tennis\")\n",
    "print(\"Accuracy:\", metrics.accuracy_score(y_test_tennis, prediction_tennis_decisionTreeClassifier))\n",
    "print(\"F1 Macro avg:\", metrics.f1_score(y_test_tennis, prediction_tennis_decisionTreeClassifier, average=\"macro\"))\n",
    "print(\"F1 Weighted avg:\", metrics.f1_score(y_test_tennis, prediction_tennis_decisionTreeClassifier, average=\"weighted\"))"
   ]
  },
  {
   "cell_type": "code",
   "execution_count": 231,
   "id": "a93f7690",
   "metadata": {},
   "outputs": [
    {
     "name": "stdout",
     "output_type": "stream",
     "text": [
      "|--- feature_20 <= 16.79\n",
      "|   |--- feature_27 <= 0.14\n",
      "|   |   |--- feature_13 <= 38.60\n",
      "|   |   |   |--- feature_21 <= 30.15\n",
      "|   |   |   |   |--- class: 1\n",
      "|   |   |   |--- feature_21 >  30.15\n",
      "|   |   |   |   |--- feature_1 <= 23.20\n",
      "|   |   |   |   |   |--- feature_17 <= 0.01\n",
      "|   |   |   |   |   |   |--- feature_26 <= 0.16\n",
      "|   |   |   |   |   |   |   |--- class: 1\n",
      "|   |   |   |   |   |   |--- feature_26 >  0.16\n",
      "|   |   |   |   |   |   |   |--- class: 0\n",
      "|   |   |   |   |   |--- feature_17 >  0.01\n",
      "|   |   |   |   |   |   |--- class: 1\n",
      "|   |   |   |   |--- feature_1 >  23.20\n",
      "|   |   |   |   |   |--- class: 1\n",
      "|   |   |--- feature_13 >  38.60\n",
      "|   |   |   |--- feature_18 <= 0.03\n",
      "|   |   |   |   |--- feature_6 <= 0.02\n",
      "|   |   |   |   |   |--- class: 1\n",
      "|   |   |   |   |--- feature_6 >  0.02\n",
      "|   |   |   |   |   |--- class: 0\n",
      "|   |   |   |--- feature_18 >  0.03\n",
      "|   |   |   |   |--- class: 1\n",
      "|   |--- feature_27 >  0.14\n",
      "|   |   |--- feature_1 <= 20.30\n",
      "|   |   |   |--- feature_27 <= 0.18\n",
      "|   |   |   |   |--- feature_23 <= 730.70\n",
      "|   |   |   |   |   |--- class: 1\n",
      "|   |   |   |   |--- feature_23 >  730.70\n",
      "|   |   |   |   |   |--- feature_24 <= 0.14\n",
      "|   |   |   |   |   |   |--- class: 1\n",
      "|   |   |   |   |   |--- feature_24 >  0.14\n",
      "|   |   |   |   |   |   |--- class: 0\n",
      "|   |   |   |--- feature_27 >  0.18\n",
      "|   |   |   |   |--- class: 0\n",
      "|   |   |--- feature_1 >  20.30\n",
      "|   |   |   |--- class: 0\n",
      "|--- feature_20 >  16.79\n",
      "|   |--- feature_6 <= 0.07\n",
      "|   |   |--- feature_21 <= 26.01\n",
      "|   |   |   |--- class: 1\n",
      "|   |   |--- feature_21 >  26.01\n",
      "|   |   |   |--- feature_4 <= 0.07\n",
      "|   |   |   |   |--- class: 1\n",
      "|   |   |   |--- feature_4 >  0.07\n",
      "|   |   |   |   |--- class: 0\n",
      "|   |--- feature_6 >  0.07\n",
      "|   |   |--- class: 0\n",
      "\n"
     ]
    }
   ],
   "source": [
    "#decision tree for cancer\n",
    "decision_tree_cancer = decision_tree.fit(X_train_cancer, y_train_cancer)\n",
    "r_cancer = tree.export_text(decision_tree_cancer)\n",
    "print(r_cancer)"
   ]
  },
  {
   "cell_type": "code",
   "execution_count": 232,
   "id": "1c88f2bc",
   "metadata": {
    "scrolled": true
   },
   "outputs": [
    {
     "name": "stdout",
     "output_type": "stream",
     "text": [
      "Decision Tree Classifier: Cancer\n",
      "Accuracy: 0.9473684210526315\n",
      "F1 Macro avg: 0.9453324808184143\n",
      "F1 Weighted avg: 0.9479236774801454\n"
     ]
    }
   ],
   "source": [
    "prediction_cancer_decisionTreeClassifier = decision_tree_cancer.predict(X_test_cancer)\n",
    "print(\"Decision Tree Classifier: Cancer\")\n",
    "print(\"Accuracy:\", metrics.accuracy_score(y_test_cancer, prediction_cancer_decisionTreeClassifier))\n",
    "print(\"F1 Macro avg:\", metrics.f1_score(y_test_cancer, prediction_cancer_decisionTreeClassifier, average=\"macro\"))\n",
    "print(\"F1 Weighted avg:\", metrics.f1_score(y_test_cancer, prediction_cancer_decisionTreeClassifier, average=\"weighted\"))"
   ]
  },
  {
   "cell_type": "markdown",
   "id": "a282a633",
   "metadata": {},
   "source": [
    "## Id3Estimator"
   ]
  },
  {
   "cell_type": "code",
   "execution_count": 233,
   "id": "dd9dfcaa",
   "metadata": {},
   "outputs": [],
   "source": [
    "estimator = Id3Estimator()"
   ]
  },
  {
   "cell_type": "code",
   "execution_count": 234,
   "id": "5c80a89e",
   "metadata": {},
   "outputs": [],
   "source": [
    "estimator_tennis = estimator.fit(X_train_tennis, y_train_tennis)"
   ]
  },
  {
   "cell_type": "code",
   "execution_count": 235,
   "id": "74b72709",
   "metadata": {},
   "outputs": [
    {
     "name": "stdout",
     "output_type": "stream",
     "text": [
      "Id3Estimator: Tennis\n",
      "Accuracy: 0.3333333333333333\n",
      "F1 Macro avg: 0.25\n",
      "F1 Weighted avg: 0.5\n"
     ]
    }
   ],
   "source": [
    "prediction_tennis_Id3 = estimator_tennis.predict(X_test_tennis)\n",
    "print(\"Id3Estimator: Tennis\")\n",
    "print(\"Accuracy:\", metrics.accuracy_score(y_test_tennis, prediction_tennis_Id3))\n",
    "print(\"F1 Macro avg:\", metrics.f1_score(y_test_tennis, prediction_tennis_Id3, average=\"macro\"))\n",
    "print(\"F1 Weighted avg:\", metrics.f1_score(y_test_tennis, prediction_tennis_Id3, average=\"weighted\"))"
   ]
  },
  {
   "cell_type": "code",
   "execution_count": 236,
   "id": "3493c16f",
   "metadata": {},
   "outputs": [
    {
     "name": "stdout",
     "output_type": "stream",
     "text": [
      "\n",
      "3 <=0.50\n",
      "|   1 <=0.50: 1 (1) \n",
      "|   1 >0.50: 0 (4) \n",
      "3 >0.50\n",
      "|   0 <=9.50: 1 (4) \n",
      "|   0 >9.50\n",
      "|   |   1 <=0.50: 1 (1) \n",
      "|   |   1 >0.50: 0 (1) \n",
      "\n"
     ]
    }
   ],
   "source": [
    "estimator_tennis_tree = export_text(estimator_tennis.tree_)\n",
    "print(estimator_tennis_tree)"
   ]
  },
  {
   "cell_type": "code",
   "execution_count": 237,
   "id": "12142642",
   "metadata": {
    "scrolled": true
   },
   "outputs": [],
   "source": [
    "estimator_cancer = estimator.fit(X_train_cancer, y_train_cancer)"
   ]
  },
  {
   "cell_type": "code",
   "execution_count": 238,
   "id": "ad34338b",
   "metadata": {},
   "outputs": [
    {
     "name": "stdout",
     "output_type": "stream",
     "text": [
      "\n",
      "worst radius <=16.79\n",
      "|   worst concave points <=0.14\n",
      "|   |   area error <=38.60\n",
      "|   |   |   worst texture <=30.15: 1 (222) \n",
      "|   |   |   worst texture >30.15\n",
      "|   |   |   |   mean texture <=23.20\n",
      "|   |   |   |   |   mean compactness <=0.06\n",
      "|   |   |   |   |   |   mean radius <=12.48: 1 (1) \n",
      "|   |   |   |   |   |   mean radius >12.48: 0 (2) \n",
      "|   |   |   |   |   mean compactness >0.06: 1 (4) \n",
      "|   |   |   |   mean texture >23.20: 1 (26) \n",
      "|   |   area error >38.60\n",
      "|   |   |   symmetry error <=0.03\n",
      "|   |   |   |   mean texture <=26.67: 0 (3) \n",
      "|   |   |   |   mean texture >26.67: 1 (1) \n",
      "|   |   |   symmetry error >0.03: 1 (7) \n",
      "|   worst concave points >0.14\n",
      "|   |   mean texture <=20.30\n",
      "|   |   |   mean smoothness <=0.12\n",
      "|   |   |   |   area error <=21.94: 1 (11) \n",
      "|   |   |   |   area error >21.94\n",
      "|   |   |   |   |   perimeter error <=2.62: 0 (4) \n",
      "|   |   |   |   |   perimeter error >2.62: 1 (5) \n",
      "|   |   |   mean smoothness >0.12: 0 (3) \n",
      "|   |   mean texture >20.30: 0 (13) \n",
      "worst radius >16.79\n",
      "|   mean concavity <=0.07\n",
      "|   |   mean texture <=18.83: 1 (8) \n",
      "|   |   mean texture >18.83\n",
      "|   |   |   mean smoothness <=0.07: 1 (1) \n",
      "|   |   |   mean smoothness >0.07: 0 (8) \n",
      "|   mean concavity >0.07: 0 (136) \n",
      "\n"
     ]
    }
   ],
   "source": [
    "estimator_cancer_tree = export_text(estimator_cancer.tree_, cancer['feature_names'])\n",
    "print(estimator_cancer_tree)"
   ]
  },
  {
   "cell_type": "code",
   "execution_count": 239,
   "id": "e78be65a",
   "metadata": {},
   "outputs": [
    {
     "name": "stdout",
     "output_type": "stream",
     "text": [
      "Id3Estimator: Cancer\n",
      "Accuracy: 0.956140350877193\n",
      "F1 Macro avg: 0.9542792973449907\n",
      "F1 Weighted avg: 0.9565449277320195\n"
     ]
    }
   ],
   "source": [
    "prediction_cancer_Id3 = estimator_cancer.predict(X_test_cancer)\n",
    "print(\"Id3Estimator: Cancer\")\n",
    "print(\"Accuracy:\", metrics.accuracy_score(y_test_cancer, prediction_cancer_Id3))\n",
    "print(\"F1 Macro avg:\", metrics.f1_score(y_test_cancer, prediction_cancer_Id3, average=\"macro\"))\n",
    "print(\"F1 Weighted avg:\", metrics.f1_score(y_test_cancer, prediction_cancer_Id3, average=\"weighted\"))"
   ]
  },
  {
   "cell_type": "markdown",
   "id": "a741737f",
   "metadata": {},
   "source": [
    "## K-Means"
   ]
  },
  {
   "cell_type": "code",
   "execution_count": 245,
   "id": "7935429f",
   "metadata": {},
   "outputs": [],
   "source": [
    "kmeans = cluster.KMeans()"
   ]
  },
  {
   "cell_type": "code",
   "execution_count": 246,
   "id": "6be55230",
   "metadata": {},
   "outputs": [],
   "source": [
    "kmeans_tennis = kmeans.fit(X_train_tennis,y_train_tennis)"
   ]
  },
  {
   "cell_type": "code",
   "execution_count": 247,
   "id": "518e7728",
   "metadata": {},
   "outputs": [
    {
     "name": "stdout",
     "output_type": "stream",
     "text": [
      "K-Means: Tennis\n",
      "Accuracy: 0.0\n",
      "F1 Macro avg: 0.0\n",
      "F1 Weighted avg: 0.0\n"
     ]
    }
   ],
   "source": [
    "prediction_tennis_kmeans = kmeans_tennis.predict(X_test_tennis)\n",
    "print(\"K-Means: Tennis\")\n",
    "print(\"Accuracy:\", metrics.accuracy_score(y_test_tennis, prediction_tennis_kmeans))\n",
    "print(\"F1 Macro avg:\", metrics.f1_score(y_test_tennis, prediction_tennis_kmeans, average=\"macro\"))\n",
    "print(\"F1 Weighted avg:\", metrics.f1_score(y_test_tennis, prediction_tennis_kmeans, average=\"weighted\"))"
   ]
  },
  {
   "cell_type": "code",
   "execution_count": 248,
   "id": "8662ffff",
   "metadata": {},
   "outputs": [],
   "source": [
    "kmeans_cancer = kmeans.fit(X_train_cancer,y_train_cancer)"
   ]
  },
  {
   "cell_type": "code",
   "execution_count": 249,
   "id": "829c632e",
   "metadata": {},
   "outputs": [
    {
     "name": "stdout",
     "output_type": "stream",
     "text": [
      "K-Means: Cancer\n",
      "Accuracy: 0.0\n",
      "F1 Macro avg: 0.0\n",
      "F1 Weighted avg: 0.0\n"
     ]
    }
   ],
   "source": [
    "prediction_cancer_kmeans = kmeans_cancer.predict(X_test_cancer)\n",
    "print(\"K-Means: Cancer\")\n",
    "print(\"Accuracy:\", metrics.accuracy_score(y_test_cancer, prediction_cancer_kmeans))\n",
    "print(\"F1 Macro avg:\", metrics.f1_score(y_test_cancer, prediction_cancer_kmeans, average=\"macro\"))\n",
    "print(\"F1 Weighted avg:\", metrics.f1_score(y_test_cancer, prediction_cancer_kmeans, average=\"weighted\"))"
   ]
  },
  {
   "cell_type": "markdown",
   "id": "761716f9",
   "metadata": {},
   "source": [
    "## Logistic Regression"
   ]
  },
  {
   "cell_type": "code",
   "execution_count": 250,
   "id": "5eefbc81",
   "metadata": {},
   "outputs": [],
   "source": [
    "lr = linear_model.LogisticRegression(class_weight='balanced')"
   ]
  },
  {
   "cell_type": "code",
   "execution_count": 251,
   "id": "75b4186f",
   "metadata": {},
   "outputs": [],
   "source": [
    "lr_tennis = lr.fit(X_train_tennis,y_train_tennis)"
   ]
  },
  {
   "cell_type": "code",
   "execution_count": 252,
   "id": "520c1aee",
   "metadata": {},
   "outputs": [
    {
     "name": "stdout",
     "output_type": "stream",
     "text": [
      "Logistic Regression: Tennis\n",
      "Accuracy: 0.3333333333333333\n",
      "F1 Macro avg: 0.25\n",
      "F1 Weighted avg: 0.5\n"
     ]
    }
   ],
   "source": [
    "prediction_tennis_lr = lr_tennis.predict(X_test_tennis)\n",
    "print(\"Logistic Regression: Tennis\")\n",
    "print(\"Accuracy:\", metrics.accuracy_score(y_test_tennis, prediction_tennis_lr))\n",
    "print(\"F1 Macro avg:\", metrics.f1_score(y_test_tennis, prediction_tennis_lr, average=\"macro\"))\n",
    "print(\"F1 Weighted avg:\", metrics.f1_score(y_test_tennis, prediction_tennis_lr, average=\"weighted\"))"
   ]
  },
  {
   "cell_type": "code",
   "execution_count": 253,
   "id": "bf0045c6",
   "metadata": {},
   "outputs": [
    {
     "name": "stderr",
     "output_type": "stream",
     "text": [
      "/Library/Frameworks/Python.framework/Versions/3.9/lib/python3.9/site-packages/sklearn/linear_model/_logistic.py:814: ConvergenceWarning: lbfgs failed to converge (status=1):\n",
      "STOP: TOTAL NO. of ITERATIONS REACHED LIMIT.\n",
      "\n",
      "Increase the number of iterations (max_iter) or scale the data as shown in:\n",
      "    https://scikit-learn.org/stable/modules/preprocessing.html\n",
      "Please also refer to the documentation for alternative solver options:\n",
      "    https://scikit-learn.org/stable/modules/linear_model.html#logistic-regression\n",
      "  n_iter_i = _check_optimize_result(\n"
     ]
    }
   ],
   "source": [
    "lr_cancer = lr.fit(X_train_cancer,y_train_cancer)"
   ]
  },
  {
   "cell_type": "code",
   "execution_count": 254,
   "id": "df986ca0",
   "metadata": {},
   "outputs": [
    {
     "name": "stdout",
     "output_type": "stream",
     "text": [
      "Logistic Regression: Cancer\n",
      "Accuracy: 0.9473684210526315\n",
      "F1 Macro avg: 0.9439895185063871\n",
      "F1 Weighted avg: 0.9473684210526315\n"
     ]
    }
   ],
   "source": [
    "prediction_cancer_lr = lr_cancer.predict(X_test_cancer)\n",
    "print(\"Logistic Regression: Cancer\")\n",
    "print(\"Accuracy:\", metrics.accuracy_score(y_test_cancer, prediction_cancer_lr))\n",
    "print(\"F1 Macro avg:\", metrics.f1_score(y_test_cancer, prediction_cancer_lr, average=\"macro\"))\n",
    "print(\"F1 Weighted avg:\", metrics.f1_score(y_test_cancer, prediction_cancer_lr, average=\"weighted\"))"
   ]
  },
  {
   "cell_type": "markdown",
   "id": "efa73fff",
   "metadata": {},
   "source": [
    "## Neural Network"
   ]
  },
  {
   "cell_type": "code",
   "execution_count": 255,
   "id": "30246599",
   "metadata": {},
   "outputs": [],
   "source": [
    "neural = neural_network.MLPClassifier(max_iter=1000)"
   ]
  },
  {
   "cell_type": "code",
   "execution_count": 256,
   "id": "51c28077",
   "metadata": {},
   "outputs": [],
   "source": [
    "neural_tennis = neural.fit(X_train_tennis,y_train_tennis)"
   ]
  },
  {
   "cell_type": "code",
   "execution_count": 257,
   "id": "580ce76b",
   "metadata": {},
   "outputs": [
    {
     "name": "stdout",
     "output_type": "stream",
     "text": [
      "Neural Network: Tennis\n",
      "Accuracy: 0.6666666666666666\n",
      "F1 Macro avg: 0.4\n",
      "F1 Weighted: 0.8000000000000002\n"
     ]
    }
   ],
   "source": [
    "prediction_tennis_neural = neural_tennis.predict(X_test_tennis)\n",
    "print(\"Neural Network: Tennis\")\n",
    "print(\"Accuracy:\", metrics.accuracy_score(y_test_tennis, prediction_tennis_neural))\n",
    "print(\"F1 Macro avg:\", metrics.f1_score(y_test_tennis, prediction_tennis_neural, average=\"macro\"))\n",
    "print(\"F1 Weighted:\", metrics.f1_score(y_test_tennis, prediction_tennis_neural, average=\"weighted\"))"
   ]
  },
  {
   "cell_type": "code",
   "execution_count": 258,
   "id": "616c76de",
   "metadata": {},
   "outputs": [],
   "source": [
    "neural_cancer = neural.fit(X_train_cancer,y_train_cancer)"
   ]
  },
  {
   "cell_type": "code",
   "execution_count": 259,
   "id": "4e6295fa",
   "metadata": {},
   "outputs": [
    {
     "name": "stdout",
     "output_type": "stream",
     "text": [
      "Neural Network: Cancer\n",
      "Accuracy: 0.9473684210526315\n",
      "F1 Macro avg: 0.9434523809523809\n",
      "F1 Weighted avg: 0.947107351712615\n"
     ]
    }
   ],
   "source": [
    "prediction_cancer_neural = neural_cancer.predict(X_test_cancer)\n",
    "print(\"Neural Network: Cancer\")\n",
    "print(\"Accuracy:\", metrics.accuracy_score(y_test_cancer, prediction_cancer_neural))\n",
    "print(\"F1 Macro avg:\", metrics.f1_score(y_test_cancer, prediction_cancer_neural, average=\"macro\"))\n",
    "print(\"F1 Weighted avg:\", metrics.f1_score(y_test_cancer, prediction_cancer_neural, average=\"weighted\"))"
   ]
  },
  {
   "cell_type": "markdown",
   "id": "20d2ee63",
   "metadata": {},
   "source": [
    "## SVM"
   ]
  },
  {
   "cell_type": "code",
   "execution_count": 260,
   "id": "90fb6734",
   "metadata": {},
   "outputs": [],
   "source": [
    "svc = svm.SVC()"
   ]
  },
  {
   "cell_type": "code",
   "execution_count": 261,
   "id": "41936378",
   "metadata": {},
   "outputs": [],
   "source": [
    "svc_tennis = svc.fit(X_train_tennis,y_train_tennis)"
   ]
  },
  {
   "cell_type": "code",
   "execution_count": 262,
   "id": "81144a7f",
   "metadata": {},
   "outputs": [
    {
     "name": "stdout",
     "output_type": "stream",
     "text": [
      "SVM: Tennis\n",
      "Accuracy: 0.6666666666666666\n",
      "F1 Macro avg: 0.4\n",
      "F1 Weighted avg: 0.8000000000000002\n"
     ]
    }
   ],
   "source": [
    "prediction_tennis_svm = svc_tennis.predict(X_test_tennis)\n",
    "print(\"SVM: Tennis\")\n",
    "print(\"Accuracy:\", metrics.accuracy_score(y_test_tennis, prediction_tennis_svm))\n",
    "print(\"F1 Macro avg:\", metrics.f1_score(y_test_tennis, prediction_tennis_svm, average=\"macro\"))\n",
    "print(\"F1 Weighted avg:\", metrics.f1_score(y_test_tennis, prediction_tennis_svm, average=\"weighted\"))"
   ]
  },
  {
   "cell_type": "code",
   "execution_count": 263,
   "id": "054ac85d",
   "metadata": {},
   "outputs": [],
   "source": [
    "svc_cancer = svc.fit(X_train_cancer,y_train_cancer)"
   ]
  },
  {
   "cell_type": "code",
   "execution_count": 264,
   "id": "fffcffec",
   "metadata": {},
   "outputs": [
    {
     "name": "stdout",
     "output_type": "stream",
     "text": [
      "SVM: Cancer\n",
      "Accuracy: 0.9122807017543859\n",
      "F1 Macro avg: 0.9025641025641025\n",
      "F1 Weighted avg: 0.9025641025641025\n"
     ]
    }
   ],
   "source": [
    "prediction_cancer_svm = svc_cancer.predict(X_test_cancer)\n",
    "print(\"SVM: Cancer\")\n",
    "print(\"Accuracy:\", metrics.accuracy_score(y_test_cancer, prediction_cancer_svm))\n",
    "print(\"F1 Macro avg:\", metrics.f1_score(y_test_cancer, prediction_cancer_svm, average=\"macro\"))\n",
    "print(\"F1 Weighted avg:\", metrics.f1_score(y_test_cancer, prediction_cancer_svm, average=\"macro\"))"
   ]
  }
 ],
 "metadata": {
  "kernelspec": {
   "display_name": "Python 3 (ipykernel)",
   "language": "python",
   "name": "python3"
  },
  "language_info": {
   "codemirror_mode": {
    "name": "ipython",
    "version": 3
   },
   "file_extension": ".py",
   "mimetype": "text/x-python",
   "name": "python",
   "nbconvert_exporter": "python",
   "pygments_lexer": "ipython3",
   "version": "3.9.1"
  }
 },
 "nbformat": 4,
 "nbformat_minor": 5
}
